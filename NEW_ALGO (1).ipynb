{
  "cells": [
    {
      "cell_type": "markdown",
      "id": "817f7504",
      "metadata": {
        "id": "817f7504"
      },
      "source": [
        "# Predicting Sales Price of Old car using Regression"
      ]
    },
    {
      "cell_type": "markdown",
      "id": "8266dc2c",
      "metadata": {
        "id": "8266dc2c"
      },
      "source": [
        "The prices of new cars in the industry are fixed by the manufacturer with some additional costs incurred by the Government in the form of taxes. So, customers buying a new car can be assured of the money they invest to be worthy. But due to the increased price of new cars and the incapability of customers to buy new cars due to the lack of funds, used cars sales are on a globally increase. As per the reports from Auto Car India, in FY2022, the no of old car users has been increased in massive rate.\n",
        "There is a need for a used car price prediction system to effectively determine the worthiness of the car using a variety of features.\n"
      ]
    },
    {
      "cell_type": "code",
      "execution_count": 1,
      "id": "7d6e834a",
      "metadata": {
        "id": "7d6e834a"
      },
      "outputs": [],
      "source": [
        "import pandas as pd"
      ]
    },
    {
      "cell_type": "code",
      "execution_count": 2,
      "id": "8e0e6a67",
      "metadata": {
        "id": "8e0e6a67"
      },
      "outputs": [],
      "source": [
        "df=pd.read_csv(\"cardekho.csv\")"
      ]
    },
    {
      "cell_type": "code",
      "execution_count": 3,
      "id": "b58e21e2",
      "metadata": {
        "colab": {
          "base_uri": "https://localhost:8080/",
          "height": 423
        },
        "id": "b58e21e2",
        "outputId": "8baa7a9c-ab23-4aea-aadb-1f068d356ecc"
      },
      "outputs": [
        {
          "output_type": "execute_result",
          "data": {
            "text/plain": [
              "                                 Car_Name  Year  Selling_Price  Kms_Driven  \\\n",
              "0                           Maruti 800 AC  2007          60000       70000   \n",
              "1                Maruti Wagon R LXI Minor  2007         135000       50000   \n",
              "2                    Hyundai Verna 1.6 SX  2012         600000      100000   \n",
              "3                  Datsun RediGO T Option  2017         250000       46000   \n",
              "4                   Honda Amaze VX i-DTEC  2014         450000      141000   \n",
              "...                                   ...   ...            ...         ...   \n",
              "4335  Hyundai i20 Magna 1.4 CRDi (Diesel)  2014         409999       80000   \n",
              "4336           Hyundai i20 Magna 1.4 CRDi  2014         409999       80000   \n",
              "4337                  Maruti 800 AC BSIII  2009         110000       83000   \n",
              "4338     Hyundai Creta 1.6 CRDi SX Option  2016         865000       90000   \n",
              "4339                     Renault KWID RXT  2016         225000       40000   \n",
              "\n",
              "     Fuel_Type Seller_Type Transmission         Owner  \n",
              "0       Petrol  Individual       Manual   First Owner  \n",
              "1       Petrol  Individual       Manual   First Owner  \n",
              "2       Diesel  Individual       Manual   First Owner  \n",
              "3       Petrol  Individual       Manual   First Owner  \n",
              "4       Diesel  Individual       Manual  Second Owner  \n",
              "...        ...         ...          ...           ...  \n",
              "4335    Diesel  Individual       Manual  Second Owner  \n",
              "4336    Diesel  Individual       Manual  Second Owner  \n",
              "4337    Petrol  Individual       Manual  Second Owner  \n",
              "4338    Diesel  Individual       Manual   First Owner  \n",
              "4339    Petrol  Individual       Manual   First Owner  \n",
              "\n",
              "[4340 rows x 8 columns]"
            ],
            "text/html": [
              "\n",
              "  <div id=\"df-cbbd85dd-e4ea-4b7b-bb50-777e9fd72047\">\n",
              "    <div class=\"colab-df-container\">\n",
              "      <div>\n",
              "<style scoped>\n",
              "    .dataframe tbody tr th:only-of-type {\n",
              "        vertical-align: middle;\n",
              "    }\n",
              "\n",
              "    .dataframe tbody tr th {\n",
              "        vertical-align: top;\n",
              "    }\n",
              "\n",
              "    .dataframe thead th {\n",
              "        text-align: right;\n",
              "    }\n",
              "</style>\n",
              "<table border=\"1\" class=\"dataframe\">\n",
              "  <thead>\n",
              "    <tr style=\"text-align: right;\">\n",
              "      <th></th>\n",
              "      <th>Car_Name</th>\n",
              "      <th>Year</th>\n",
              "      <th>Selling_Price</th>\n",
              "      <th>Kms_Driven</th>\n",
              "      <th>Fuel_Type</th>\n",
              "      <th>Seller_Type</th>\n",
              "      <th>Transmission</th>\n",
              "      <th>Owner</th>\n",
              "    </tr>\n",
              "  </thead>\n",
              "  <tbody>\n",
              "    <tr>\n",
              "      <th>0</th>\n",
              "      <td>Maruti 800 AC</td>\n",
              "      <td>2007</td>\n",
              "      <td>60000</td>\n",
              "      <td>70000</td>\n",
              "      <td>Petrol</td>\n",
              "      <td>Individual</td>\n",
              "      <td>Manual</td>\n",
              "      <td>First Owner</td>\n",
              "    </tr>\n",
              "    <tr>\n",
              "      <th>1</th>\n",
              "      <td>Maruti Wagon R LXI Minor</td>\n",
              "      <td>2007</td>\n",
              "      <td>135000</td>\n",
              "      <td>50000</td>\n",
              "      <td>Petrol</td>\n",
              "      <td>Individual</td>\n",
              "      <td>Manual</td>\n",
              "      <td>First Owner</td>\n",
              "    </tr>\n",
              "    <tr>\n",
              "      <th>2</th>\n",
              "      <td>Hyundai Verna 1.6 SX</td>\n",
              "      <td>2012</td>\n",
              "      <td>600000</td>\n",
              "      <td>100000</td>\n",
              "      <td>Diesel</td>\n",
              "      <td>Individual</td>\n",
              "      <td>Manual</td>\n",
              "      <td>First Owner</td>\n",
              "    </tr>\n",
              "    <tr>\n",
              "      <th>3</th>\n",
              "      <td>Datsun RediGO T Option</td>\n",
              "      <td>2017</td>\n",
              "      <td>250000</td>\n",
              "      <td>46000</td>\n",
              "      <td>Petrol</td>\n",
              "      <td>Individual</td>\n",
              "      <td>Manual</td>\n",
              "      <td>First Owner</td>\n",
              "    </tr>\n",
              "    <tr>\n",
              "      <th>4</th>\n",
              "      <td>Honda Amaze VX i-DTEC</td>\n",
              "      <td>2014</td>\n",
              "      <td>450000</td>\n",
              "      <td>141000</td>\n",
              "      <td>Diesel</td>\n",
              "      <td>Individual</td>\n",
              "      <td>Manual</td>\n",
              "      <td>Second Owner</td>\n",
              "    </tr>\n",
              "    <tr>\n",
              "      <th>...</th>\n",
              "      <td>...</td>\n",
              "      <td>...</td>\n",
              "      <td>...</td>\n",
              "      <td>...</td>\n",
              "      <td>...</td>\n",
              "      <td>...</td>\n",
              "      <td>...</td>\n",
              "      <td>...</td>\n",
              "    </tr>\n",
              "    <tr>\n",
              "      <th>4335</th>\n",
              "      <td>Hyundai i20 Magna 1.4 CRDi (Diesel)</td>\n",
              "      <td>2014</td>\n",
              "      <td>409999</td>\n",
              "      <td>80000</td>\n",
              "      <td>Diesel</td>\n",
              "      <td>Individual</td>\n",
              "      <td>Manual</td>\n",
              "      <td>Second Owner</td>\n",
              "    </tr>\n",
              "    <tr>\n",
              "      <th>4336</th>\n",
              "      <td>Hyundai i20 Magna 1.4 CRDi</td>\n",
              "      <td>2014</td>\n",
              "      <td>409999</td>\n",
              "      <td>80000</td>\n",
              "      <td>Diesel</td>\n",
              "      <td>Individual</td>\n",
              "      <td>Manual</td>\n",
              "      <td>Second Owner</td>\n",
              "    </tr>\n",
              "    <tr>\n",
              "      <th>4337</th>\n",
              "      <td>Maruti 800 AC BSIII</td>\n",
              "      <td>2009</td>\n",
              "      <td>110000</td>\n",
              "      <td>83000</td>\n",
              "      <td>Petrol</td>\n",
              "      <td>Individual</td>\n",
              "      <td>Manual</td>\n",
              "      <td>Second Owner</td>\n",
              "    </tr>\n",
              "    <tr>\n",
              "      <th>4338</th>\n",
              "      <td>Hyundai Creta 1.6 CRDi SX Option</td>\n",
              "      <td>2016</td>\n",
              "      <td>865000</td>\n",
              "      <td>90000</td>\n",
              "      <td>Diesel</td>\n",
              "      <td>Individual</td>\n",
              "      <td>Manual</td>\n",
              "      <td>First Owner</td>\n",
              "    </tr>\n",
              "    <tr>\n",
              "      <th>4339</th>\n",
              "      <td>Renault KWID RXT</td>\n",
              "      <td>2016</td>\n",
              "      <td>225000</td>\n",
              "      <td>40000</td>\n",
              "      <td>Petrol</td>\n",
              "      <td>Individual</td>\n",
              "      <td>Manual</td>\n",
              "      <td>First Owner</td>\n",
              "    </tr>\n",
              "  </tbody>\n",
              "</table>\n",
              "<p>4340 rows × 8 columns</p>\n",
              "</div>\n",
              "      <button class=\"colab-df-convert\" onclick=\"convertToInteractive('df-cbbd85dd-e4ea-4b7b-bb50-777e9fd72047')\"\n",
              "              title=\"Convert this dataframe to an interactive table.\"\n",
              "              style=\"display:none;\">\n",
              "        \n",
              "  <svg xmlns=\"http://www.w3.org/2000/svg\" height=\"24px\"viewBox=\"0 0 24 24\"\n",
              "       width=\"24px\">\n",
              "    <path d=\"M0 0h24v24H0V0z\" fill=\"none\"/>\n",
              "    <path d=\"M18.56 5.44l.94 2.06.94-2.06 2.06-.94-2.06-.94-.94-2.06-.94 2.06-2.06.94zm-11 1L8.5 8.5l.94-2.06 2.06-.94-2.06-.94L8.5 2.5l-.94 2.06-2.06.94zm10 10l.94 2.06.94-2.06 2.06-.94-2.06-.94-.94-2.06-.94 2.06-2.06.94z\"/><path d=\"M17.41 7.96l-1.37-1.37c-.4-.4-.92-.59-1.43-.59-.52 0-1.04.2-1.43.59L10.3 9.45l-7.72 7.72c-.78.78-.78 2.05 0 2.83L4 21.41c.39.39.9.59 1.41.59.51 0 1.02-.2 1.41-.59l7.78-7.78 2.81-2.81c.8-.78.8-2.07 0-2.86zM5.41 20L4 18.59l7.72-7.72 1.47 1.35L5.41 20z\"/>\n",
              "  </svg>\n",
              "      </button>\n",
              "      \n",
              "  <style>\n",
              "    .colab-df-container {\n",
              "      display:flex;\n",
              "      flex-wrap:wrap;\n",
              "      gap: 12px;\n",
              "    }\n",
              "\n",
              "    .colab-df-convert {\n",
              "      background-color: #E8F0FE;\n",
              "      border: none;\n",
              "      border-radius: 50%;\n",
              "      cursor: pointer;\n",
              "      display: none;\n",
              "      fill: #1967D2;\n",
              "      height: 32px;\n",
              "      padding: 0 0 0 0;\n",
              "      width: 32px;\n",
              "    }\n",
              "\n",
              "    .colab-df-convert:hover {\n",
              "      background-color: #E2EBFA;\n",
              "      box-shadow: 0px 1px 2px rgba(60, 64, 67, 0.3), 0px 1px 3px 1px rgba(60, 64, 67, 0.15);\n",
              "      fill: #174EA6;\n",
              "    }\n",
              "\n",
              "    [theme=dark] .colab-df-convert {\n",
              "      background-color: #3B4455;\n",
              "      fill: #D2E3FC;\n",
              "    }\n",
              "\n",
              "    [theme=dark] .colab-df-convert:hover {\n",
              "      background-color: #434B5C;\n",
              "      box-shadow: 0px 1px 3px 1px rgba(0, 0, 0, 0.15);\n",
              "      filter: drop-shadow(0px 1px 2px rgba(0, 0, 0, 0.3));\n",
              "      fill: #FFFFFF;\n",
              "    }\n",
              "  </style>\n",
              "\n",
              "      <script>\n",
              "        const buttonEl =\n",
              "          document.querySelector('#df-cbbd85dd-e4ea-4b7b-bb50-777e9fd72047 button.colab-df-convert');\n",
              "        buttonEl.style.display =\n",
              "          google.colab.kernel.accessAllowed ? 'block' : 'none';\n",
              "\n",
              "        async function convertToInteractive(key) {\n",
              "          const element = document.querySelector('#df-cbbd85dd-e4ea-4b7b-bb50-777e9fd72047');\n",
              "          const dataTable =\n",
              "            await google.colab.kernel.invokeFunction('convertToInteractive',\n",
              "                                                     [key], {});\n",
              "          if (!dataTable) return;\n",
              "\n",
              "          const docLinkHtml = 'Like what you see? Visit the ' +\n",
              "            '<a target=\"_blank\" href=https://colab.research.google.com/notebooks/data_table.ipynb>data table notebook</a>'\n",
              "            + ' to learn more about interactive tables.';\n",
              "          element.innerHTML = '';\n",
              "          dataTable['output_type'] = 'display_data';\n",
              "          await google.colab.output.renderOutput(dataTable, element);\n",
              "          const docLink = document.createElement('div');\n",
              "          docLink.innerHTML = docLinkHtml;\n",
              "          element.appendChild(docLink);\n",
              "        }\n",
              "      </script>\n",
              "    </div>\n",
              "  </div>\n",
              "  "
            ]
          },
          "metadata": {},
          "execution_count": 3
        }
      ],
      "source": [
        "df"
      ]
    },
    {
      "cell_type": "code",
      "execution_count": 4,
      "id": "a4c66bb1",
      "metadata": {
        "colab": {
          "base_uri": "https://localhost:8080/"
        },
        "id": "a4c66bb1",
        "outputId": "a2ecdb0f-7c6a-4ef4-9842-2133071f2994"
      },
      "outputs": [
        {
          "output_type": "execute_result",
          "data": {
            "text/plain": [
              "(4340, 8)"
            ]
          },
          "metadata": {},
          "execution_count": 4
        }
      ],
      "source": [
        "df.shape"
      ]
    },
    {
      "cell_type": "code",
      "execution_count": 5,
      "id": "190be63b",
      "metadata": {
        "colab": {
          "base_uri": "https://localhost:8080/"
        },
        "id": "190be63b",
        "outputId": "7ed2a030-8acc-408e-cd5a-be4967651ce6"
      },
      "outputs": [
        {
          "output_type": "stream",
          "name": "stdout",
          "text": [
            "['Petrol' 'Diesel' 'CNG' 'LPG' 'Electric']\n",
            "['Individual' 'Dealer' 'Trustmark Dealer']\n",
            "['Manual' 'Automatic']\n",
            "['First Owner' 'Second Owner' 'Fourth & Above Owner' 'Third Owner'\n",
            " 'Test Drive Car']\n"
          ]
        }
      ],
      "source": [
        "print(df['Fuel_Type'].unique())\n",
        "print(df['Seller_Type'].unique())\n",
        "print(df['Transmission'].unique())\n",
        "print(df['Owner'].unique())"
      ]
    },
    {
      "cell_type": "code",
      "execution_count": 6,
      "id": "72624e10",
      "metadata": {
        "colab": {
          "base_uri": "https://localhost:8080/"
        },
        "id": "72624e10",
        "outputId": "92b81d5c-0950-45d9-a1da-9a25576966ac"
      },
      "outputs": [
        {
          "output_type": "execute_result",
          "data": {
            "text/plain": [
              "Car_Name         0\n",
              "Year             0\n",
              "Selling_Price    0\n",
              "Kms_Driven       0\n",
              "Fuel_Type        0\n",
              "Seller_Type      0\n",
              "Transmission     0\n",
              "Owner            0\n",
              "dtype: int64"
            ]
          },
          "metadata": {},
          "execution_count": 6
        }
      ],
      "source": [
        "#check missing and null values\n",
        "df.isnull().sum()"
      ]
    },
    {
      "cell_type": "markdown",
      "id": "61a22c44",
      "metadata": {
        "id": "61a22c44"
      },
      "source": [
        "No null values are there."
      ]
    },
    {
      "cell_type": "code",
      "execution_count": 7,
      "id": "be929566",
      "metadata": {
        "colab": {
          "base_uri": "https://localhost:8080/",
          "height": 300
        },
        "id": "be929566",
        "outputId": "973f9f7e-4d22-4681-94ec-21cdd4fe8701"
      },
      "outputs": [
        {
          "output_type": "execute_result",
          "data": {
            "text/plain": [
              "              Year  Selling_Price     Kms_Driven\n",
              "count  4340.000000   4.340000e+03    4340.000000\n",
              "mean   2013.096774   5.043381e+05   66195.040092\n",
              "std       4.215757   5.785445e+05   46649.084846\n",
              "min    1992.000000   2.000000e+04       1.000000\n",
              "25%    2011.000000   2.100000e+05   35000.000000\n",
              "50%    2014.000000   3.500000e+05   60000.000000\n",
              "75%    2016.000000   6.000000e+05   90000.000000\n",
              "max    2022.000000   8.900000e+06  806599.000000"
            ],
            "text/html": [
              "\n",
              "  <div id=\"df-b71eaaac-6f6c-4a22-a4b2-095eefeefa4a\">\n",
              "    <div class=\"colab-df-container\">\n",
              "      <div>\n",
              "<style scoped>\n",
              "    .dataframe tbody tr th:only-of-type {\n",
              "        vertical-align: middle;\n",
              "    }\n",
              "\n",
              "    .dataframe tbody tr th {\n",
              "        vertical-align: top;\n",
              "    }\n",
              "\n",
              "    .dataframe thead th {\n",
              "        text-align: right;\n",
              "    }\n",
              "</style>\n",
              "<table border=\"1\" class=\"dataframe\">\n",
              "  <thead>\n",
              "    <tr style=\"text-align: right;\">\n",
              "      <th></th>\n",
              "      <th>Year</th>\n",
              "      <th>Selling_Price</th>\n",
              "      <th>Kms_Driven</th>\n",
              "    </tr>\n",
              "  </thead>\n",
              "  <tbody>\n",
              "    <tr>\n",
              "      <th>count</th>\n",
              "      <td>4340.000000</td>\n",
              "      <td>4.340000e+03</td>\n",
              "      <td>4340.000000</td>\n",
              "    </tr>\n",
              "    <tr>\n",
              "      <th>mean</th>\n",
              "      <td>2013.096774</td>\n",
              "      <td>5.043381e+05</td>\n",
              "      <td>66195.040092</td>\n",
              "    </tr>\n",
              "    <tr>\n",
              "      <th>std</th>\n",
              "      <td>4.215757</td>\n",
              "      <td>5.785445e+05</td>\n",
              "      <td>46649.084846</td>\n",
              "    </tr>\n",
              "    <tr>\n",
              "      <th>min</th>\n",
              "      <td>1992.000000</td>\n",
              "      <td>2.000000e+04</td>\n",
              "      <td>1.000000</td>\n",
              "    </tr>\n",
              "    <tr>\n",
              "      <th>25%</th>\n",
              "      <td>2011.000000</td>\n",
              "      <td>2.100000e+05</td>\n",
              "      <td>35000.000000</td>\n",
              "    </tr>\n",
              "    <tr>\n",
              "      <th>50%</th>\n",
              "      <td>2014.000000</td>\n",
              "      <td>3.500000e+05</td>\n",
              "      <td>60000.000000</td>\n",
              "    </tr>\n",
              "    <tr>\n",
              "      <th>75%</th>\n",
              "      <td>2016.000000</td>\n",
              "      <td>6.000000e+05</td>\n",
              "      <td>90000.000000</td>\n",
              "    </tr>\n",
              "    <tr>\n",
              "      <th>max</th>\n",
              "      <td>2022.000000</td>\n",
              "      <td>8.900000e+06</td>\n",
              "      <td>806599.000000</td>\n",
              "    </tr>\n",
              "  </tbody>\n",
              "</table>\n",
              "</div>\n",
              "      <button class=\"colab-df-convert\" onclick=\"convertToInteractive('df-b71eaaac-6f6c-4a22-a4b2-095eefeefa4a')\"\n",
              "              title=\"Convert this dataframe to an interactive table.\"\n",
              "              style=\"display:none;\">\n",
              "        \n",
              "  <svg xmlns=\"http://www.w3.org/2000/svg\" height=\"24px\"viewBox=\"0 0 24 24\"\n",
              "       width=\"24px\">\n",
              "    <path d=\"M0 0h24v24H0V0z\" fill=\"none\"/>\n",
              "    <path d=\"M18.56 5.44l.94 2.06.94-2.06 2.06-.94-2.06-.94-.94-2.06-.94 2.06-2.06.94zm-11 1L8.5 8.5l.94-2.06 2.06-.94-2.06-.94L8.5 2.5l-.94 2.06-2.06.94zm10 10l.94 2.06.94-2.06 2.06-.94-2.06-.94-.94-2.06-.94 2.06-2.06.94z\"/><path d=\"M17.41 7.96l-1.37-1.37c-.4-.4-.92-.59-1.43-.59-.52 0-1.04.2-1.43.59L10.3 9.45l-7.72 7.72c-.78.78-.78 2.05 0 2.83L4 21.41c.39.39.9.59 1.41.59.51 0 1.02-.2 1.41-.59l7.78-7.78 2.81-2.81c.8-.78.8-2.07 0-2.86zM5.41 20L4 18.59l7.72-7.72 1.47 1.35L5.41 20z\"/>\n",
              "  </svg>\n",
              "      </button>\n",
              "      \n",
              "  <style>\n",
              "    .colab-df-container {\n",
              "      display:flex;\n",
              "      flex-wrap:wrap;\n",
              "      gap: 12px;\n",
              "    }\n",
              "\n",
              "    .colab-df-convert {\n",
              "      background-color: #E8F0FE;\n",
              "      border: none;\n",
              "      border-radius: 50%;\n",
              "      cursor: pointer;\n",
              "      display: none;\n",
              "      fill: #1967D2;\n",
              "      height: 32px;\n",
              "      padding: 0 0 0 0;\n",
              "      width: 32px;\n",
              "    }\n",
              "\n",
              "    .colab-df-convert:hover {\n",
              "      background-color: #E2EBFA;\n",
              "      box-shadow: 0px 1px 2px rgba(60, 64, 67, 0.3), 0px 1px 3px 1px rgba(60, 64, 67, 0.15);\n",
              "      fill: #174EA6;\n",
              "    }\n",
              "\n",
              "    [theme=dark] .colab-df-convert {\n",
              "      background-color: #3B4455;\n",
              "      fill: #D2E3FC;\n",
              "    }\n",
              "\n",
              "    [theme=dark] .colab-df-convert:hover {\n",
              "      background-color: #434B5C;\n",
              "      box-shadow: 0px 1px 3px 1px rgba(0, 0, 0, 0.15);\n",
              "      filter: drop-shadow(0px 1px 2px rgba(0, 0, 0, 0.3));\n",
              "      fill: #FFFFFF;\n",
              "    }\n",
              "  </style>\n",
              "\n",
              "      <script>\n",
              "        const buttonEl =\n",
              "          document.querySelector('#df-b71eaaac-6f6c-4a22-a4b2-095eefeefa4a button.colab-df-convert');\n",
              "        buttonEl.style.display =\n",
              "          google.colab.kernel.accessAllowed ? 'block' : 'none';\n",
              "\n",
              "        async function convertToInteractive(key) {\n",
              "          const element = document.querySelector('#df-b71eaaac-6f6c-4a22-a4b2-095eefeefa4a');\n",
              "          const dataTable =\n",
              "            await google.colab.kernel.invokeFunction('convertToInteractive',\n",
              "                                                     [key], {});\n",
              "          if (!dataTable) return;\n",
              "\n",
              "          const docLinkHtml = 'Like what you see? Visit the ' +\n",
              "            '<a target=\"_blank\" href=https://colab.research.google.com/notebooks/data_table.ipynb>data table notebook</a>'\n",
              "            + ' to learn more about interactive tables.';\n",
              "          element.innerHTML = '';\n",
              "          dataTable['output_type'] = 'display_data';\n",
              "          await google.colab.output.renderOutput(dataTable, element);\n",
              "          const docLink = document.createElement('div');\n",
              "          docLink.innerHTML = docLinkHtml;\n",
              "          element.appendChild(docLink);\n",
              "        }\n",
              "      </script>\n",
              "    </div>\n",
              "  </div>\n",
              "  "
            ]
          },
          "metadata": {},
          "execution_count": 7
        }
      ],
      "source": [
        "df.describe()"
      ]
    },
    {
      "cell_type": "code",
      "execution_count": 8,
      "id": "76ac6796",
      "metadata": {
        "colab": {
          "base_uri": "https://localhost:8080/"
        },
        "id": "76ac6796",
        "outputId": "eb8a1491-b118-4ea9-82e3-ad63d51fedfd"
      },
      "outputs": [
        {
          "output_type": "execute_result",
          "data": {
            "text/plain": [
              "Index(['Car_Name', 'Year', 'Selling_Price', 'Kms_Driven', 'Fuel_Type',\n",
              "       'Seller_Type', 'Transmission', 'Owner'],\n",
              "      dtype='object')"
            ]
          },
          "metadata": {},
          "execution_count": 8
        }
      ],
      "source": [
        "df.columns"
      ]
    },
    {
      "cell_type": "code",
      "execution_count": 9,
      "id": "9799df6f",
      "metadata": {
        "id": "9799df6f"
      },
      "outputs": [],
      "source": [
        "final_dataset=df[['Year', 'Selling_Price','Kms_Driven',\n",
        "       'Fuel_Type', 'Seller_Type', 'Transmission', 'Owner']]"
      ]
    },
    {
      "cell_type": "code",
      "execution_count": 10,
      "id": "9ad08840",
      "metadata": {
        "colab": {
          "base_uri": "https://localhost:8080/",
          "height": 206
        },
        "id": "9ad08840",
        "outputId": "fbbf481b-bf0a-4d82-8274-9886daa222d7"
      },
      "outputs": [
        {
          "output_type": "execute_result",
          "data": {
            "text/plain": [
              "   Year  Selling_Price  Kms_Driven Fuel_Type Seller_Type Transmission  \\\n",
              "0  2007          60000       70000    Petrol  Individual       Manual   \n",
              "1  2007         135000       50000    Petrol  Individual       Manual   \n",
              "2  2012         600000      100000    Diesel  Individual       Manual   \n",
              "3  2017         250000       46000    Petrol  Individual       Manual   \n",
              "4  2014         450000      141000    Diesel  Individual       Manual   \n",
              "\n",
              "          Owner  \n",
              "0   First Owner  \n",
              "1   First Owner  \n",
              "2   First Owner  \n",
              "3   First Owner  \n",
              "4  Second Owner  "
            ],
            "text/html": [
              "\n",
              "  <div id=\"df-a3ced795-b1e4-4efb-bc6f-04787597d93d\">\n",
              "    <div class=\"colab-df-container\">\n",
              "      <div>\n",
              "<style scoped>\n",
              "    .dataframe tbody tr th:only-of-type {\n",
              "        vertical-align: middle;\n",
              "    }\n",
              "\n",
              "    .dataframe tbody tr th {\n",
              "        vertical-align: top;\n",
              "    }\n",
              "\n",
              "    .dataframe thead th {\n",
              "        text-align: right;\n",
              "    }\n",
              "</style>\n",
              "<table border=\"1\" class=\"dataframe\">\n",
              "  <thead>\n",
              "    <tr style=\"text-align: right;\">\n",
              "      <th></th>\n",
              "      <th>Year</th>\n",
              "      <th>Selling_Price</th>\n",
              "      <th>Kms_Driven</th>\n",
              "      <th>Fuel_Type</th>\n",
              "      <th>Seller_Type</th>\n",
              "      <th>Transmission</th>\n",
              "      <th>Owner</th>\n",
              "    </tr>\n",
              "  </thead>\n",
              "  <tbody>\n",
              "    <tr>\n",
              "      <th>0</th>\n",
              "      <td>2007</td>\n",
              "      <td>60000</td>\n",
              "      <td>70000</td>\n",
              "      <td>Petrol</td>\n",
              "      <td>Individual</td>\n",
              "      <td>Manual</td>\n",
              "      <td>First Owner</td>\n",
              "    </tr>\n",
              "    <tr>\n",
              "      <th>1</th>\n",
              "      <td>2007</td>\n",
              "      <td>135000</td>\n",
              "      <td>50000</td>\n",
              "      <td>Petrol</td>\n",
              "      <td>Individual</td>\n",
              "      <td>Manual</td>\n",
              "      <td>First Owner</td>\n",
              "    </tr>\n",
              "    <tr>\n",
              "      <th>2</th>\n",
              "      <td>2012</td>\n",
              "      <td>600000</td>\n",
              "      <td>100000</td>\n",
              "      <td>Diesel</td>\n",
              "      <td>Individual</td>\n",
              "      <td>Manual</td>\n",
              "      <td>First Owner</td>\n",
              "    </tr>\n",
              "    <tr>\n",
              "      <th>3</th>\n",
              "      <td>2017</td>\n",
              "      <td>250000</td>\n",
              "      <td>46000</td>\n",
              "      <td>Petrol</td>\n",
              "      <td>Individual</td>\n",
              "      <td>Manual</td>\n",
              "      <td>First Owner</td>\n",
              "    </tr>\n",
              "    <tr>\n",
              "      <th>4</th>\n",
              "      <td>2014</td>\n",
              "      <td>450000</td>\n",
              "      <td>141000</td>\n",
              "      <td>Diesel</td>\n",
              "      <td>Individual</td>\n",
              "      <td>Manual</td>\n",
              "      <td>Second Owner</td>\n",
              "    </tr>\n",
              "  </tbody>\n",
              "</table>\n",
              "</div>\n",
              "      <button class=\"colab-df-convert\" onclick=\"convertToInteractive('df-a3ced795-b1e4-4efb-bc6f-04787597d93d')\"\n",
              "              title=\"Convert this dataframe to an interactive table.\"\n",
              "              style=\"display:none;\">\n",
              "        \n",
              "  <svg xmlns=\"http://www.w3.org/2000/svg\" height=\"24px\"viewBox=\"0 0 24 24\"\n",
              "       width=\"24px\">\n",
              "    <path d=\"M0 0h24v24H0V0z\" fill=\"none\"/>\n",
              "    <path d=\"M18.56 5.44l.94 2.06.94-2.06 2.06-.94-2.06-.94-.94-2.06-.94 2.06-2.06.94zm-11 1L8.5 8.5l.94-2.06 2.06-.94-2.06-.94L8.5 2.5l-.94 2.06-2.06.94zm10 10l.94 2.06.94-2.06 2.06-.94-2.06-.94-.94-2.06-.94 2.06-2.06.94z\"/><path d=\"M17.41 7.96l-1.37-1.37c-.4-.4-.92-.59-1.43-.59-.52 0-1.04.2-1.43.59L10.3 9.45l-7.72 7.72c-.78.78-.78 2.05 0 2.83L4 21.41c.39.39.9.59 1.41.59.51 0 1.02-.2 1.41-.59l7.78-7.78 2.81-2.81c.8-.78.8-2.07 0-2.86zM5.41 20L4 18.59l7.72-7.72 1.47 1.35L5.41 20z\"/>\n",
              "  </svg>\n",
              "      </button>\n",
              "      \n",
              "  <style>\n",
              "    .colab-df-container {\n",
              "      display:flex;\n",
              "      flex-wrap:wrap;\n",
              "      gap: 12px;\n",
              "    }\n",
              "\n",
              "    .colab-df-convert {\n",
              "      background-color: #E8F0FE;\n",
              "      border: none;\n",
              "      border-radius: 50%;\n",
              "      cursor: pointer;\n",
              "      display: none;\n",
              "      fill: #1967D2;\n",
              "      height: 32px;\n",
              "      padding: 0 0 0 0;\n",
              "      width: 32px;\n",
              "    }\n",
              "\n",
              "    .colab-df-convert:hover {\n",
              "      background-color: #E2EBFA;\n",
              "      box-shadow: 0px 1px 2px rgba(60, 64, 67, 0.3), 0px 1px 3px 1px rgba(60, 64, 67, 0.15);\n",
              "      fill: #174EA6;\n",
              "    }\n",
              "\n",
              "    [theme=dark] .colab-df-convert {\n",
              "      background-color: #3B4455;\n",
              "      fill: #D2E3FC;\n",
              "    }\n",
              "\n",
              "    [theme=dark] .colab-df-convert:hover {\n",
              "      background-color: #434B5C;\n",
              "      box-shadow: 0px 1px 3px 1px rgba(0, 0, 0, 0.15);\n",
              "      filter: drop-shadow(0px 1px 2px rgba(0, 0, 0, 0.3));\n",
              "      fill: #FFFFFF;\n",
              "    }\n",
              "  </style>\n",
              "\n",
              "      <script>\n",
              "        const buttonEl =\n",
              "          document.querySelector('#df-a3ced795-b1e4-4efb-bc6f-04787597d93d button.colab-df-convert');\n",
              "        buttonEl.style.display =\n",
              "          google.colab.kernel.accessAllowed ? 'block' : 'none';\n",
              "\n",
              "        async function convertToInteractive(key) {\n",
              "          const element = document.querySelector('#df-a3ced795-b1e4-4efb-bc6f-04787597d93d');\n",
              "          const dataTable =\n",
              "            await google.colab.kernel.invokeFunction('convertToInteractive',\n",
              "                                                     [key], {});\n",
              "          if (!dataTable) return;\n",
              "\n",
              "          const docLinkHtml = 'Like what you see? Visit the ' +\n",
              "            '<a target=\"_blank\" href=https://colab.research.google.com/notebooks/data_table.ipynb>data table notebook</a>'\n",
              "            + ' to learn more about interactive tables.';\n",
              "          element.innerHTML = '';\n",
              "          dataTable['output_type'] = 'display_data';\n",
              "          await google.colab.output.renderOutput(dataTable, element);\n",
              "          const docLink = document.createElement('div');\n",
              "          docLink.innerHTML = docLinkHtml;\n",
              "          element.appendChild(docLink);\n",
              "        }\n",
              "      </script>\n",
              "    </div>\n",
              "  </div>\n",
              "  "
            ]
          },
          "metadata": {},
          "execution_count": 10
        }
      ],
      "source": [
        "final_dataset.head()"
      ]
    },
    {
      "cell_type": "code",
      "execution_count": 11,
      "id": "f8b2607c",
      "metadata": {
        "id": "f8b2607c"
      },
      "outputs": [],
      "source": [
        "#Make a new feature 'Current_year'\n",
        "final_dataset['Current_Year']=2022"
      ]
    },
    {
      "cell_type": "code",
      "execution_count": 12,
      "id": "64e6c3fd",
      "metadata": {
        "colab": {
          "base_uri": "https://localhost:8080/",
          "height": 206
        },
        "id": "64e6c3fd",
        "outputId": "665c5c86-bb8d-4dac-eec5-4935dff5e725"
      },
      "outputs": [
        {
          "output_type": "execute_result",
          "data": {
            "text/plain": [
              "   Year  Selling_Price  Kms_Driven Fuel_Type Seller_Type Transmission  \\\n",
              "0  2007          60000       70000    Petrol  Individual       Manual   \n",
              "1  2007         135000       50000    Petrol  Individual       Manual   \n",
              "2  2012         600000      100000    Diesel  Individual       Manual   \n",
              "3  2017         250000       46000    Petrol  Individual       Manual   \n",
              "4  2014         450000      141000    Diesel  Individual       Manual   \n",
              "\n",
              "          Owner  Current_Year  \n",
              "0   First Owner          2022  \n",
              "1   First Owner          2022  \n",
              "2   First Owner          2022  \n",
              "3   First Owner          2022  \n",
              "4  Second Owner          2022  "
            ],
            "text/html": [
              "\n",
              "  <div id=\"df-414682e6-a9df-4e8f-8ac6-3cff129b60f3\">\n",
              "    <div class=\"colab-df-container\">\n",
              "      <div>\n",
              "<style scoped>\n",
              "    .dataframe tbody tr th:only-of-type {\n",
              "        vertical-align: middle;\n",
              "    }\n",
              "\n",
              "    .dataframe tbody tr th {\n",
              "        vertical-align: top;\n",
              "    }\n",
              "\n",
              "    .dataframe thead th {\n",
              "        text-align: right;\n",
              "    }\n",
              "</style>\n",
              "<table border=\"1\" class=\"dataframe\">\n",
              "  <thead>\n",
              "    <tr style=\"text-align: right;\">\n",
              "      <th></th>\n",
              "      <th>Year</th>\n",
              "      <th>Selling_Price</th>\n",
              "      <th>Kms_Driven</th>\n",
              "      <th>Fuel_Type</th>\n",
              "      <th>Seller_Type</th>\n",
              "      <th>Transmission</th>\n",
              "      <th>Owner</th>\n",
              "      <th>Current_Year</th>\n",
              "    </tr>\n",
              "  </thead>\n",
              "  <tbody>\n",
              "    <tr>\n",
              "      <th>0</th>\n",
              "      <td>2007</td>\n",
              "      <td>60000</td>\n",
              "      <td>70000</td>\n",
              "      <td>Petrol</td>\n",
              "      <td>Individual</td>\n",
              "      <td>Manual</td>\n",
              "      <td>First Owner</td>\n",
              "      <td>2022</td>\n",
              "    </tr>\n",
              "    <tr>\n",
              "      <th>1</th>\n",
              "      <td>2007</td>\n",
              "      <td>135000</td>\n",
              "      <td>50000</td>\n",
              "      <td>Petrol</td>\n",
              "      <td>Individual</td>\n",
              "      <td>Manual</td>\n",
              "      <td>First Owner</td>\n",
              "      <td>2022</td>\n",
              "    </tr>\n",
              "    <tr>\n",
              "      <th>2</th>\n",
              "      <td>2012</td>\n",
              "      <td>600000</td>\n",
              "      <td>100000</td>\n",
              "      <td>Diesel</td>\n",
              "      <td>Individual</td>\n",
              "      <td>Manual</td>\n",
              "      <td>First Owner</td>\n",
              "      <td>2022</td>\n",
              "    </tr>\n",
              "    <tr>\n",
              "      <th>3</th>\n",
              "      <td>2017</td>\n",
              "      <td>250000</td>\n",
              "      <td>46000</td>\n",
              "      <td>Petrol</td>\n",
              "      <td>Individual</td>\n",
              "      <td>Manual</td>\n",
              "      <td>First Owner</td>\n",
              "      <td>2022</td>\n",
              "    </tr>\n",
              "    <tr>\n",
              "      <th>4</th>\n",
              "      <td>2014</td>\n",
              "      <td>450000</td>\n",
              "      <td>141000</td>\n",
              "      <td>Diesel</td>\n",
              "      <td>Individual</td>\n",
              "      <td>Manual</td>\n",
              "      <td>Second Owner</td>\n",
              "      <td>2022</td>\n",
              "    </tr>\n",
              "  </tbody>\n",
              "</table>\n",
              "</div>\n",
              "      <button class=\"colab-df-convert\" onclick=\"convertToInteractive('df-414682e6-a9df-4e8f-8ac6-3cff129b60f3')\"\n",
              "              title=\"Convert this dataframe to an interactive table.\"\n",
              "              style=\"display:none;\">\n",
              "        \n",
              "  <svg xmlns=\"http://www.w3.org/2000/svg\" height=\"24px\"viewBox=\"0 0 24 24\"\n",
              "       width=\"24px\">\n",
              "    <path d=\"M0 0h24v24H0V0z\" fill=\"none\"/>\n",
              "    <path d=\"M18.56 5.44l.94 2.06.94-2.06 2.06-.94-2.06-.94-.94-2.06-.94 2.06-2.06.94zm-11 1L8.5 8.5l.94-2.06 2.06-.94-2.06-.94L8.5 2.5l-.94 2.06-2.06.94zm10 10l.94 2.06.94-2.06 2.06-.94-2.06-.94-.94-2.06-.94 2.06-2.06.94z\"/><path d=\"M17.41 7.96l-1.37-1.37c-.4-.4-.92-.59-1.43-.59-.52 0-1.04.2-1.43.59L10.3 9.45l-7.72 7.72c-.78.78-.78 2.05 0 2.83L4 21.41c.39.39.9.59 1.41.59.51 0 1.02-.2 1.41-.59l7.78-7.78 2.81-2.81c.8-.78.8-2.07 0-2.86zM5.41 20L4 18.59l7.72-7.72 1.47 1.35L5.41 20z\"/>\n",
              "  </svg>\n",
              "      </button>\n",
              "      \n",
              "  <style>\n",
              "    .colab-df-container {\n",
              "      display:flex;\n",
              "      flex-wrap:wrap;\n",
              "      gap: 12px;\n",
              "    }\n",
              "\n",
              "    .colab-df-convert {\n",
              "      background-color: #E8F0FE;\n",
              "      border: none;\n",
              "      border-radius: 50%;\n",
              "      cursor: pointer;\n",
              "      display: none;\n",
              "      fill: #1967D2;\n",
              "      height: 32px;\n",
              "      padding: 0 0 0 0;\n",
              "      width: 32px;\n",
              "    }\n",
              "\n",
              "    .colab-df-convert:hover {\n",
              "      background-color: #E2EBFA;\n",
              "      box-shadow: 0px 1px 2px rgba(60, 64, 67, 0.3), 0px 1px 3px 1px rgba(60, 64, 67, 0.15);\n",
              "      fill: #174EA6;\n",
              "    }\n",
              "\n",
              "    [theme=dark] .colab-df-convert {\n",
              "      background-color: #3B4455;\n",
              "      fill: #D2E3FC;\n",
              "    }\n",
              "\n",
              "    [theme=dark] .colab-df-convert:hover {\n",
              "      background-color: #434B5C;\n",
              "      box-shadow: 0px 1px 3px 1px rgba(0, 0, 0, 0.15);\n",
              "      filter: drop-shadow(0px 1px 2px rgba(0, 0, 0, 0.3));\n",
              "      fill: #FFFFFF;\n",
              "    }\n",
              "  </style>\n",
              "\n",
              "      <script>\n",
              "        const buttonEl =\n",
              "          document.querySelector('#df-414682e6-a9df-4e8f-8ac6-3cff129b60f3 button.colab-df-convert');\n",
              "        buttonEl.style.display =\n",
              "          google.colab.kernel.accessAllowed ? 'block' : 'none';\n",
              "\n",
              "        async function convertToInteractive(key) {\n",
              "          const element = document.querySelector('#df-414682e6-a9df-4e8f-8ac6-3cff129b60f3');\n",
              "          const dataTable =\n",
              "            await google.colab.kernel.invokeFunction('convertToInteractive',\n",
              "                                                     [key], {});\n",
              "          if (!dataTable) return;\n",
              "\n",
              "          const docLinkHtml = 'Like what you see? Visit the ' +\n",
              "            '<a target=\"_blank\" href=https://colab.research.google.com/notebooks/data_table.ipynb>data table notebook</a>'\n",
              "            + ' to learn more about interactive tables.';\n",
              "          element.innerHTML = '';\n",
              "          dataTable['output_type'] = 'display_data';\n",
              "          await google.colab.output.renderOutput(dataTable, element);\n",
              "          const docLink = document.createElement('div');\n",
              "          docLink.innerHTML = docLinkHtml;\n",
              "          element.appendChild(docLink);\n",
              "        }\n",
              "      </script>\n",
              "    </div>\n",
              "  </div>\n",
              "  "
            ]
          },
          "metadata": {},
          "execution_count": 12
        }
      ],
      "source": [
        "final_dataset.head()"
      ]
    },
    {
      "cell_type": "code",
      "execution_count": 13,
      "id": "a06de018",
      "metadata": {
        "id": "a06de018"
      },
      "outputs": [],
      "source": [
        "#For calculating age of car\n",
        "final_dataset['No_Year']=final_dataset['Current_Year']-final_dataset['Year']"
      ]
    },
    {
      "cell_type": "code",
      "execution_count": 14,
      "id": "9847e6dd",
      "metadata": {
        "colab": {
          "base_uri": "https://localhost:8080/",
          "height": 206
        },
        "id": "9847e6dd",
        "outputId": "323669e8-d434-4cfe-d4ae-d94a3cc8d96e"
      },
      "outputs": [
        {
          "output_type": "execute_result",
          "data": {
            "text/plain": [
              "   Year  Selling_Price  Kms_Driven Fuel_Type Seller_Type Transmission  \\\n",
              "0  2007          60000       70000    Petrol  Individual       Manual   \n",
              "1  2007         135000       50000    Petrol  Individual       Manual   \n",
              "2  2012         600000      100000    Diesel  Individual       Manual   \n",
              "3  2017         250000       46000    Petrol  Individual       Manual   \n",
              "4  2014         450000      141000    Diesel  Individual       Manual   \n",
              "\n",
              "          Owner  Current_Year  No_Year  \n",
              "0   First Owner          2022       15  \n",
              "1   First Owner          2022       15  \n",
              "2   First Owner          2022       10  \n",
              "3   First Owner          2022        5  \n",
              "4  Second Owner          2022        8  "
            ],
            "text/html": [
              "\n",
              "  <div id=\"df-9fb7459c-32db-4def-9c90-219930e26927\">\n",
              "    <div class=\"colab-df-container\">\n",
              "      <div>\n",
              "<style scoped>\n",
              "    .dataframe tbody tr th:only-of-type {\n",
              "        vertical-align: middle;\n",
              "    }\n",
              "\n",
              "    .dataframe tbody tr th {\n",
              "        vertical-align: top;\n",
              "    }\n",
              "\n",
              "    .dataframe thead th {\n",
              "        text-align: right;\n",
              "    }\n",
              "</style>\n",
              "<table border=\"1\" class=\"dataframe\">\n",
              "  <thead>\n",
              "    <tr style=\"text-align: right;\">\n",
              "      <th></th>\n",
              "      <th>Year</th>\n",
              "      <th>Selling_Price</th>\n",
              "      <th>Kms_Driven</th>\n",
              "      <th>Fuel_Type</th>\n",
              "      <th>Seller_Type</th>\n",
              "      <th>Transmission</th>\n",
              "      <th>Owner</th>\n",
              "      <th>Current_Year</th>\n",
              "      <th>No_Year</th>\n",
              "    </tr>\n",
              "  </thead>\n",
              "  <tbody>\n",
              "    <tr>\n",
              "      <th>0</th>\n",
              "      <td>2007</td>\n",
              "      <td>60000</td>\n",
              "      <td>70000</td>\n",
              "      <td>Petrol</td>\n",
              "      <td>Individual</td>\n",
              "      <td>Manual</td>\n",
              "      <td>First Owner</td>\n",
              "      <td>2022</td>\n",
              "      <td>15</td>\n",
              "    </tr>\n",
              "    <tr>\n",
              "      <th>1</th>\n",
              "      <td>2007</td>\n",
              "      <td>135000</td>\n",
              "      <td>50000</td>\n",
              "      <td>Petrol</td>\n",
              "      <td>Individual</td>\n",
              "      <td>Manual</td>\n",
              "      <td>First Owner</td>\n",
              "      <td>2022</td>\n",
              "      <td>15</td>\n",
              "    </tr>\n",
              "    <tr>\n",
              "      <th>2</th>\n",
              "      <td>2012</td>\n",
              "      <td>600000</td>\n",
              "      <td>100000</td>\n",
              "      <td>Diesel</td>\n",
              "      <td>Individual</td>\n",
              "      <td>Manual</td>\n",
              "      <td>First Owner</td>\n",
              "      <td>2022</td>\n",
              "      <td>10</td>\n",
              "    </tr>\n",
              "    <tr>\n",
              "      <th>3</th>\n",
              "      <td>2017</td>\n",
              "      <td>250000</td>\n",
              "      <td>46000</td>\n",
              "      <td>Petrol</td>\n",
              "      <td>Individual</td>\n",
              "      <td>Manual</td>\n",
              "      <td>First Owner</td>\n",
              "      <td>2022</td>\n",
              "      <td>5</td>\n",
              "    </tr>\n",
              "    <tr>\n",
              "      <th>4</th>\n",
              "      <td>2014</td>\n",
              "      <td>450000</td>\n",
              "      <td>141000</td>\n",
              "      <td>Diesel</td>\n",
              "      <td>Individual</td>\n",
              "      <td>Manual</td>\n",
              "      <td>Second Owner</td>\n",
              "      <td>2022</td>\n",
              "      <td>8</td>\n",
              "    </tr>\n",
              "  </tbody>\n",
              "</table>\n",
              "</div>\n",
              "      <button class=\"colab-df-convert\" onclick=\"convertToInteractive('df-9fb7459c-32db-4def-9c90-219930e26927')\"\n",
              "              title=\"Convert this dataframe to an interactive table.\"\n",
              "              style=\"display:none;\">\n",
              "        \n",
              "  <svg xmlns=\"http://www.w3.org/2000/svg\" height=\"24px\"viewBox=\"0 0 24 24\"\n",
              "       width=\"24px\">\n",
              "    <path d=\"M0 0h24v24H0V0z\" fill=\"none\"/>\n",
              "    <path d=\"M18.56 5.44l.94 2.06.94-2.06 2.06-.94-2.06-.94-.94-2.06-.94 2.06-2.06.94zm-11 1L8.5 8.5l.94-2.06 2.06-.94-2.06-.94L8.5 2.5l-.94 2.06-2.06.94zm10 10l.94 2.06.94-2.06 2.06-.94-2.06-.94-.94-2.06-.94 2.06-2.06.94z\"/><path d=\"M17.41 7.96l-1.37-1.37c-.4-.4-.92-.59-1.43-.59-.52 0-1.04.2-1.43.59L10.3 9.45l-7.72 7.72c-.78.78-.78 2.05 0 2.83L4 21.41c.39.39.9.59 1.41.59.51 0 1.02-.2 1.41-.59l7.78-7.78 2.81-2.81c.8-.78.8-2.07 0-2.86zM5.41 20L4 18.59l7.72-7.72 1.47 1.35L5.41 20z\"/>\n",
              "  </svg>\n",
              "      </button>\n",
              "      \n",
              "  <style>\n",
              "    .colab-df-container {\n",
              "      display:flex;\n",
              "      flex-wrap:wrap;\n",
              "      gap: 12px;\n",
              "    }\n",
              "\n",
              "    .colab-df-convert {\n",
              "      background-color: #E8F0FE;\n",
              "      border: none;\n",
              "      border-radius: 50%;\n",
              "      cursor: pointer;\n",
              "      display: none;\n",
              "      fill: #1967D2;\n",
              "      height: 32px;\n",
              "      padding: 0 0 0 0;\n",
              "      width: 32px;\n",
              "    }\n",
              "\n",
              "    .colab-df-convert:hover {\n",
              "      background-color: #E2EBFA;\n",
              "      box-shadow: 0px 1px 2px rgba(60, 64, 67, 0.3), 0px 1px 3px 1px rgba(60, 64, 67, 0.15);\n",
              "      fill: #174EA6;\n",
              "    }\n",
              "\n",
              "    [theme=dark] .colab-df-convert {\n",
              "      background-color: #3B4455;\n",
              "      fill: #D2E3FC;\n",
              "    }\n",
              "\n",
              "    [theme=dark] .colab-df-convert:hover {\n",
              "      background-color: #434B5C;\n",
              "      box-shadow: 0px 1px 3px 1px rgba(0, 0, 0, 0.15);\n",
              "      filter: drop-shadow(0px 1px 2px rgba(0, 0, 0, 0.3));\n",
              "      fill: #FFFFFF;\n",
              "    }\n",
              "  </style>\n",
              "\n",
              "      <script>\n",
              "        const buttonEl =\n",
              "          document.querySelector('#df-9fb7459c-32db-4def-9c90-219930e26927 button.colab-df-convert');\n",
              "        buttonEl.style.display =\n",
              "          google.colab.kernel.accessAllowed ? 'block' : 'none';\n",
              "\n",
              "        async function convertToInteractive(key) {\n",
              "          const element = document.querySelector('#df-9fb7459c-32db-4def-9c90-219930e26927');\n",
              "          const dataTable =\n",
              "            await google.colab.kernel.invokeFunction('convertToInteractive',\n",
              "                                                     [key], {});\n",
              "          if (!dataTable) return;\n",
              "\n",
              "          const docLinkHtml = 'Like what you see? Visit the ' +\n",
              "            '<a target=\"_blank\" href=https://colab.research.google.com/notebooks/data_table.ipynb>data table notebook</a>'\n",
              "            + ' to learn more about interactive tables.';\n",
              "          element.innerHTML = '';\n",
              "          dataTable['output_type'] = 'display_data';\n",
              "          await google.colab.output.renderOutput(dataTable, element);\n",
              "          const docLink = document.createElement('div');\n",
              "          docLink.innerHTML = docLinkHtml;\n",
              "          element.appendChild(docLink);\n",
              "        }\n",
              "      </script>\n",
              "    </div>\n",
              "  </div>\n",
              "  "
            ]
          },
          "metadata": {},
          "execution_count": 14
        }
      ],
      "source": [
        "final_dataset.head()"
      ]
    },
    {
      "cell_type": "code",
      "execution_count": 15,
      "id": "e5bfa913",
      "metadata": {
        "id": "e5bfa913"
      },
      "outputs": [],
      "source": [
        "#delete Year Column\n",
        "final_dataset.drop(['Year'],axis=1,inplace=True)"
      ]
    },
    {
      "cell_type": "code",
      "execution_count": 16,
      "id": "811c8c66",
      "metadata": {
        "id": "811c8c66"
      },
      "outputs": [],
      "source": [
        "#delete Current_Year Column\n",
        "final_dataset.drop(['Current_Year'],axis=1,inplace=True)"
      ]
    },
    {
      "cell_type": "code",
      "execution_count": 17,
      "id": "8562dba7",
      "metadata": {
        "colab": {
          "base_uri": "https://localhost:8080/",
          "height": 206
        },
        "id": "8562dba7",
        "outputId": "1b64dce9-8f1a-48eb-9ffa-7ad0aa6e68dd"
      },
      "outputs": [
        {
          "output_type": "execute_result",
          "data": {
            "text/plain": [
              "   Selling_Price  Kms_Driven Fuel_Type Seller_Type Transmission         Owner  \\\n",
              "0          60000       70000    Petrol  Individual       Manual   First Owner   \n",
              "1         135000       50000    Petrol  Individual       Manual   First Owner   \n",
              "2         600000      100000    Diesel  Individual       Manual   First Owner   \n",
              "3         250000       46000    Petrol  Individual       Manual   First Owner   \n",
              "4         450000      141000    Diesel  Individual       Manual  Second Owner   \n",
              "\n",
              "   No_Year  \n",
              "0       15  \n",
              "1       15  \n",
              "2       10  \n",
              "3        5  \n",
              "4        8  "
            ],
            "text/html": [
              "\n",
              "  <div id=\"df-c23189a1-d2cf-4030-940b-c36791dfeec8\">\n",
              "    <div class=\"colab-df-container\">\n",
              "      <div>\n",
              "<style scoped>\n",
              "    .dataframe tbody tr th:only-of-type {\n",
              "        vertical-align: middle;\n",
              "    }\n",
              "\n",
              "    .dataframe tbody tr th {\n",
              "        vertical-align: top;\n",
              "    }\n",
              "\n",
              "    .dataframe thead th {\n",
              "        text-align: right;\n",
              "    }\n",
              "</style>\n",
              "<table border=\"1\" class=\"dataframe\">\n",
              "  <thead>\n",
              "    <tr style=\"text-align: right;\">\n",
              "      <th></th>\n",
              "      <th>Selling_Price</th>\n",
              "      <th>Kms_Driven</th>\n",
              "      <th>Fuel_Type</th>\n",
              "      <th>Seller_Type</th>\n",
              "      <th>Transmission</th>\n",
              "      <th>Owner</th>\n",
              "      <th>No_Year</th>\n",
              "    </tr>\n",
              "  </thead>\n",
              "  <tbody>\n",
              "    <tr>\n",
              "      <th>0</th>\n",
              "      <td>60000</td>\n",
              "      <td>70000</td>\n",
              "      <td>Petrol</td>\n",
              "      <td>Individual</td>\n",
              "      <td>Manual</td>\n",
              "      <td>First Owner</td>\n",
              "      <td>15</td>\n",
              "    </tr>\n",
              "    <tr>\n",
              "      <th>1</th>\n",
              "      <td>135000</td>\n",
              "      <td>50000</td>\n",
              "      <td>Petrol</td>\n",
              "      <td>Individual</td>\n",
              "      <td>Manual</td>\n",
              "      <td>First Owner</td>\n",
              "      <td>15</td>\n",
              "    </tr>\n",
              "    <tr>\n",
              "      <th>2</th>\n",
              "      <td>600000</td>\n",
              "      <td>100000</td>\n",
              "      <td>Diesel</td>\n",
              "      <td>Individual</td>\n",
              "      <td>Manual</td>\n",
              "      <td>First Owner</td>\n",
              "      <td>10</td>\n",
              "    </tr>\n",
              "    <tr>\n",
              "      <th>3</th>\n",
              "      <td>250000</td>\n",
              "      <td>46000</td>\n",
              "      <td>Petrol</td>\n",
              "      <td>Individual</td>\n",
              "      <td>Manual</td>\n",
              "      <td>First Owner</td>\n",
              "      <td>5</td>\n",
              "    </tr>\n",
              "    <tr>\n",
              "      <th>4</th>\n",
              "      <td>450000</td>\n",
              "      <td>141000</td>\n",
              "      <td>Diesel</td>\n",
              "      <td>Individual</td>\n",
              "      <td>Manual</td>\n",
              "      <td>Second Owner</td>\n",
              "      <td>8</td>\n",
              "    </tr>\n",
              "  </tbody>\n",
              "</table>\n",
              "</div>\n",
              "      <button class=\"colab-df-convert\" onclick=\"convertToInteractive('df-c23189a1-d2cf-4030-940b-c36791dfeec8')\"\n",
              "              title=\"Convert this dataframe to an interactive table.\"\n",
              "              style=\"display:none;\">\n",
              "        \n",
              "  <svg xmlns=\"http://www.w3.org/2000/svg\" height=\"24px\"viewBox=\"0 0 24 24\"\n",
              "       width=\"24px\">\n",
              "    <path d=\"M0 0h24v24H0V0z\" fill=\"none\"/>\n",
              "    <path d=\"M18.56 5.44l.94 2.06.94-2.06 2.06-.94-2.06-.94-.94-2.06-.94 2.06-2.06.94zm-11 1L8.5 8.5l.94-2.06 2.06-.94-2.06-.94L8.5 2.5l-.94 2.06-2.06.94zm10 10l.94 2.06.94-2.06 2.06-.94-2.06-.94-.94-2.06-.94 2.06-2.06.94z\"/><path d=\"M17.41 7.96l-1.37-1.37c-.4-.4-.92-.59-1.43-.59-.52 0-1.04.2-1.43.59L10.3 9.45l-7.72 7.72c-.78.78-.78 2.05 0 2.83L4 21.41c.39.39.9.59 1.41.59.51 0 1.02-.2 1.41-.59l7.78-7.78 2.81-2.81c.8-.78.8-2.07 0-2.86zM5.41 20L4 18.59l7.72-7.72 1.47 1.35L5.41 20z\"/>\n",
              "  </svg>\n",
              "      </button>\n",
              "      \n",
              "  <style>\n",
              "    .colab-df-container {\n",
              "      display:flex;\n",
              "      flex-wrap:wrap;\n",
              "      gap: 12px;\n",
              "    }\n",
              "\n",
              "    .colab-df-convert {\n",
              "      background-color: #E8F0FE;\n",
              "      border: none;\n",
              "      border-radius: 50%;\n",
              "      cursor: pointer;\n",
              "      display: none;\n",
              "      fill: #1967D2;\n",
              "      height: 32px;\n",
              "      padding: 0 0 0 0;\n",
              "      width: 32px;\n",
              "    }\n",
              "\n",
              "    .colab-df-convert:hover {\n",
              "      background-color: #E2EBFA;\n",
              "      box-shadow: 0px 1px 2px rgba(60, 64, 67, 0.3), 0px 1px 3px 1px rgba(60, 64, 67, 0.15);\n",
              "      fill: #174EA6;\n",
              "    }\n",
              "\n",
              "    [theme=dark] .colab-df-convert {\n",
              "      background-color: #3B4455;\n",
              "      fill: #D2E3FC;\n",
              "    }\n",
              "\n",
              "    [theme=dark] .colab-df-convert:hover {\n",
              "      background-color: #434B5C;\n",
              "      box-shadow: 0px 1px 3px 1px rgba(0, 0, 0, 0.15);\n",
              "      filter: drop-shadow(0px 1px 2px rgba(0, 0, 0, 0.3));\n",
              "      fill: #FFFFFF;\n",
              "    }\n",
              "  </style>\n",
              "\n",
              "      <script>\n",
              "        const buttonEl =\n",
              "          document.querySelector('#df-c23189a1-d2cf-4030-940b-c36791dfeec8 button.colab-df-convert');\n",
              "        buttonEl.style.display =\n",
              "          google.colab.kernel.accessAllowed ? 'block' : 'none';\n",
              "\n",
              "        async function convertToInteractive(key) {\n",
              "          const element = document.querySelector('#df-c23189a1-d2cf-4030-940b-c36791dfeec8');\n",
              "          const dataTable =\n",
              "            await google.colab.kernel.invokeFunction('convertToInteractive',\n",
              "                                                     [key], {});\n",
              "          if (!dataTable) return;\n",
              "\n",
              "          const docLinkHtml = 'Like what you see? Visit the ' +\n",
              "            '<a target=\"_blank\" href=https://colab.research.google.com/notebooks/data_table.ipynb>data table notebook</a>'\n",
              "            + ' to learn more about interactive tables.';\n",
              "          element.innerHTML = '';\n",
              "          dataTable['output_type'] = 'display_data';\n",
              "          await google.colab.output.renderOutput(dataTable, element);\n",
              "          const docLink = document.createElement('div');\n",
              "          docLink.innerHTML = docLinkHtml;\n",
              "          element.appendChild(docLink);\n",
              "        }\n",
              "      </script>\n",
              "    </div>\n",
              "  </div>\n",
              "  "
            ]
          },
          "metadata": {},
          "execution_count": 17
        }
      ],
      "source": [
        "final_dataset.head()"
      ]
    },
    {
      "cell_type": "code",
      "execution_count": 18,
      "id": "d52951fc",
      "metadata": {
        "id": "d52951fc"
      },
      "outputs": [],
      "source": [
        "corr=final_dataset.corr()"
      ]
    },
    {
      "cell_type": "code",
      "execution_count": 19,
      "id": "b5b6238f",
      "metadata": {
        "colab": {
          "base_uri": "https://localhost:8080/",
          "height": 143
        },
        "id": "b5b6238f",
        "outputId": "5148f857-c00b-44f2-a6b6-a0e57b5fc41b"
      },
      "outputs": [
        {
          "output_type": "execute_result",
          "data": {
            "text/plain": [
              "               Selling_Price  Kms_Driven   No_Year\n",
              "Selling_Price       1.000000   -0.192348 -0.413963\n",
              "Kms_Driven         -0.192348    1.000000  0.419624\n",
              "No_Year            -0.413963    0.419624  1.000000"
            ],
            "text/html": [
              "\n",
              "  <div id=\"df-010c67c7-abbd-4fd3-94b3-bc695e3b3469\">\n",
              "    <div class=\"colab-df-container\">\n",
              "      <div>\n",
              "<style scoped>\n",
              "    .dataframe tbody tr th:only-of-type {\n",
              "        vertical-align: middle;\n",
              "    }\n",
              "\n",
              "    .dataframe tbody tr th {\n",
              "        vertical-align: top;\n",
              "    }\n",
              "\n",
              "    .dataframe thead th {\n",
              "        text-align: right;\n",
              "    }\n",
              "</style>\n",
              "<table border=\"1\" class=\"dataframe\">\n",
              "  <thead>\n",
              "    <tr style=\"text-align: right;\">\n",
              "      <th></th>\n",
              "      <th>Selling_Price</th>\n",
              "      <th>Kms_Driven</th>\n",
              "      <th>No_Year</th>\n",
              "    </tr>\n",
              "  </thead>\n",
              "  <tbody>\n",
              "    <tr>\n",
              "      <th>Selling_Price</th>\n",
              "      <td>1.000000</td>\n",
              "      <td>-0.192348</td>\n",
              "      <td>-0.413963</td>\n",
              "    </tr>\n",
              "    <tr>\n",
              "      <th>Kms_Driven</th>\n",
              "      <td>-0.192348</td>\n",
              "      <td>1.000000</td>\n",
              "      <td>0.419624</td>\n",
              "    </tr>\n",
              "    <tr>\n",
              "      <th>No_Year</th>\n",
              "      <td>-0.413963</td>\n",
              "      <td>0.419624</td>\n",
              "      <td>1.000000</td>\n",
              "    </tr>\n",
              "  </tbody>\n",
              "</table>\n",
              "</div>\n",
              "      <button class=\"colab-df-convert\" onclick=\"convertToInteractive('df-010c67c7-abbd-4fd3-94b3-bc695e3b3469')\"\n",
              "              title=\"Convert this dataframe to an interactive table.\"\n",
              "              style=\"display:none;\">\n",
              "        \n",
              "  <svg xmlns=\"http://www.w3.org/2000/svg\" height=\"24px\"viewBox=\"0 0 24 24\"\n",
              "       width=\"24px\">\n",
              "    <path d=\"M0 0h24v24H0V0z\" fill=\"none\"/>\n",
              "    <path d=\"M18.56 5.44l.94 2.06.94-2.06 2.06-.94-2.06-.94-.94-2.06-.94 2.06-2.06.94zm-11 1L8.5 8.5l.94-2.06 2.06-.94-2.06-.94L8.5 2.5l-.94 2.06-2.06.94zm10 10l.94 2.06.94-2.06 2.06-.94-2.06-.94-.94-2.06-.94 2.06-2.06.94z\"/><path d=\"M17.41 7.96l-1.37-1.37c-.4-.4-.92-.59-1.43-.59-.52 0-1.04.2-1.43.59L10.3 9.45l-7.72 7.72c-.78.78-.78 2.05 0 2.83L4 21.41c.39.39.9.59 1.41.59.51 0 1.02-.2 1.41-.59l7.78-7.78 2.81-2.81c.8-.78.8-2.07 0-2.86zM5.41 20L4 18.59l7.72-7.72 1.47 1.35L5.41 20z\"/>\n",
              "  </svg>\n",
              "      </button>\n",
              "      \n",
              "  <style>\n",
              "    .colab-df-container {\n",
              "      display:flex;\n",
              "      flex-wrap:wrap;\n",
              "      gap: 12px;\n",
              "    }\n",
              "\n",
              "    .colab-df-convert {\n",
              "      background-color: #E8F0FE;\n",
              "      border: none;\n",
              "      border-radius: 50%;\n",
              "      cursor: pointer;\n",
              "      display: none;\n",
              "      fill: #1967D2;\n",
              "      height: 32px;\n",
              "      padding: 0 0 0 0;\n",
              "      width: 32px;\n",
              "    }\n",
              "\n",
              "    .colab-df-convert:hover {\n",
              "      background-color: #E2EBFA;\n",
              "      box-shadow: 0px 1px 2px rgba(60, 64, 67, 0.3), 0px 1px 3px 1px rgba(60, 64, 67, 0.15);\n",
              "      fill: #174EA6;\n",
              "    }\n",
              "\n",
              "    [theme=dark] .colab-df-convert {\n",
              "      background-color: #3B4455;\n",
              "      fill: #D2E3FC;\n",
              "    }\n",
              "\n",
              "    [theme=dark] .colab-df-convert:hover {\n",
              "      background-color: #434B5C;\n",
              "      box-shadow: 0px 1px 3px 1px rgba(0, 0, 0, 0.15);\n",
              "      filter: drop-shadow(0px 1px 2px rgba(0, 0, 0, 0.3));\n",
              "      fill: #FFFFFF;\n",
              "    }\n",
              "  </style>\n",
              "\n",
              "      <script>\n",
              "        const buttonEl =\n",
              "          document.querySelector('#df-010c67c7-abbd-4fd3-94b3-bc695e3b3469 button.colab-df-convert');\n",
              "        buttonEl.style.display =\n",
              "          google.colab.kernel.accessAllowed ? 'block' : 'none';\n",
              "\n",
              "        async function convertToInteractive(key) {\n",
              "          const element = document.querySelector('#df-010c67c7-abbd-4fd3-94b3-bc695e3b3469');\n",
              "          const dataTable =\n",
              "            await google.colab.kernel.invokeFunction('convertToInteractive',\n",
              "                                                     [key], {});\n",
              "          if (!dataTable) return;\n",
              "\n",
              "          const docLinkHtml = 'Like what you see? Visit the ' +\n",
              "            '<a target=\"_blank\" href=https://colab.research.google.com/notebooks/data_table.ipynb>data table notebook</a>'\n",
              "            + ' to learn more about interactive tables.';\n",
              "          element.innerHTML = '';\n",
              "          dataTable['output_type'] = 'display_data';\n",
              "          await google.colab.output.renderOutput(dataTable, element);\n",
              "          const docLink = document.createElement('div');\n",
              "          docLink.innerHTML = docLinkHtml;\n",
              "          element.appendChild(docLink);\n",
              "        }\n",
              "      </script>\n",
              "    </div>\n",
              "  </div>\n",
              "  "
            ]
          },
          "metadata": {},
          "execution_count": 19
        }
      ],
      "source": [
        "corr"
      ]
    },
    {
      "cell_type": "code",
      "execution_count": 20,
      "id": "0cbfeb30",
      "metadata": {
        "colab": {
          "base_uri": "https://localhost:8080/",
          "height": 287
        },
        "id": "0cbfeb30",
        "outputId": "91cfc797-192d-42aa-bf45-85bd9d54be65"
      },
      "outputs": [
        {
          "output_type": "execute_result",
          "data": {
            "text/plain": [
              "<matplotlib.axes._subplots.AxesSubplot at 0x7fc7de3cb710>"
            ]
          },
          "metadata": {},
          "execution_count": 20
        },
        {
          "output_type": "display_data",
          "data": {
            "text/plain": [
              "<Figure size 432x288 with 2 Axes>"
            ],
            "image/png": "[encoded data removed]"
          },
          "metadata": {
            "needs_background": "light"
          }
        }
      ],
      "source": [
        "import seaborn as sns\n",
        "sns.heatmap(final_dataset.corr(),annot=True)"
      ]
    },
    {
      "cell_type": "markdown",
      "id": "c0e1e436",
      "metadata": {
        "id": "c0e1e436"
      },
      "source": [
        "No features are highly correlated with each other."
      ]
    },
    {
      "cell_type": "markdown",
      "id": "7758baf3",
      "metadata": {
        "id": "7758baf3"
      },
      "source": [
        "# Making Box Plot of the numeric attributes to check if there is any outliers"
      ]
    },
    {
      "cell_type": "code",
      "execution_count": 21,
      "id": "d4974e12",
      "metadata": {
        "colab": {
          "base_uri": "https://localhost:8080/",
          "height": 269
        },
        "id": "d4974e12",
        "outputId": "e1f00849-b0b8-4739-ac3c-5387e62c03a2"
      },
      "outputs": [
        {
          "output_type": "execute_result",
          "data": {
            "text/plain": [
              "<matplotlib.axes._subplots.AxesSubplot at 0x7fc7dba8ea10>"
            ]
          },
          "metadata": {},
          "execution_count": 21
        },
        {
          "output_type": "display_data",
          "data": {
            "text/plain": [
              "<Figure size 432x288 with 1 Axes>"
            ],
            "image/png": "[encoded data removed]"
          },
          "metadata": {
            "needs_background": "light"
          }
        }
      ],
      "source": [
        "sns.boxplot(y='Kms_Driven', data=final_dataset)"
      ]
    },
    {
      "cell_type": "code",
      "execution_count": 22,
      "id": "88e2de68",
      "metadata": {
        "colab": {
          "base_uri": "https://localhost:8080/",
          "height": 269
        },
        "id": "88e2de68",
        "outputId": "0e6bddc2-7328-4992-d8c1-9cfae3d1871c"
      },
      "outputs": [
        {
          "output_type": "execute_result",
          "data": {
            "text/plain": [
              "<matplotlib.axes._subplots.AxesSubplot at 0x7fc7db5d2fd0>"
            ]
          },
          "metadata": {},
          "execution_count": 22
        },
        {
          "output_type": "display_data",
          "data": {
            "text/plain": [
              "<Figure size 432x288 with 1 Axes>"
            ],
            "image/png": "[encoded data removed]"
          },
          "metadata": {
            "needs_background": "light"
          }
        }
      ],
      "source": [
        "sns.boxplot(y='No_Year', data=final_dataset)"
      ]
    },
    {
      "cell_type": "markdown",
      "id": "87b68516",
      "metadata": {
        "id": "87b68516"
      },
      "source": [
        "# EDA"
      ]
    },
    {
      "cell_type": "code",
      "execution_count": 23,
      "id": "8df4d406",
      "metadata": {
        "colab": {
          "base_uri": "https://localhost:8080/",
          "height": 297
        },
        "id": "8df4d406",
        "outputId": "6e060df0-b945-44fc-9fff-207ff91a6309"
      },
      "outputs": [
        {
          "output_type": "execute_result",
          "data": {
            "text/plain": [
              "<matplotlib.axes._subplots.AxesSubplot at 0x7fc7db5f2350>"
            ]
          },
          "metadata": {},
          "execution_count": 23
        },
        {
          "output_type": "display_data",
          "data": {
            "text/plain": [
              "<Figure size 432x288 with 1 Axes>"
            ],
            "image/png": "[encoded data removed]"
          },
          "metadata": {
            "needs_background": "light"
          }
        }
      ],
      "source": [
        "sns.countplot(x='Fuel_Type', data=final_dataset)"
      ]
    },
    {
      "cell_type": "code",
      "execution_count": 24,
      "id": "d1f3c753",
      "metadata": {
        "colab": {
          "base_uri": "https://localhost:8080/",
          "height": 335
        },
        "id": "d1f3c753",
        "outputId": "ca14b94d-32e7-4041-e726-483b6c769385"
      },
      "outputs": [
        {
          "output_type": "execute_result",
          "data": {
            "text/plain": [
              "<matplotlib.axes._subplots.AxesSubplot at 0x7fc7db4ffe10>"
            ]
          },
          "metadata": {},
          "execution_count": 24
        },
        {
          "output_type": "display_data",
          "data": {
            "text/plain": [
              "<Figure size 432x288 with 1 Axes>"
            ],
            "image/png": "[encoded data removed]"
          },
          "metadata": {
            "needs_background": "light"
          }
        }
      ],
      "source": [
        "import matplotlib.pyplot as plt\n",
        "plt.figure()\n",
        "final_dataset.groupby('Fuel_Type')['Selling_Price'].mean().plot(kind='bar')"
      ]
    },
    {
      "cell_type": "markdown",
      "id": "e92312d3",
      "metadata": {
        "id": "e92312d3"
      },
      "source": [
        "Highest selling count is on petrol cars, diesel cars and lowest selling count on electric vehicles.But average selling price is highest on diesel cars and lowest on LPG variant. For petrol,electric and cng cars avg selling price is quite same."
      ]
    },
    {
      "cell_type": "code",
      "execution_count": 25,
      "id": "841ce9c7",
      "metadata": {
        "colab": {
          "base_uri": "https://localhost:8080/",
          "height": 296
        },
        "id": "841ce9c7",
        "outputId": "c38b2a07-62bd-462b-db8a-3b956116a57f"
      },
      "outputs": [
        {
          "output_type": "execute_result",
          "data": {
            "text/plain": [
              "<matplotlib.axes._subplots.AxesSubplot at 0x7fc7db441090>"
            ]
          },
          "metadata": {},
          "execution_count": 25
        },
        {
          "output_type": "display_data",
          "data": {
            "text/plain": [
              "<Figure size 432x288 with 1 Axes>"
            ],
            "image/png": "[encoded data removed]"
          },
          "metadata": {
            "needs_background": "light"
          }
        }
      ],
      "source": [
        "sns.countplot(x='Transmission', data=final_dataset)"
      ]
    },
    {
      "cell_type": "code",
      "execution_count": 26,
      "id": "cce025d8",
      "metadata": {
        "colab": {
          "base_uri": "https://localhost:8080/",
          "height": 348
        },
        "id": "cce025d8",
        "outputId": "1f030fc4-390a-4397-b516-830a1fc5ee81"
      },
      "outputs": [
        {
          "output_type": "execute_result",
          "data": {
            "text/plain": [
              "<matplotlib.axes._subplots.AxesSubplot at 0x7fc7db3e9ed0>"
            ]
          },
          "metadata": {},
          "execution_count": 26
        },
        {
          "output_type": "display_data",
          "data": {
            "text/plain": [
              "<Figure size 432x288 with 1 Axes>"
            ],
            "image/png": "[encoded data removed]"
          },
          "metadata": {
            "needs_background": "light"
          }
        }
      ],
      "source": [
        "plt.figure()\n",
        "final_dataset.groupby('Transmission')['Selling_Price'].mean().plot(kind='bar')"
      ]
    },
    {
      "cell_type": "markdown",
      "id": "f2288b25",
      "metadata": {
        "id": "f2288b25"
      },
      "source": [
        "Manual transmission cars more come for 2nd hand sale than automatic transmission cars but average selling price is more on automatic transmission cars than manual transmission cars."
      ]
    },
    {
      "cell_type": "markdown",
      "source": [
        "#Histogram"
      ],
      "metadata": {
        "id": "gBCXSOcwfkaw"
      },
      "id": "gBCXSOcwfkaw"
    },
    {
      "cell_type": "code",
      "source": [
        "sns.histplot(x='Selling_Price',data=final_dataset,bins=10,kde=True)"
      ],
      "metadata": {
        "colab": {
          "base_uri": "https://localhost:8080/",
          "height": 300
        },
        "id": "XnWaZh_IfjHg",
        "outputId": "07578cd3-d6ff-4bc7-d1fb-5031c98abf6b"
      },
      "id": "XnWaZh_IfjHg",
      "execution_count": 27,
      "outputs": [
        {
          "output_type": "execute_result",
          "data": {
            "text/plain": [
              "<matplotlib.axes._subplots.AxesSubplot at 0x7fc7db34f710>"
            ]
          },
          "metadata": {},
          "execution_count": 27
        },
        {
          "output_type": "display_data",
          "data": {
            "text/plain": [
              "<Figure size 432x288 with 1 Axes>"
            ],
            "image/png": "[encoded data removed]"
          },
          "metadata": {
            "needs_background": "light"
          }
        }
      ]
    },
    {
      "cell_type": "code",
      "source": [
        "sns.histplot(x='Kms_Driven',data=final_dataset,bins=10,kde=True)"
      ],
      "metadata": {
        "colab": {
          "base_uri": "https://localhost:8080/",
          "height": 297
        },
        "id": "pJfpT1KPf2yu",
        "outputId": "3da5039c-f7de-44e5-d216-2ae7d47ede92"
      },
      "id": "pJfpT1KPf2yu",
      "execution_count": 28,
      "outputs": [
        {
          "output_type": "execute_result",
          "data": {
            "text/plain": [
              "<matplotlib.axes._subplots.AxesSubplot at 0x7fc7d928c710>"
            ]
          },
          "metadata": {},
          "execution_count": 28
        },
        {
          "output_type": "display_data",
          "data": {
            "text/plain": [
              "<Figure size 432x288 with 1 Axes>"
            ],
            "image/png": "[encoded data removed]"
          },
          "metadata": {
            "needs_background": "light"
          }
        }
      ]
    },
    {
      "cell_type": "code",
      "source": [
        "sns.histplot(x='No_Year',data=final_dataset,bins=10,kde=True)"
      ],
      "metadata": {
        "colab": {
          "base_uri": "https://localhost:8080/",
          "height": 297
        },
        "id": "O8UbXi6Nf3EK",
        "outputId": "a58fff84-05b0-4acc-f55c-6dc113181483"
      },
      "id": "O8UbXi6Nf3EK",
      "execution_count": 29,
      "outputs": [
        {
          "output_type": "execute_result",
          "data": {
            "text/plain": [
              "<matplotlib.axes._subplots.AxesSubplot at 0x7fc7db3f3c50>"
            ]
          },
          "metadata": {},
          "execution_count": 29
        },
        {
          "output_type": "display_data",
          "data": {
            "text/plain": [
              "<Figure size 432x288 with 1 Axes>"
            ],
            "image/png": "[encoded data removed]"
          },
          "metadata": {
            "needs_background": "light"
          }
        }
      ]
    },
    {
      "cell_type": "code",
      "execution_count": 30,
      "id": "4918de19",
      "metadata": {
        "colab": {
          "base_uri": "https://localhost:8080/",
          "height": 296
        },
        "id": "4918de19",
        "outputId": "a41b968c-7fbc-4a5f-d0ec-98f19b5ff1aa"
      },
      "outputs": [
        {
          "output_type": "execute_result",
          "data": {
            "text/plain": [
              "<matplotlib.axes._subplots.AxesSubplot at 0x7fc7d91df5d0>"
            ]
          },
          "metadata": {},
          "execution_count": 30
        },
        {
          "output_type": "display_data",
          "data": {
            "text/plain": [
              "<Figure size 648x288 with 1 Axes>"
            ],
            "image/png": "[encoded data removed]"
          },
          "metadata": {
            "needs_background": "light"
          }
        }
      ],
      "source": [
        "plt.figure(figsize=(9,4))\n",
        "sns.countplot(x='Owner', data=final_dataset)"
      ]
    },
    {
      "cell_type": "code",
      "execution_count": 31,
      "id": "dc5a42da",
      "metadata": {
        "colab": {
          "base_uri": "https://localhost:8080/",
          "height": 410
        },
        "id": "dc5a42da",
        "outputId": "47856171-d3d3-4b01-df27-324c91676af6"
      },
      "outputs": [
        {
          "output_type": "execute_result",
          "data": {
            "text/plain": [
              "<matplotlib.axes._subplots.AxesSubplot at 0x7fc7d911d550>"
            ]
          },
          "metadata": {},
          "execution_count": 31
        },
        {
          "output_type": "display_data",
          "data": {
            "text/plain": [
              "<Figure size 648x288 with 1 Axes>"
            ],
            "image/png": "[encoded data removed]"
          },
          "metadata": {
            "needs_background": "light"
          }
        }
      ],
      "source": [
        "import matplotlib.pyplot as plt\n",
        "%matplotlib inline\n",
        "plt.figure(figsize=(9,4))\n",
        "final_dataset.groupby('Owner')['Selling_Price'].mean().plot(kind='bar')"
      ]
    },
    {
      "cell_type": "markdown",
      "id": "98e715c5",
      "metadata": {
        "id": "98e715c5"
      },
      "source": [
        "Highest no of cars are 1st owner cars then 2nd and 3 rd owner cars and lowest count of test drive cars. But average selling price is highest for test drive car. As no of ownership for a car increase, price will decrease. "
      ]
    },
    {
      "cell_type": "code",
      "execution_count": 32,
      "id": "1d6fe737",
      "metadata": {
        "colab": {
          "base_uri": "https://localhost:8080/",
          "height": 297
        },
        "id": "1d6fe737",
        "outputId": "13fafa22-1353-4350-9e7c-0eb96d444d8a"
      },
      "outputs": [
        {
          "output_type": "execute_result",
          "data": {
            "text/plain": [
              "<matplotlib.axes._subplots.AxesSubplot at 0x7fc7d9080210>"
            ]
          },
          "metadata": {},
          "execution_count": 32
        },
        {
          "output_type": "display_data",
          "data": {
            "text/plain": [
              "<Figure size 432x288 with 1 Axes>"
            ],
            "image/png": "[encoded data removed]"
          },
          "metadata": {
            "needs_background": "light"
          }
        }
      ],
      "source": [
        "sns.countplot(x='Seller_Type', data=final_dataset)"
      ]
    },
    {
      "cell_type": "markdown",
      "id": "176cedff",
      "metadata": {
        "id": "176cedff"
      },
      "source": [
        "As per data most of the seller choice to sell their cars individually  inspite of selling through dealer."
      ]
    },
    {
      "cell_type": "code",
      "execution_count": 33,
      "id": "970f9c53",
      "metadata": {
        "colab": {
          "base_uri": "https://localhost:8080/",
          "height": 297
        },
        "id": "970f9c53",
        "outputId": "eb3a9e5c-c31a-4fe9-9502-288ccad04899"
      },
      "outputs": [
        {
          "output_type": "execute_result",
          "data": {
            "text/plain": [
              "<matplotlib.axes._subplots.AxesSubplot at 0x7fc7ece2f7d0>"
            ]
          },
          "metadata": {},
          "execution_count": 33
        },
        {
          "output_type": "display_data",
          "data": {
            "text/plain": [
              "<Figure size 936x288 with 1 Axes>"
            ],
            "image/png": "[encoded data removed]"
          },
          "metadata": {
            "needs_background": "light"
          }
        }
      ],
      "source": [
        "plt.figure(figsize=(13,4))\n",
        "sns.countplot(x='No_Year', data=final_dataset)"
      ]
    },
    {
      "cell_type": "code",
      "execution_count": 34,
      "id": "cb11c10b",
      "metadata": {
        "colab": {
          "base_uri": "https://localhost:8080/",
          "height": 311
        },
        "id": "cb11c10b",
        "outputId": "f233968b-ec26-4428-cdf7-aa2e9d5b3222"
      },
      "outputs": [
        {
          "output_type": "execute_result",
          "data": {
            "text/plain": [
              "<matplotlib.axes._subplots.AxesSubplot at 0x7fc7d8f6f250>"
            ]
          },
          "metadata": {},
          "execution_count": 34
        },
        {
          "output_type": "display_data",
          "data": {
            "text/plain": [
              "<Figure size 936x288 with 1 Axes>"
            ],
            "image/png": "[encoded data removed]"
          },
          "metadata": {
            "needs_background": "light"
          }
        }
      ],
      "source": [
        "plt.figure(figsize=(13,4))\n",
        "final_dataset.groupby('No_Year')['Selling_Price'].mean().plot(kind='bar')"
      ]
    },
    {
      "cell_type": "markdown",
      "id": "340ed27d",
      "metadata": {
        "id": "340ed27d"
      },
      "source": [
        "No.of years more average resale value of cars will be less but it is not followed such significant pattern because price is not only dependent on age of car also it will vary for different model and different brand of cars."
      ]
    },
    {
      "cell_type": "markdown",
      "id": "fbaf9312",
      "metadata": {
        "id": "fbaf9312"
      },
      "source": [
        "From the exploratory Data Analysis we can say that if any car has high value if it's Diesel driven as well as seller type is 'Dealer' and if its transmission type is 'Automatic' and owner type is 'First Owner' then its price will be higher. More over higher the year of service lower the selling price is also noticed."
      ]
    },
    {
      "cell_type": "markdown",
      "id": "e6e19b9b",
      "metadata": {
        "id": "e6e19b9b"
      },
      "source": [
        "# User Defined function for Outlier Treatment"
      ]
    },
    {
      "cell_type": "code",
      "execution_count": 35,
      "id": "e5b39f73",
      "metadata": {
        "id": "e5b39f73"
      },
      "outputs": [],
      "source": [
        "car1=final_dataset.copy()"
      ]
    },
    {
      "cell_type": "code",
      "execution_count": 41,
      "id": "9edaf388",
      "metadata": {
        "id": "9edaf388"
      },
      "outputs": [],
      "source": [
        "outliers = []\n",
        "upper_lim = 0\n",
        "lower_lim = 0\n",
        "def outlier_detection(x):\n",
        "    global outliers\n",
        "    x_dict = dict(final_dataset[x].describe())\n",
        "    print(x_dict)\n",
        "    Q1 = x_dict['25%']\n",
        "    print(\"Q1 :\", Q1)\n",
        "    Q3 = x_dict['75%']\n",
        "    print(\"Q3 :\", Q3)\n",
        "    IQR = Q3 - Q1\n",
        "    print(\"Inter quartile range is \", IQR)\n",
        "    global lower_lim\n",
        "    global upper_lim\n",
        "    lower_lim = Q1 - 1.5 * IQR\n",
        "    upper_lim = Q3 + 1.5 * IQR\n",
        "    return (lower_lim,upper_lim)"
      ]
    },
    {
      "cell_type": "code",
      "execution_count": 42,
      "id": "c8dbb3d5",
      "metadata": {
        "colab": {
          "base_uri": "https://localhost:8080/"
        },
        "id": "c8dbb3d5",
        "outputId": "2bfd0fcb-2669-430c-f578-131f9f77b2c1"
      },
      "outputs": [
        {
          "output_type": "stream",
          "name": "stdout",
          "text": [
            "{'count': 4340.0, 'mean': 66195.0400921659, 'std': 46649.08484645755, 'min': 1.0, '25%': 35000.0, '50%': 60000.0, '75%': 90000.0, 'max': 806599.0}\n",
            "Q1 : 35000.0\n",
            "Q3 : 90000.0\n",
            "Inter quartile range is  55000.0\n"
          ]
        },
        {
          "output_type": "execute_result",
          "data": {
            "text/plain": [
              "(-47500.0, 172500.0)"
            ]
          },
          "metadata": {},
          "execution_count": 42
        }
      ],
      "source": [
        "outlier_detection('Kms_Driven')"
      ]
    },
    {
      "cell_type": "code",
      "execution_count": 43,
      "id": "972a2031",
      "metadata": {
        "id": "972a2031"
      },
      "outputs": [],
      "source": [
        "car1.loc[((car1['Kms_Driven']>= 172500) & (car1['Kms_Driven']<=806599.0)), 'Kms_Driven' ]=round(upper_lim)"
      ]
    },
    {
      "cell_type": "code",
      "execution_count": 44,
      "id": "95e56ba3",
      "metadata": {
        "id": "95e56ba3",
        "colab": {
          "base_uri": "https://localhost:8080/",
          "height": 406
        },
        "outputId": "9e43da97-d2e5-488e-c1ea-5a45a5084faa"
      },
      "outputs": [
        {
          "output_type": "execute_result",
          "data": {
            "text/plain": [
              "Text(0.5, 0, 'Histogram of Kms_Driven before outlier treatment')"
            ]
          },
          "metadata": {},
          "execution_count": 44
        },
        {
          "output_type": "display_data",
          "data": {
            "text/plain": [
              "<Figure size 1080x432 with 4 Axes>"
            ],
            "image/png": "[encoded data removed]"
          },
          "metadata": {
            "needs_background": "light"
          }
        }
      ],
      "source": [
        "fig,axes = plt.subplots(nrows=2, ncols=2, figsize=(15,6))\n",
        "sns.boxplot(x='Kms_Driven',data=car1,ax=axes[0,0])\n",
        "axes[0,0].set_xlabel('Boxplot of Kms_Driven after outlier treatment')\n",
        "sns.boxplot(x='Kms_Driven',data=final_dataset,ax=axes[0,1])\n",
        "axes[0,1].set_xlabel('Boxplot of Kms_Driven before outlier treatment')\n",
        "sns.histplot(x='Kms_Driven',data=car1,kde=True,ax=axes[1,0])\n",
        "axes[1,0].set_xlabel('Histogram of Kms_Driven after outlier treatment')\n",
        "sns.histplot(x='Kms_Driven',data=final_dataset,kde=True,ax=axes[1,1])\n",
        "axes[1,1].set_xlabel('Histogram of Kms_Driven before outlier treatment')"
      ]
    },
    {
      "cell_type": "code",
      "execution_count": 45,
      "id": "7ad2c3a2",
      "metadata": {
        "id": "7ad2c3a2",
        "colab": {
          "base_uri": "https://localhost:8080/"
        },
        "outputId": "1763bc13-6775-4f6f-bb48-48193072b06e"
      },
      "outputs": [
        {
          "output_type": "stream",
          "name": "stdout",
          "text": [
            "{'count': 4340.0, 'mean': 8.903225806451612, 'std': 4.2157573472895695, 'min': 0.0, '25%': 6.0, '50%': 8.0, '75%': 11.0, 'max': 30.0}\n",
            "Q1 : 6.0\n",
            "Q3 : 11.0\n",
            "Inter quartile range is  5.0\n"
          ]
        },
        {
          "output_type": "execute_result",
          "data": {
            "text/plain": [
              "(-1.5, 18.5)"
            ]
          },
          "metadata": {},
          "execution_count": 45
        }
      ],
      "source": [
        "outliers.clear()\n",
        "outlier_detection('No_Year')"
      ]
    },
    {
      "cell_type": "code",
      "execution_count": 46,
      "id": "855b159d",
      "metadata": {
        "id": "855b159d"
      },
      "outputs": [],
      "source": [
        "car1.loc[((car1['No_Year']>= 18) & (car1['No_Year']<=30.0)), 'No_Year' ]=round(upper_lim)"
      ]
    },
    {
      "cell_type": "code",
      "execution_count": 47,
      "id": "1cf22a0b",
      "metadata": {
        "id": "1cf22a0b",
        "colab": {
          "base_uri": "https://localhost:8080/",
          "height": 406
        },
        "outputId": "a9852e0f-a351-44cf-d397-35d32fd3d9b2"
      },
      "outputs": [
        {
          "output_type": "execute_result",
          "data": {
            "text/plain": [
              "Text(0.5, 0, 'Histogram of No_Year before outlier treatment')"
            ]
          },
          "metadata": {},
          "execution_count": 47
        },
        {
          "output_type": "display_data",
          "data": {
            "text/plain": [
              "<Figure size 1080x432 with 4 Axes>"
            ],
            "image/png": "[encoded data removed]"
          },
          "metadata": {
            "needs_background": "light"
          }
        }
      ],
      "source": [
        "fig,axes = plt.subplots(nrows=2, ncols=2, figsize=(15,6))\n",
        "sns.boxplot(x='No_Year',data=car1,ax=axes[0,0])\n",
        "axes[0,0].set_xlabel('Boxplot of No_Year after outlier treatment')\n",
        "sns.boxplot(x='No_Year',data=final_dataset,ax=axes[0,1])\n",
        "axes[0,1].set_xlabel('Boxplot of No_Year before outlier treatment')\n",
        "sns.histplot(x='No_Year',data=car1,kde=True,ax=axes[1,0])\n",
        "axes[1,0].set_xlabel('Histogram of  No_Year after outlier treatment')\n",
        "sns.histplot(x='No_Year',data=final_dataset,kde=True,ax=axes[1,1])\n",
        "axes[1,1].set_xlabel('Histogram of No_Year before outlier treatment')"
      ]
    },
    {
      "cell_type": "code",
      "execution_count": 48,
      "id": "67a45b88",
      "metadata": {
        "id": "67a45b88",
        "colab": {
          "base_uri": "https://localhost:8080/",
          "height": 206
        },
        "outputId": "06494e2f-2039-48aa-fe4f-ce933432d171"
      },
      "outputs": [
        {
          "output_type": "execute_result",
          "data": {
            "text/plain": [
              "   Selling_Price  Kms_Driven Fuel_Type Seller_Type Transmission         Owner  \\\n",
              "0          60000       70000    Petrol  Individual       Manual   First Owner   \n",
              "1         135000       50000    Petrol  Individual       Manual   First Owner   \n",
              "2         600000      100000    Diesel  Individual       Manual   First Owner   \n",
              "3         250000       46000    Petrol  Individual       Manual   First Owner   \n",
              "4         450000      141000    Diesel  Individual       Manual  Second Owner   \n",
              "\n",
              "   No_Year  \n",
              "0       15  \n",
              "1       15  \n",
              "2       10  \n",
              "3        5  \n",
              "4        8  "
            ],
            "text/html": [
              "\n",
              "  <div id=\"df-8b82cc97-5112-459b-89c4-a34bddc6ba91\">\n",
              "    <div class=\"colab-df-container\">\n",
              "      <div>\n",
              "<style scoped>\n",
              "    .dataframe tbody tr th:only-of-type {\n",
              "        vertical-align: middle;\n",
              "    }\n",
              "\n",
              "    .dataframe tbody tr th {\n",
              "        vertical-align: top;\n",
              "    }\n",
              "\n",
              "    .dataframe thead th {\n",
              "        text-align: right;\n",
              "    }\n",
              "</style>\n",
              "<table border=\"1\" class=\"dataframe\">\n",
              "  <thead>\n",
              "    <tr style=\"text-align: right;\">\n",
              "      <th></th>\n",
              "      <th>Selling_Price</th>\n",
              "      <th>Kms_Driven</th>\n",
              "      <th>Fuel_Type</th>\n",
              "      <th>Seller_Type</th>\n",
              "      <th>Transmission</th>\n",
              "      <th>Owner</th>\n",
              "      <th>No_Year</th>\n",
              "    </tr>\n",
              "  </thead>\n",
              "  <tbody>\n",
              "    <tr>\n",
              "      <th>0</th>\n",
              "      <td>60000</td>\n",
              "      <td>70000</td>\n",
              "      <td>Petrol</td>\n",
              "      <td>Individual</td>\n",
              "      <td>Manual</td>\n",
              "      <td>First Owner</td>\n",
              "      <td>15</td>\n",
              "    </tr>\n",
              "    <tr>\n",
              "      <th>1</th>\n",
              "      <td>135000</td>\n",
              "      <td>50000</td>\n",
              "      <td>Petrol</td>\n",
              "      <td>Individual</td>\n",
              "      <td>Manual</td>\n",
              "      <td>First Owner</td>\n",
              "      <td>15</td>\n",
              "    </tr>\n",
              "    <tr>\n",
              "      <th>2</th>\n",
              "      <td>600000</td>\n",
              "      <td>100000</td>\n",
              "      <td>Diesel</td>\n",
              "      <td>Individual</td>\n",
              "      <td>Manual</td>\n",
              "      <td>First Owner</td>\n",
              "      <td>10</td>\n",
              "    </tr>\n",
              "    <tr>\n",
              "      <th>3</th>\n",
              "      <td>250000</td>\n",
              "      <td>46000</td>\n",
              "      <td>Petrol</td>\n",
              "      <td>Individual</td>\n",
              "      <td>Manual</td>\n",
              "      <td>First Owner</td>\n",
              "      <td>5</td>\n",
              "    </tr>\n",
              "    <tr>\n",
              "      <th>4</th>\n",
              "      <td>450000</td>\n",
              "      <td>141000</td>\n",
              "      <td>Diesel</td>\n",
              "      <td>Individual</td>\n",
              "      <td>Manual</td>\n",
              "      <td>Second Owner</td>\n",
              "      <td>8</td>\n",
              "    </tr>\n",
              "  </tbody>\n",
              "</table>\n",
              "</div>\n",
              "      <button class=\"colab-df-convert\" onclick=\"convertToInteractive('df-8b82cc97-5112-459b-89c4-a34bddc6ba91')\"\n",
              "              title=\"Convert this dataframe to an interactive table.\"\n",
              "              style=\"display:none;\">\n",
              "        \n",
              "  <svg xmlns=\"http://www.w3.org/2000/svg\" height=\"24px\"viewBox=\"0 0 24 24\"\n",
              "       width=\"24px\">\n",
              "    <path d=\"M0 0h24v24H0V0z\" fill=\"none\"/>\n",
              "    <path d=\"M18.56 5.44l.94 2.06.94-2.06 2.06-.94-2.06-.94-.94-2.06-.94 2.06-2.06.94zm-11 1L8.5 8.5l.94-2.06 2.06-.94-2.06-.94L8.5 2.5l-.94 2.06-2.06.94zm10 10l.94 2.06.94-2.06 2.06-.94-2.06-.94-.94-2.06-.94 2.06-2.06.94z\"/><path d=\"M17.41 7.96l-1.37-1.37c-.4-.4-.92-.59-1.43-.59-.52 0-1.04.2-1.43.59L10.3 9.45l-7.72 7.72c-.78.78-.78 2.05 0 2.83L4 21.41c.39.39.9.59 1.41.59.51 0 1.02-.2 1.41-.59l7.78-7.78 2.81-2.81c.8-.78.8-2.07 0-2.86zM5.41 20L4 18.59l7.72-7.72 1.47 1.35L5.41 20z\"/>\n",
              "  </svg>\n",
              "      </button>\n",
              "      \n",
              "  <style>\n",
              "    .colab-df-container {\n",
              "      display:flex;\n",
              "      flex-wrap:wrap;\n",
              "      gap: 12px;\n",
              "    }\n",
              "\n",
              "    .colab-df-convert {\n",
              "      background-color: #E8F0FE;\n",
              "      border: none;\n",
              "      border-radius: 50%;\n",
              "      cursor: pointer;\n",
              "      display: none;\n",
              "      fill: #1967D2;\n",
              "      height: 32px;\n",
              "      padding: 0 0 0 0;\n",
              "      width: 32px;\n",
              "    }\n",
              "\n",
              "    .colab-df-convert:hover {\n",
              "      background-color: #E2EBFA;\n",
              "      box-shadow: 0px 1px 2px rgba(60, 64, 67, 0.3), 0px 1px 3px 1px rgba(60, 64, 67, 0.15);\n",
              "      fill: #174EA6;\n",
              "    }\n",
              "\n",
              "    [theme=dark] .colab-df-convert {\n",
              "      background-color: #3B4455;\n",
              "      fill: #D2E3FC;\n",
              "    }\n",
              "\n",
              "    [theme=dark] .colab-df-convert:hover {\n",
              "      background-color: #434B5C;\n",
              "      box-shadow: 0px 1px 3px 1px rgba(0, 0, 0, 0.15);\n",
              "      filter: drop-shadow(0px 1px 2px rgba(0, 0, 0, 0.3));\n",
              "      fill: #FFFFFF;\n",
              "    }\n",
              "  </style>\n",
              "\n",
              "      <script>\n",
              "        const buttonEl =\n",
              "          document.querySelector('#df-8b82cc97-5112-459b-89c4-a34bddc6ba91 button.colab-df-convert');\n",
              "        buttonEl.style.display =\n",
              "          google.colab.kernel.accessAllowed ? 'block' : 'none';\n",
              "\n",
              "        async function convertToInteractive(key) {\n",
              "          const element = document.querySelector('#df-8b82cc97-5112-459b-89c4-a34bddc6ba91');\n",
              "          const dataTable =\n",
              "            await google.colab.kernel.invokeFunction('convertToInteractive',\n",
              "                                                     [key], {});\n",
              "          if (!dataTable) return;\n",
              "\n",
              "          const docLinkHtml = 'Like what you see? Visit the ' +\n",
              "            '<a target=\"_blank\" href=https://colab.research.google.com/notebooks/data_table.ipynb>data table notebook</a>'\n",
              "            + ' to learn more about interactive tables.';\n",
              "          element.innerHTML = '';\n",
              "          dataTable['output_type'] = 'display_data';\n",
              "          await google.colab.output.renderOutput(dataTable, element);\n",
              "          const docLink = document.createElement('div');\n",
              "          docLink.innerHTML = docLinkHtml;\n",
              "          element.appendChild(docLink);\n",
              "        }\n",
              "      </script>\n",
              "    </div>\n",
              "  </div>\n",
              "  "
            ]
          },
          "metadata": {},
          "execution_count": 48
        }
      ],
      "source": [
        "car1.head()"
      ]
    },
    {
      "cell_type": "markdown",
      "id": "7dfdb28a",
      "metadata": {
        "id": "7dfdb28a"
      },
      "source": [
        "# Separating Predictor and Target attribute"
      ]
    },
    {
      "cell_type": "code",
      "execution_count": 49,
      "id": "1cc8c475",
      "metadata": {
        "id": "1cc8c475"
      },
      "outputs": [],
      "source": [
        "#independent and dependent features\n",
        "X = car1.drop('Selling_Price', axis = 1)\n",
        "y = car1['Selling_Price']"
      ]
    },
    {
      "cell_type": "code",
      "execution_count": 50,
      "id": "181855c2",
      "metadata": {
        "id": "181855c2",
        "colab": {
          "base_uri": "https://localhost:8080/"
        },
        "outputId": "0b0c201a-6c3d-4ea3-9233-611e1c0df516"
      },
      "outputs": [
        {
          "output_type": "execute_result",
          "data": {
            "text/plain": [
              "(4340, 6)"
            ]
          },
          "metadata": {},
          "execution_count": 50
        }
      ],
      "source": [
        "X.shape"
      ]
    },
    {
      "cell_type": "code",
      "execution_count": 51,
      "id": "ed4f19fd",
      "metadata": {
        "id": "ed4f19fd",
        "colab": {
          "base_uri": "https://localhost:8080/"
        },
        "outputId": "ed49cab7-b676-45cf-f29e-4566d539b796"
      },
      "outputs": [
        {
          "output_type": "execute_result",
          "data": {
            "text/plain": [
              "(4340,)"
            ]
          },
          "metadata": {},
          "execution_count": 51
        }
      ],
      "source": [
        "y.shape"
      ]
    },
    {
      "cell_type": "markdown",
      "source": [
        "#Separating Categorical and Numeric Variables"
      ],
      "metadata": {
        "id": "F8ZSqU8vEqT7"
      },
      "id": "F8ZSqU8vEqT7"
    },
    {
      "cell_type": "code",
      "source": [
        "X_num = X.drop(['Fuel_Type','Seller_Type','Transmission','Owner'],axis = 1)\n",
        "X_cat = X[['Fuel_Type','Seller_Type','Transmission','Owner']]"
      ],
      "metadata": {
        "id": "qZA_fz9rEqwT"
      },
      "id": "qZA_fz9rEqwT",
      "execution_count": 52,
      "outputs": []
    },
    {
      "cell_type": "code",
      "source": [
        "X_num.shape"
      ],
      "metadata": {
        "colab": {
          "base_uri": "https://localhost:8080/"
        },
        "id": "R-6UHnjeEqz3",
        "outputId": "a7407730-27dc-4b73-c162-2fa3667e0129"
      },
      "id": "R-6UHnjeEqz3",
      "execution_count": 53,
      "outputs": [
        {
          "output_type": "execute_result",
          "data": {
            "text/plain": [
              "(4340, 2)"
            ]
          },
          "metadata": {},
          "execution_count": 53
        }
      ]
    },
    {
      "cell_type": "code",
      "source": [
        "X_cat.shape"
      ],
      "metadata": {
        "colab": {
          "base_uri": "https://localhost:8080/"
        },
        "id": "gp88W7K6Eq3Z",
        "outputId": "06d030d2-3677-4bd7-bac9-f63309bd1ede"
      },
      "id": "gp88W7K6Eq3Z",
      "execution_count": 54,
      "outputs": [
        {
          "output_type": "execute_result",
          "data": {
            "text/plain": [
              "(4340, 4)"
            ]
          },
          "metadata": {},
          "execution_count": 54
        }
      ]
    },
    {
      "cell_type": "markdown",
      "source": [
        "#Preprocessing on Numerical Data"
      ],
      "metadata": {
        "id": "riWZaehnFUlp"
      },
      "id": "riWZaehnFUlp"
    },
    {
      "cell_type": "code",
      "source": [
        "from sklearn.preprocessing import StandardScaler\n",
        "scaler = StandardScaler()"
      ],
      "metadata": {
        "id": "kgtbNEMdEq7k"
      },
      "id": "kgtbNEMdEq7k",
      "execution_count": 55,
      "outputs": []
    },
    {
      "cell_type": "code",
      "source": [
        "#### Normally we follow standard scaling to avoid the error of saturation which is caused for min-max scaling\n",
        "### Min-Max scaling brings all the data in a prticular range for which we can't distinguish data with a very high value and\n",
        "### a very low value. This problem can be avoided through standard scaling. Standard scaling doesn't bring the data in any\n",
        "### particular range. Rather after this the values remain distinguishable and a curve like normal distribution can be found\n",
        "### It is for doing the scaling operation on the numerical data\n",
        "X_num_scaled = scaler.fit_transform(X_num)"
      ],
      "metadata": {
        "id": "ITutrYm7Eq_W"
      },
      "id": "ITutrYm7Eq_W",
      "execution_count": 56,
      "outputs": []
    },
    {
      "cell_type": "code",
      "source": [
        "X_num_scaled_df = pd.DataFrame(X_num_scaled, columns=X_num.columns)"
      ],
      "metadata": {
        "id": "L7Z8hJz2ErCv"
      },
      "id": "L7Z8hJz2ErCv",
      "execution_count": 57,
      "outputs": []
    },
    {
      "cell_type": "markdown",
      "source": [
        "#Preprocessing on Categorical Data"
      ],
      "metadata": {
        "id": "7L12bdZvF84K"
      },
      "id": "7L12bdZvF84K"
    },
    {
      "cell_type": "code",
      "source": [
        "#dummy encoding on X set\n",
        "X_cat_dummy=pd.get_dummies(X_cat,drop_first=True)"
      ],
      "metadata": {
        "id": "yDdj6NPQErHT"
      },
      "id": "yDdj6NPQErHT",
      "execution_count": 58,
      "outputs": []
    },
    {
      "cell_type": "code",
      "source": [
        "X_final = pd.concat([X_num_scaled_df, X_cat_dummy],axis=1,sort=False)"
      ],
      "metadata": {
        "id": "R2XUxlEMErMO"
      },
      "id": "R2XUxlEMErMO",
      "execution_count": 59,
      "outputs": []
    },
    {
      "cell_type": "code",
      "source": [
        "X_final.shape"
      ],
      "metadata": {
        "colab": {
          "base_uri": "https://localhost:8080/"
        },
        "id": "5MqqTEZiErQL",
        "outputId": "f638e0e8-5710-48cc-f847-bd67128ac613"
      },
      "id": "5MqqTEZiErQL",
      "execution_count": 60,
      "outputs": [
        {
          "output_type": "execute_result",
          "data": {
            "text/plain": [
              "(4340, 13)"
            ]
          },
          "metadata": {},
          "execution_count": 60
        }
      ]
    },
    {
      "cell_type": "code",
      "source": [
        "y.shape"
      ],
      "metadata": {
        "colab": {
          "base_uri": "https://localhost:8080/"
        },
        "id": "vj7djL5BErTy",
        "outputId": "22174b02-40e7-4232-b9b8-7506c20be8b1"
      },
      "id": "vj7djL5BErTy",
      "execution_count": 61,
      "outputs": [
        {
          "output_type": "execute_result",
          "data": {
            "text/plain": [
              "(4340,)"
            ]
          },
          "metadata": {},
          "execution_count": 61
        }
      ]
    },
    {
      "cell_type": "markdown",
      "source": [
        "#Train-test Split"
      ],
      "metadata": {
        "id": "woYSu3OQGVqo"
      },
      "id": "woYSu3OQGVqo"
    },
    {
      "cell_type": "code",
      "source": [
        "from sklearn.model_selection import train_test_split"
      ],
      "metadata": {
        "id": "rgntKk_ZErWV"
      },
      "id": "rgntKk_ZErWV",
      "execution_count": 62,
      "outputs": []
    },
    {
      "cell_type": "code",
      "source": [
        "X_train, X_test, y_train, y_test = train_test_split(X_final,y, test_size = 0.20,random_state=0)"
      ],
      "metadata": {
        "id": "GI9jNP4BErYv"
      },
      "id": "GI9jNP4BErYv",
      "execution_count": 64,
      "outputs": []
    },
    {
      "cell_type": "code",
      "source": [
        "X_train.shape, X_test.shape, y_train.shape, y_test.shape"
      ],
      "metadata": {
        "colab": {
          "base_uri": "https://localhost:8080/"
        },
        "id": "rNOni2NCGkAx",
        "outputId": "e41bfdcc-9d7b-4ed7-cb84-94528f2c5c01"
      },
      "id": "rNOni2NCGkAx",
      "execution_count": 65,
      "outputs": [
        {
          "output_type": "execute_result",
          "data": {
            "text/plain": [
              "((3472, 13), (868, 13), (3472,), (868,))"
            ]
          },
          "metadata": {},
          "execution_count": 65
        }
      ]
    },
    {
      "cell_type": "markdown",
      "id": "5b952c24",
      "metadata": {
        "id": "5b952c24"
      },
      "source": [
        "# Model-OLS"
      ]
    },
    {
      "cell_type": "code",
      "execution_count": 67,
      "id": "700616db",
      "metadata": {
        "id": "700616db"
      },
      "outputs": [],
      "source": [
        "import warnings\n",
        "warnings.filterwarnings(\"ignore\")\n",
        "import statsmodels.api as sm"
      ]
    },
    {
      "cell_type": "code",
      "execution_count": 68,
      "id": "a20c263a",
      "metadata": {
        "id": "a20c263a"
      },
      "outputs": [],
      "source": [
        "X_train_const = sm.add_constant(X_train)"
      ]
    },
    {
      "cell_type": "code",
      "execution_count": 69,
      "id": "f66d8aa5",
      "metadata": {
        "id": "f66d8aa5"
      },
      "outputs": [],
      "source": [
        "ols_model = sm.OLS( y_train, X_train_const)"
      ]
    },
    {
      "cell_type": "code",
      "execution_count": 70,
      "id": "94faf96d",
      "metadata": {
        "id": "94faf96d"
      },
      "outputs": [],
      "source": [
        "results = ols_model.fit()"
      ]
    },
    {
      "cell_type": "code",
      "execution_count": 71,
      "id": "06c88211",
      "metadata": {
        "id": "06c88211",
        "colab": {
          "base_uri": "https://localhost:8080/"
        },
        "outputId": "8087310f-cafa-46a6-ca3b-6695ada11c33"
      },
      "outputs": [
        {
          "output_type": "stream",
          "name": "stdout",
          "text": [
            "                            OLS Regression Results                            \n",
            "==============================================================================\n",
            "Dep. Variable:          Selling_Price   R-squared:                       0.451\n",
            "Model:                            OLS   Adj. R-squared:                  0.449\n",
            "Method:                 Least Squares   F-statistic:                     218.5\n",
            "Date:                Mon, 06 Jun 2022   Prob (F-statistic):               0.00\n",
            "Time:                        18:15:42   Log-Likelihood:                -49903.\n",
            "No. Observations:                3472   AIC:                         9.983e+04\n",
            "Df Residuals:                    3458   BIC:                         9.992e+04\n",
            "Df Model:                          13                                         \n",
            "Covariance Type:            nonrobust                                         \n",
            "================================================================================================\n",
            "                                   coef    std err          t      P>|t|      [0.025      0.975]\n",
            "------------------------------------------------------------------------------------------------\n",
            "const                         1.169e+06   8.06e+04     14.495      0.000    1.01e+06    1.33e+06\n",
            "Kms_Driven                   -4.591e+04   9265.504     -4.954      0.000   -6.41e+04   -2.77e+04\n",
            "No_Year                      -1.488e+05   9315.444    -15.971      0.000   -1.67e+05   -1.31e+05\n",
            "Fuel_Type_Diesel              2.892e+05   7.69e+04      3.760      0.000    1.38e+05     4.4e+05\n",
            "Fuel_Type_Electric             2.11e+04   2.25e+05      0.094      0.925    -4.2e+05    4.63e+05\n",
            "Fuel_Type_LPG                 6.007e+04    1.2e+05      0.501      0.616   -1.75e+05    2.95e+05\n",
            "Fuel_Type_Petrol             -6406.1020    7.7e+04     -0.083      0.934   -1.57e+05    1.44e+05\n",
            "Seller_Type_Individual       -6.571e+04   1.84e+04     -3.562      0.000   -1.02e+05   -2.95e+04\n",
            "Seller_Type_Trustmark Dealer  1.577e+05   4.91e+04      3.215      0.001    6.16e+04    2.54e+05\n",
            "Transmission_Manual          -8.389e+05   2.45e+04    -34.217      0.000   -8.87e+05   -7.91e+05\n",
            "Owner_Fourth & Above Owner   -1.194e+04   5.55e+04     -0.215      0.830   -1.21e+05    9.68e+04\n",
            "Owner_Second Owner           -3.366e+04   1.85e+04     -1.820      0.069   -6.99e+04    2609.128\n",
            "Owner_Test Drive Car          1.622e+05   1.24e+05      1.308      0.191   -8.09e+04    4.05e+05\n",
            "Owner_Third Owner             -4.12e+04   3.09e+04     -1.335      0.182   -1.02e+05    1.93e+04\n",
            "==============================================================================\n",
            "Omnibus:                     3797.523   Durbin-Watson:                   1.925\n",
            "Prob(Omnibus):                  0.000   Jarque-Bera (JB):           584442.248\n",
            "Skew:                           5.263   Prob(JB):                         0.00\n",
            "Kurtosis:                      65.683   Cond. No.                         56.9\n",
            "==============================================================================\n",
            "\n",
            "Warnings:\n",
            "[1] Standard Errors assume that the covariance matrix of the errors is correctly specified.\n"
          ]
        }
      ],
      "source": [
        "print(results.summary())"
      ]
    },
    {
      "cell_type": "markdown",
      "id": "835421d3",
      "metadata": {
        "id": "835421d3"
      },
      "source": [
        "Interpretation: After doing multiple regression we can understand from the adjusted R square value that, the model can describe 44.9% of the variability of the dependent variable(Selling_Price) . But after building the model we can see that all independent variables have p value lower than 0.05 except 'Fuel_Type_Electric', 'Fuel_Type_LPG', 'Fuel_Type_Petrol','Owner_Fourth & Above Owner', 'Owner_Second Owner','Owner_Test Drive Car','Owner_Third Owner'.\n",
        "So at 95% confidence level we can say that, these independent variables can be identified as non-significant variables.So we are removing these independent variables and then building a new model"
      ]
    },
    {
      "cell_type": "code",
      "execution_count": 72,
      "id": "7582672f",
      "metadata": {
        "id": "7582672f",
        "colab": {
          "base_uri": "https://localhost:8080/"
        },
        "outputId": "af42b43f-08ff-4389-dc4f-4fa45bd122c0"
      },
      "outputs": [
        {
          "output_type": "execute_result",
          "data": {
            "text/plain": [
              "Index(['const', 'Kms_Driven', 'No_Year', 'Fuel_Type_Diesel',\n",
              "       'Fuel_Type_Electric', 'Fuel_Type_LPG', 'Fuel_Type_Petrol',\n",
              "       'Seller_Type_Individual', 'Seller_Type_Trustmark Dealer',\n",
              "       'Transmission_Manual', 'Owner_Fourth & Above Owner',\n",
              "       'Owner_Second Owner', 'Owner_Test Drive Car', 'Owner_Third Owner'],\n",
              "      dtype='object')"
            ]
          },
          "metadata": {},
          "execution_count": 72
        }
      ],
      "source": [
        "X_train_const.columns"
      ]
    },
    {
      "cell_type": "code",
      "execution_count": 73,
      "id": "747a5ee7",
      "metadata": {
        "id": "747a5ee7"
      },
      "outputs": [],
      "source": [
        "X_train_const = X_train_const.drop(['Fuel_Type_Electric', 'Fuel_Type_LPG', 'Fuel_Type_Petrol','Owner_Fourth & Above Owner',\n",
        "       'Owner_Second Owner', 'Owner_Test Drive Car', 'Owner_Third Owner'], axis=1)"
      ]
    },
    {
      "cell_type": "code",
      "execution_count": 74,
      "id": "d8ccc753",
      "metadata": {
        "id": "d8ccc753"
      },
      "outputs": [],
      "source": [
        "ols_model1 = sm.OLS(y_train, X_train_const).fit()"
      ]
    },
    {
      "cell_type": "code",
      "execution_count": 75,
      "id": "44bdd1c1",
      "metadata": {
        "id": "44bdd1c1",
        "colab": {
          "base_uri": "https://localhost:8080/"
        },
        "outputId": "22535029-d430-4b23-b43a-b994e3d15c8e"
      },
      "outputs": [
        {
          "output_type": "stream",
          "name": "stdout",
          "text": [
            "                            OLS Regression Results                            \n",
            "==============================================================================\n",
            "Dep. Variable:          Selling_Price   R-squared:                       0.450\n",
            "Model:                            OLS   Adj. R-squared:                  0.449\n",
            "Method:                 Least Squares   F-statistic:                     472.6\n",
            "Date:                Mon, 06 Jun 2022   Prob (F-statistic):               0.00\n",
            "Time:                        18:17:17   Log-Likelihood:                -49906.\n",
            "No. Observations:                3472   AIC:                         9.983e+04\n",
            "Df Residuals:                    3465   BIC:                         9.987e+04\n",
            "Df Model:                           6                                         \n",
            "Covariance Type:            nonrobust                                         \n",
            "================================================================================================\n",
            "                                   coef    std err          t      P>|t|      [0.025      0.975]\n",
            "------------------------------------------------------------------------------------------------\n",
            "const                         1.156e+06   2.66e+04     43.468      0.000     1.1e+06    1.21e+06\n",
            "Kms_Driven                   -4.801e+04   9162.975     -5.240      0.000    -6.6e+04      -3e+04\n",
            "No_Year                      -1.555e+05   8664.709    -17.941      0.000   -1.72e+05   -1.38e+05\n",
            "Fuel_Type_Diesel               2.94e+05   1.61e+04     18.309      0.000    2.62e+05    3.25e+05\n",
            "Seller_Type_Individual       -7.434e+04    1.8e+04     -4.123      0.000    -1.1e+05    -3.9e+04\n",
            "Seller_Type_Trustmark Dealer  1.552e+05    4.9e+04      3.169      0.002    5.92e+04    2.51e+05\n",
            "Transmission_Manual          -8.361e+05   2.45e+04    -34.191      0.000   -8.84e+05   -7.88e+05\n",
            "==============================================================================\n",
            "Omnibus:                     3789.664   Durbin-Watson:                   1.926\n",
            "Prob(Omnibus):                  0.000   Jarque-Bera (JB):           579036.335\n",
            "Skew:                           5.246   Prob(JB):                         0.00\n",
            "Kurtosis:                      65.390   Cond. No.                         11.4\n",
            "==============================================================================\n",
            "\n",
            "Warnings:\n",
            "[1] Standard Errors assume that the covariance matrix of the errors is correctly specified.\n"
          ]
        }
      ],
      "source": [
        "print(ols_model1.summary())"
      ]
    },
    {
      "cell_type": "markdown",
      "id": "7e6c6de7",
      "metadata": {
        "id": "7e6c6de7"
      },
      "source": [
        "Here we can see that all independent variables have p-value lower than 0.05 i.e, all the independent variables are significant. But the Adjusted R square value is same as 44.9% as the previous one.\n",
        "\n",
        "Looking at the attributes we can conclude that the Sales_Price depends mainly on Kms_driven, Fuel type,seller type,transmission type along with age of vehicle(No_Year)."
      ]
    },
    {
      "cell_type": "markdown",
      "id": "9cc3912b",
      "metadata": {
        "id": "9cc3912b"
      },
      "source": [
        "# Predictive Analysis"
      ]
    },
    {
      "cell_type": "markdown",
      "id": "f8f0c098",
      "metadata": {
        "id": "f8f0c098"
      },
      "source": [
        "# K-nn"
      ]
    },
    {
      "cell_type": "code",
      "execution_count": 76,
      "id": "7ff94eca",
      "metadata": {
        "id": "7ff94eca"
      },
      "outputs": [],
      "source": [
        "from sklearn.neighbors import KNeighborsRegressor as KNR"
      ]
    },
    {
      "cell_type": "code",
      "execution_count": 77,
      "id": "87c32fce",
      "metadata": {
        "id": "87c32fce"
      },
      "outputs": [],
      "source": [
        "model = KNR(n_neighbors = 3)    # Initially assigning the k value as 3 i.e. it will check for 3 nearest neighbours"
      ]
    },
    {
      "cell_type": "code",
      "execution_count": 78,
      "id": "a2e49460",
      "metadata": {
        "id": "a2e49460",
        "colab": {
          "base_uri": "https://localhost:8080/"
        },
        "outputId": "ad9a4b99-759f-4830-d8bc-b09ac3f705df"
      },
      "outputs": [
        {
          "output_type": "execute_result",
          "data": {
            "text/plain": [
              "KNeighborsRegressor(n_neighbors=3)"
            ]
          },
          "metadata": {},
          "execution_count": 78
        }
      ],
      "source": [
        "model.fit(X_train, y_train)"
      ]
    },
    {
      "cell_type": "code",
      "execution_count": 79,
      "id": "e1578fe3",
      "metadata": {
        "id": "e1578fe3"
      },
      "outputs": [],
      "source": [
        "y_train_pred_KNR = model.predict(X_train)"
      ]
    },
    {
      "cell_type": "code",
      "execution_count": 81,
      "id": "83a83fc0",
      "metadata": {
        "id": "83a83fc0"
      },
      "outputs": [],
      "source": [
        "y_test_pred_KNR = model.predict(X_test)"
      ]
    },
    {
      "cell_type": "code",
      "execution_count": 82,
      "id": "164eff25",
      "metadata": {
        "id": "164eff25"
      },
      "outputs": [],
      "source": [
        "import numpy as np\n",
        "from sklearn.metrics import mean_squared_log_error, mean_squared_error, mean_absolute_error\n",
        "from sklearn.metrics import r2_score"
      ]
    },
    {
      "cell_type": "code",
      "execution_count": 83,
      "id": "e499eee4",
      "metadata": {
        "id": "e499eee4",
        "colab": {
          "base_uri": "https://localhost:8080/"
        },
        "outputId": "58ed1fca-38f6-46e9-a878-d50402ab6bf1"
      },
      "outputs": [
        {
          "output_type": "stream",
          "name": "stdout",
          "text": [
            "MAE: 128904.22830261137\n",
            "MSE: 69093757526.25916\n",
            "RMSE: 262856.91454907396\n",
            "R2 score: 0.7875817474490838\n"
          ]
        }
      ],
      "source": [
        "#For train set\n",
        "mae = mean_absolute_error(y_train, y_train_pred_KNR)\n",
        "mse = mean_squared_error(y_train, y_train_pred_KNR)\n",
        "rmse = np.sqrt(mean_squared_error(y_train, y_train_pred_KNR))\n",
        "r2 = r2_score(y_train, y_train_pred_KNR)\n",
        "\n",
        "print(\"MAE:\", mae)\n",
        "print(\"MSE:\", mse)\n",
        "print(\"RMSE:\", rmse)\n",
        "print(\"R2 score:\", r2)\n"
      ]
    },
    {
      "cell_type": "code",
      "execution_count": 84,
      "id": "9b2df9b4",
      "metadata": {
        "id": "9b2df9b4",
        "colab": {
          "base_uri": "https://localhost:8080/"
        },
        "outputId": "aaf09d3a-7e9c-4289-e8c0-d2eeee828cba"
      },
      "outputs": [
        {
          "output_type": "stream",
          "name": "stdout",
          "text": [
            "MAE: 178780.2741935484\n",
            "MSE: 112105554768.54327\n",
            "RMSE: 334821.6760733141\n",
            "R2 score: 0.6981144696891677\n"
          ]
        }
      ],
      "source": [
        "#For test set\n",
        "#For train set\n",
        "mae = mean_absolute_error(y_test, y_test_pred_KNR)\n",
        "mse = mean_squared_error(y_test, y_test_pred_KNR)\n",
        "rmse = np.sqrt(mean_squared_error(y_test, y_test_pred_KNR))\n",
        "r2 = r2_score(y_test, y_test_pred_KNR)\n",
        "\n",
        "print(\"MAE:\", mae)\n",
        "print(\"MSE:\", mse)\n",
        "print(\"RMSE:\", rmse)\n",
        "print(\"R2 score:\", r2)"
      ]
    },
    {
      "cell_type": "code",
      "execution_count": 85,
      "id": "2ec09b14",
      "metadata": {
        "id": "2ec09b14",
        "colab": {
          "base_uri": "https://localhost:8080/",
          "height": 308
        },
        "outputId": "d69ca104-7b15-42f4-cb29-539aa9d3cee8"
      },
      "outputs": [
        {
          "output_type": "execute_result",
          "data": {
            "text/plain": [
              "<matplotlib.axes._subplots.AxesSubplot at 0x7fc7c7fb2150>"
            ]
          },
          "metadata": {},
          "execution_count": 85
        },
        {
          "output_type": "display_data",
          "data": {
            "text/plain": [
              "<Figure size 432x288 with 1 Axes>"
            ],
            "image/png": "[encoded data removed]"
          },
          "metadata": {
            "needs_background": "light"
          }
        }
      ],
      "source": [
        "sns.regplot(y_test, y_test_pred_KNR)"
      ]
    },
    {
      "cell_type": "markdown",
      "id": "dffc668a",
      "metadata": {
        "id": "dffc668a"
      },
      "source": [
        "# The KNN model can explain 69.81% variability of the dependent variable for test set and for train set it can explain 78.75% variability of the dependent variable"
      ]
    },
    {
      "cell_type": "markdown",
      "id": "778401c6",
      "metadata": {
        "id": "778401c6"
      },
      "source": [
        "# Trying different value of K to check which value gives lowest RMSE"
      ]
    },
    {
      "cell_type": "code",
      "execution_count": 86,
      "id": "08389d72",
      "metadata": {
        "id": "08389d72",
        "colab": {
          "base_uri": "https://localhost:8080/"
        },
        "outputId": "13f2a73e-d65a-4a44-c6e8-c06dba0e1dcd"
      },
      "outputs": [
        {
          "output_type": "stream",
          "name": "stdout",
          "text": [
            "RMSE value for k=  1 is: 351137.7068186128\n",
            "R2 score for value k=  1 is: 0.6679755222482319\n",
            "RMSE value for k=  2 is: 334087.49722919264\n",
            "R2 score for value k=  2 is: 0.6994369346766607\n",
            "RMSE value for k=  3 is: 334821.6760733141\n",
            "R2 score for value k=  3 is: 0.6981144696891677\n",
            "RMSE value for k=  4 is: 333072.34405261587\n",
            "R2 score for value k=  4 is: 0.7012607322762852\n",
            "RMSE value for k=  5 is: 324124.4261940087\n",
            "R2 score for value k=  5 is: 0.717096261214482\n",
            "RMSE value for k=  6 is: 327187.64091711753\n",
            "R2 score for value k=  6 is: 0.711723695571416\n",
            "RMSE value for k=  7 is: 328429.51517376315\n",
            "R2 score for value k=  7 is: 0.7095311779159652\n",
            "RMSE value for k=  8 is: 331256.2163859974\n",
            "R2 score for value k=  8 is: 0.7045096930160344\n",
            "RMSE value for k=  9 is: 331958.7091716626\n",
            "R2 score for value k=  9 is: 0.703255075561934\n",
            "RMSE value for k=  10 is: 331775.814254732\n",
            "R2 score for value k=  10 is: 0.7035819727676862\n",
            "RMSE value for k=  11 is: 334276.4584915081\n",
            "R2 score for value k=  11 is: 0.699096839112597\n",
            "RMSE value for k=  12 is: 335226.6974981312\n",
            "R2 score for value k=  12 is: 0.6973836683750392\n",
            "RMSE value for k=  13 is: 338328.4002288888\n",
            "R2 score for value k=  13 is: 0.6917578142763814\n",
            "RMSE value for k=  14 is: 340126.7355295747\n",
            "R2 score for value k=  14 is: 0.6884722726877518\n",
            "RMSE value for k=  15 is: 342877.9348717288\n",
            "R2 score for value k=  15 is: 0.6834121517400662\n",
            "RMSE value for k=  16 is: 347233.7063374927\n",
            "R2 score for value k=  16 is: 0.6753174732447502\n",
            "RMSE value for k=  17 is: 349690.3918598927\n",
            "R2 score for value k=  17 is: 0.6707069500266919\n",
            "RMSE value for k=  18 is: 353629.3518564541\n",
            "R2 score for value k=  18 is: 0.6632467659343727\n",
            "RMSE value for k=  19 is: 358245.15439029277\n",
            "R2 score for value k=  19 is: 0.6543983439405072\n",
            "RMSE value for k=  20 is: 359919.85003996844\n",
            "R2 score for value k=  20 is: 0.6511596098262296\n",
            "RMSE value for k=  21 is: 357481.12909736496\n",
            "R2 score for value k=  21 is: 0.6558708933206457\n",
            "RMSE value for k=  22 is: 358036.9791036755\n",
            "R2 score for value k=  22 is: 0.6547998836079207\n",
            "RMSE value for k=  23 is: 357522.7853598193\n",
            "R2 score for value k=  23 is: 0.6557906878695867\n",
            "RMSE value for k=  24 is: 356514.60553864477\n",
            "R2 score for value k=  24 is: 0.6577292249842384\n",
            "RMSE value for k=  25 is: 351400.17776145344\n",
            "R2 score for value k=  25 is: 0.6674789686364757\n",
            "RMSE value for k=  26 is: 349831.2318894171\n",
            "R2 score for value k=  26 is: 0.6704416468704968\n",
            "RMSE value for k=  27 is: 350188.8933276094\n",
            "R2 score for value k=  27 is: 0.6697674328033114\n",
            "RMSE value for k=  28 is: 350608.17183951463\n",
            "R2 score for value k=  28 is: 0.6689761895045997\n",
            "RMSE value for k=  29 is: 350929.9644711106\n",
            "R2 score for value k=  29 is: 0.6683682749445092\n",
            "RMSE value for k=  30 is: 352457.3961047776\n",
            "R2 score for value k=  30 is: 0.6654751212469883\n",
            "The maximum R2 score we get is 0.717096261214482\n",
            "The minimum error we get is  324124.4261940087\n",
            "The corresponding K value is  5\n"
          ]
        }
      ],
      "source": [
        "rmse_val_list = [] #to store rmse values for different k\n",
        "r2_list = []\n",
        "\n",
        "for K in range(30):\n",
        "    K = K+1\n",
        "    model = KNR(n_neighbors = K)\n",
        "\n",
        "    model.fit(X_train, y_train)  #fit the model\n",
        "    y_pred = model.predict(X_test) #make prediction on test set\n",
        "    error = np.sqrt(mean_squared_error(y_test, y_pred)) #calculate rmse\n",
        "    r2 = r2_score(y_test, y_pred)\n",
        "    print('RMSE value for k= ' , K , 'is:', error)\n",
        "    print('R2 score for value k= ', K ,'is:', r2)\n",
        "    \n",
        "    rmse_val_list.append(error) #store rmse values\n",
        "    r2_list.append(r2)\n",
        "    \n",
        "print(\"The maximum R2 score we get is\", max(r2_list))    \n",
        "print(\"The minimum error we get is \", min(rmse_val_list))\n",
        "print(\"The corresponding K value is \", 1+rmse_val_list.index(min(rmse_val_list)))"
      ]
    },
    {
      "cell_type": "markdown",
      "id": "9cff2dc2",
      "metadata": {
        "id": "9cff2dc2"
      },
      "source": [
        "# Hyper parameter tuning and Grid Search"
      ]
    },
    {
      "cell_type": "code",
      "execution_count": 87,
      "id": "5c780ffd",
      "metadata": {
        "id": "5c780ffd"
      },
      "outputs": [],
      "source": [
        "from sklearn.model_selection import GridSearchCV\n",
        "from sklearn.model_selection import cross_val_score\n",
        "\n",
        "params = {'n_neighbors': np.arange(3,50,2),'weights':['uniform', 'distance'],'p':[1,2]}# p=1--> manhattan distance,\n",
        "                                                                                         # p=2--> euclidean distance\n",
        "                                                                                         # Weight=uniform --> all points are\n",
        "                                                                                         #        weighted equally\n",
        "                                                                                         # Weight=distance --> Weight points by\n",
        "                                                                                         #   the inverse of their distance"
      ]
    },
    {
      "cell_type": "code",
      "execution_count": 89,
      "id": "4cc076ad",
      "metadata": {
        "id": "4cc076ad",
        "colab": {
          "base_uri": "https://localhost:8080/"
        },
        "outputId": "c375895a-6716-47e8-df21-2279bebf64d1"
      },
      "outputs": [
        {
          "output_type": "execute_result",
          "data": {
            "text/plain": [
              "GridSearchCV(cv=5, estimator=KNeighborsRegressor(n_neighbors=30),\n",
              "             param_grid={'n_neighbors': array([ 3,  5,  7,  9, 11, 13, 15, 17, 19, 21, 23, 25, 27, 29, 31, 33, 35,\n",
              "       37, 39, 41, 43, 45, 47, 49]),\n",
              "                         'p': [1, 2], 'weights': ['uniform', 'distance']})"
            ]
          },
          "metadata": {},
          "execution_count": 89
        }
      ],
      "source": [
        "gserach = GridSearchCV(estimator=model,param_grid=params,cv=5)\n",
        "\n",
        "gserach.fit(X_train,y_train)"
      ]
    },
    {
      "cell_type": "code",
      "execution_count": 90,
      "id": "6edc87f4",
      "metadata": {
        "id": "6edc87f4",
        "colab": {
          "base_uri": "https://localhost:8080/"
        },
        "outputId": "efeee447-7529-4afe-d139-1ba9e268a38b"
      },
      "outputs": [
        {
          "output_type": "execute_result",
          "data": {
            "text/plain": [
              "{'n_neighbors': 37, 'p': 1, 'weights': 'distance'}"
            ]
          },
          "metadata": {},
          "execution_count": 90
        }
      ],
      "source": [
        "gserach.best_params_"
      ]
    },
    {
      "cell_type": "code",
      "execution_count": 92,
      "id": "0829bfb6",
      "metadata": {
        "id": "0829bfb6"
      },
      "outputs": [],
      "source": [
        "model_best = KNR(n_neighbors = 37, p=1,weights='distance')"
      ]
    },
    {
      "cell_type": "code",
      "execution_count": 94,
      "id": "63936980",
      "metadata": {
        "id": "63936980",
        "colab": {
          "base_uri": "https://localhost:8080/"
        },
        "outputId": "69745fa3-4073-4826-cab5-258562ee40a7"
      },
      "outputs": [
        {
          "output_type": "execute_result",
          "data": {
            "text/plain": [
              "KNeighborsRegressor(n_neighbors=37, p=1, weights='distance')"
            ]
          },
          "metadata": {},
          "execution_count": 94
        }
      ],
      "source": [
        "model_best.fit(X_train, y_train)"
      ]
    },
    {
      "cell_type": "code",
      "execution_count": 95,
      "id": "797d2ecc",
      "metadata": {
        "id": "797d2ecc"
      },
      "outputs": [],
      "source": [
        "y_train_pred_KNR = model_best.predict(X_train)"
      ]
    },
    {
      "cell_type": "code",
      "execution_count": 96,
      "id": "68dd29e8",
      "metadata": {
        "id": "68dd29e8"
      },
      "outputs": [],
      "source": [
        "y_test_pred_KNR = model_best.predict(X_test)"
      ]
    },
    {
      "cell_type": "code",
      "execution_count": 97,
      "id": "19945253",
      "metadata": {
        "id": "19945253",
        "colab": {
          "base_uri": "https://localhost:8080/"
        },
        "outputId": "4bcfd837-3dca-4c5f-f355-23cbe450e8f0"
      },
      "outputs": [
        {
          "output_type": "stream",
          "name": "stdout",
          "text": [
            "MAE: 50504.666871794674\n",
            "MSE: 12589347703.57145\n",
            "RMSE: 112202.26247082297\n",
            "R2 score: 0.9612959645604423\n"
          ]
        }
      ],
      "source": [
        "#For train set\n",
        "mae = mean_absolute_error(y_train, y_train_pred_KNR)\n",
        "mse = mean_squared_error(y_train, y_train_pred_KNR)\n",
        "rmse = np.sqrt(mean_squared_error(y_train, y_train_pred_KNR))\n",
        "r2 = r2_score(y_train, y_train_pred_KNR)\n",
        "\n",
        "print(\"MAE:\", mae)\n",
        "print(\"MSE:\", mse)\n",
        "print(\"RMSE:\", rmse)\n",
        "print(\"R2 score:\", r2)"
      ]
    },
    {
      "cell_type": "code",
      "execution_count": 98,
      "id": "5211f407",
      "metadata": {
        "id": "5211f407",
        "colab": {
          "base_uri": "https://localhost:8080/"
        },
        "outputId": "823d5057-fba0-4f39-a3da-31fff9fbb30b"
      },
      "outputs": [
        {
          "output_type": "stream",
          "name": "stdout",
          "text": [
            "MAE: 141829.96707466958\n",
            "MSE: 77965788571.28197\n",
            "RMSE: 279223.5458754902\n",
            "R2 score: 0.7900483746988417\n"
          ]
        }
      ],
      "source": [
        "#For test set\n",
        "#For train set\n",
        "mae = mean_absolute_error(y_test, y_test_pred_KNR)\n",
        "mse = mean_squared_error(y_test, y_test_pred_KNR)\n",
        "rmse = np.sqrt(mean_squared_error(y_test, y_test_pred_KNR))\n",
        "r2 = r2_score(y_test, y_test_pred_KNR)\n",
        "\n",
        "print(\"MAE:\", mae)\n",
        "print(\"MSE:\", mse)\n",
        "print(\"RMSE:\", rmse)\n",
        "print(\"R2 score:\", r2)"
      ]
    },
    {
      "cell_type": "code",
      "execution_count": 99,
      "id": "658769ee",
      "metadata": {
        "id": "658769ee",
        "colab": {
          "base_uri": "https://localhost:8080/",
          "height": 308
        },
        "outputId": "a2168017-613a-4e09-92bc-52ce7f267e20"
      },
      "outputs": [
        {
          "output_type": "execute_result",
          "data": {
            "text/plain": [
              "<matplotlib.axes._subplots.AxesSubplot at 0x7fc7c7e70490>"
            ]
          },
          "metadata": {},
          "execution_count": 99
        },
        {
          "output_type": "display_data",
          "data": {
            "text/plain": [
              "<Figure size 432x288 with 1 Axes>"
            ],
            "image/png": "[encoded data removed]"
          },
          "metadata": {
            "needs_background": "light"
          }
        }
      ],
      "source": [
        "sns.regplot(y_test, y_test_pred_KNR)"
      ]
    },
    {
      "cell_type": "markdown",
      "id": "1ea10ad6",
      "metadata": {
        "id": "1ea10ad6"
      },
      "source": [
        "# After Grid Search we got the k value as 37 as the best parameter applying which for the test set R2 score increase from 71.7% to 79%."
      ]
    },
    {
      "cell_type": "markdown",
      "id": "83476982",
      "metadata": {
        "id": "83476982"
      },
      "source": [
        "# "
      ]
    },
    {
      "cell_type": "markdown",
      "id": "986b5e1c",
      "metadata": {
        "id": "986b5e1c"
      },
      "source": [
        "# Decision Tree Regression"
      ]
    },
    {
      "cell_type": "code",
      "execution_count": 100,
      "id": "910301fd",
      "metadata": {
        "id": "910301fd"
      },
      "outputs": [],
      "source": [
        "from sklearn.tree import DecisionTreeRegressor\n",
        "tree_reg = DecisionTreeRegressor()"
      ]
    },
    {
      "cell_type": "code",
      "execution_count": 101,
      "id": "1b3140f2",
      "metadata": {
        "id": "1b3140f2",
        "colab": {
          "base_uri": "https://localhost:8080/"
        },
        "outputId": "46166874-d429-4ae2-d92a-5b796026f902"
      },
      "outputs": [
        {
          "output_type": "execute_result",
          "data": {
            "text/plain": [
              "DecisionTreeRegressor()"
            ]
          },
          "metadata": {},
          "execution_count": 101
        }
      ],
      "source": [
        "tree_reg.fit(X_train, y_train)"
      ]
    },
    {
      "cell_type": "code",
      "execution_count": 102,
      "id": "f36ee398",
      "metadata": {
        "id": "f36ee398"
      },
      "outputs": [],
      "source": [
        "y_pred_train_tree = tree_reg.predict(X_train)"
      ]
    },
    {
      "cell_type": "code",
      "execution_count": 103,
      "id": "aa020895",
      "metadata": {
        "id": "aa020895"
      },
      "outputs": [],
      "source": [
        "y_pred_test_tree = tree_reg.predict(X_test)"
      ]
    },
    {
      "cell_type": "code",
      "execution_count": 104,
      "id": "36d0701d",
      "metadata": {
        "id": "36d0701d",
        "colab": {
          "base_uri": "https://localhost:8080/"
        },
        "outputId": "cf5602cc-d593-44fd-e34f-488a1ff5e53f"
      },
      "outputs": [
        {
          "output_type": "stream",
          "name": "stdout",
          "text": [
            "MAE: 50504.666871794674\n",
            "MSE: 12589347703.57145\n",
            "RMSE: 112202.26247082297\n",
            "R2 score: 0.9612959645604423\n"
          ]
        }
      ],
      "source": [
        "#For train set\n",
        "mae = mean_absolute_error(y_train, y_pred_train_tree)\n",
        "mse = mean_squared_error(y_train, y_pred_train_tree)\n",
        "rmse = np.sqrt(mean_squared_error(y_train, y_pred_train_tree))\n",
        "r2 = r2_score(y_train, y_pred_train_tree)\n",
        "\n",
        "print(\"MAE:\", mae)\n",
        "print(\"MSE:\", mse)\n",
        "print(\"RMSE:\", rmse)\n",
        "print(\"R2 score:\", r2)"
      ]
    },
    {
      "cell_type": "code",
      "execution_count": 105,
      "id": "c4f6c26d",
      "metadata": {
        "id": "c4f6c26d",
        "colab": {
          "base_uri": "https://localhost:8080/"
        },
        "outputId": "448d57f0-87cf-45ac-bd85-dc8542ea149d"
      },
      "outputs": [
        {
          "output_type": "stream",
          "name": "stdout",
          "text": [
            "MAE: 183952.2997519921\n",
            "MSE: 246333597307.8163\n",
            "RMSE: 496320.05531493115\n",
            "R2 score: 0.3366559863141433\n"
          ]
        }
      ],
      "source": [
        "#For test set\n",
        "mae = mean_absolute_error(y_test, y_pred_test_tree)\n",
        "mse = mean_squared_error(y_test, y_pred_test_tree)\n",
        "rmse = np.sqrt(mean_squared_error(y_test, y_pred_test_tree))\n",
        "r2 = r2_score(y_test, y_pred_test_tree)\n",
        "\n",
        "print(\"MAE:\", mae)\n",
        "print(\"MSE:\", mse)\n",
        "print(\"RMSE:\", rmse)\n",
        "print(\"R2 score:\", r2)"
      ]
    },
    {
      "cell_type": "markdown",
      "id": "297dafde",
      "metadata": {
        "id": "297dafde"
      },
      "source": [
        "The model has been overfitted as the rmse for the test set is higher than train set and r2 score is lower than train set"
      ]
    },
    {
      "cell_type": "markdown",
      "id": "11e10ba0",
      "metadata": {
        "id": "11e10ba0"
      },
      "source": [
        "# Random Forest Regression"
      ]
    },
    {
      "cell_type": "code",
      "execution_count": 106,
      "id": "38d1a5ea",
      "metadata": {
        "id": "38d1a5ea"
      },
      "outputs": [],
      "source": [
        "from sklearn.ensemble import RandomForestRegressor\n",
        "forest_reg = RandomForestRegressor()"
      ]
    },
    {
      "cell_type": "code",
      "execution_count": 107,
      "id": "06d2d6c6",
      "metadata": {
        "id": "06d2d6c6",
        "colab": {
          "base_uri": "https://localhost:8080/"
        },
        "outputId": "1dbd8a5a-0bad-4eaa-870a-da07d6f56ccd"
      },
      "outputs": [
        {
          "output_type": "execute_result",
          "data": {
            "text/plain": [
              "RandomForestRegressor()"
            ]
          },
          "metadata": {},
          "execution_count": 107
        }
      ],
      "source": [
        "forest_reg.fit(X_train, y_train)"
      ]
    },
    {
      "cell_type": "code",
      "execution_count": 108,
      "id": "a5bcfd07",
      "metadata": {
        "id": "a5bcfd07"
      },
      "outputs": [],
      "source": [
        "y_pred_train_forest = forest_reg.predict(X_train)"
      ]
    },
    {
      "cell_type": "code",
      "execution_count": 109,
      "id": "7c5151d6",
      "metadata": {
        "id": "7c5151d6"
      },
      "outputs": [],
      "source": [
        "y_pred_test_forest = forest_reg.predict(X_test)"
      ]
    },
    {
      "cell_type": "code",
      "execution_count": 110,
      "id": "e818ab1b",
      "metadata": {
        "id": "e818ab1b",
        "colab": {
          "base_uri": "https://localhost:8080/"
        },
        "outputId": "ae3ca384-590e-4955-e068-dee48a5f5c84"
      },
      "outputs": [
        {
          "output_type": "stream",
          "name": "stdout",
          "text": [
            "MAE: 88551.47354180853\n",
            "MSE: 28265953438.80108\n",
            "RMSE: 168124.81505952973\n",
            "R2 score: 0.9131006236869694\n"
          ]
        }
      ],
      "source": [
        "#For train set\n",
        "mae = mean_absolute_error(y_train, y_pred_train_forest)\n",
        "mse = mean_squared_error(y_train, y_pred_train_forest)\n",
        "rmse = np.sqrt(mean_squared_error(y_train, y_pred_train_forest))\n",
        "r2 = r2_score(y_train, y_pred_train_forest)\n",
        "\n",
        "print(\"MAE:\", mae)\n",
        "print(\"MSE:\", mse)\n",
        "print(\"RMSE:\", rmse)\n",
        "print(\"R2 score:\", r2)"
      ]
    },
    {
      "cell_type": "code",
      "execution_count": 111,
      "id": "8ce51924",
      "metadata": {
        "id": "8ce51924",
        "colab": {
          "base_uri": "https://localhost:8080/"
        },
        "outputId": "17b8e727-10cb-44c4-c9e2-ba660d34c9ca"
      },
      "outputs": [
        {
          "output_type": "stream",
          "name": "stdout",
          "text": [
            "MAE: 160420.60107975057\n",
            "MSE: 99889045968.10754\n",
            "RMSE: 316052.28359894437\n",
            "R2 score: 0.7310119228562372\n"
          ]
        }
      ],
      "source": [
        "#For test set\n",
        "mae = mean_absolute_error(y_test, y_pred_test_forest)\n",
        "mse = mean_squared_error(y_test, y_pred_test_forest)\n",
        "rmse = np.sqrt(mean_squared_error(y_test, y_pred_test_forest))\n",
        "r2 = r2_score(y_test, y_pred_test_forest)\n",
        "\n",
        "print(\"MAE:\", mae)\n",
        "print(\"MSE:\", mse)\n",
        "print(\"RMSE:\", rmse)\n",
        "print(\"R2 score:\", r2)"
      ]
    },
    {
      "cell_type": "code",
      "execution_count": 112,
      "id": "041b57db",
      "metadata": {
        "id": "041b57db",
        "colab": {
          "base_uri": "https://localhost:8080/",
          "height": 308
        },
        "outputId": "1565a5ea-126c-4996-ce22-1e421d21395c"
      },
      "outputs": [
        {
          "output_type": "execute_result",
          "data": {
            "text/plain": [
              "<matplotlib.axes._subplots.AxesSubplot at 0x7fc7c7449310>"
            ]
          },
          "metadata": {},
          "execution_count": 112
        },
        {
          "output_type": "display_data",
          "data": {
            "text/plain": [
              "<Figure size 432x288 with 1 Axes>"
            ],
            "image/png": "[encoded data removed]"
          },
          "metadata": {
            "needs_background": "light"
          }
        }
      ],
      "source": [
        "sns.regplot(y_test, y_pred_test_forest)"
      ]
    },
    {
      "cell_type": "markdown",
      "id": "eb1f7ef6",
      "metadata": {
        "id": "eb1f7ef6"
      },
      "source": [
        "Random Forest also seems to be overfitting\n",
        " Will go for Hyperparameter tuning for this model to see the performance using the best parameter value for this model."
      ]
    },
    {
      "cell_type": "markdown",
      "id": "3c31bfa3",
      "metadata": {
        "id": "3c31bfa3"
      },
      "source": [
        "# Hyperparameter Tuning"
      ]
    },
    {
      "cell_type": "code",
      "execution_count": 113,
      "id": "a7ed676d",
      "metadata": {
        "id": "a7ed676d",
        "colab": {
          "base_uri": "https://localhost:8080/"
        },
        "outputId": "0208ebd4-de11-46cd-ecb3-4d6905a13754"
      },
      "outputs": [
        {
          "output_type": "stream",
          "name": "stdout",
          "text": [
            "Parameters currently in use:\n",
            "\n",
            "{'bootstrap': True,\n",
            " 'ccp_alpha': 0.0,\n",
            " 'criterion': 'squared_error',\n",
            " 'max_depth': None,\n",
            " 'max_features': 'auto',\n",
            " 'max_leaf_nodes': None,\n",
            " 'max_samples': None,\n",
            " 'min_impurity_decrease': 0.0,\n",
            " 'min_samples_leaf': 1,\n",
            " 'min_samples_split': 2,\n",
            " 'min_weight_fraction_leaf': 0.0,\n",
            " 'n_estimators': 100,\n",
            " 'n_jobs': None,\n",
            " 'oob_score': False,\n",
            " 'random_state': None,\n",
            " 'verbose': 0,\n",
            " 'warm_start': False}\n"
          ]
        }
      ],
      "source": [
        "from pprint import pprint\n",
        "print('Parameters currently in use:\\n')\n",
        "pprint(forest_reg.get_params())"
      ]
    },
    {
      "cell_type": "code",
      "execution_count": 114,
      "id": "652c31b3",
      "metadata": {
        "id": "652c31b3"
      },
      "outputs": [],
      "source": [
        "param_grid = [{'n_estimators':[int(x) for x in np.linspace(start = 80, stop = 300, num = 20)], \n",
        "               'max_features':[2, 4, 6, 8, 10], \n",
        "               'bootstrap': [True, False]}]\n",
        "\n",
        "forest_reg = RandomForestRegressor()\n",
        "grid_search_forest = GridSearchCV(forest_reg, param_grid, cv=5, scoring = 'neg_mean_squared_error')"
      ]
    },
    {
      "cell_type": "code",
      "execution_count": 115,
      "id": "8535d67d",
      "metadata": {
        "id": "8535d67d",
        "colab": {
          "base_uri": "https://localhost:8080/"
        },
        "outputId": "df95e546-5daf-4331-a368-421899bf7f92"
      },
      "outputs": [
        {
          "output_type": "execute_result",
          "data": {
            "text/plain": [
              "GridSearchCV(cv=5, estimator=RandomForestRegressor(),\n",
              "             param_grid=[{'bootstrap': [True, False],\n",
              "                          'max_features': [2, 4, 6, 8, 10],\n",
              "                          'n_estimators': [80, 91, 103, 114, 126, 137, 149, 161,\n",
              "                                           172, 184, 195, 207, 218, 230, 242,\n",
              "                                           253, 265, 276, 288, 300]}],\n",
              "             scoring='neg_mean_squared_error')"
            ]
          },
          "metadata": {},
          "execution_count": 115
        }
      ],
      "source": [
        "grid_search_forest.fit(X_train, y_train)"
      ]
    },
    {
      "cell_type": "code",
      "execution_count": 116,
      "id": "b384dd84",
      "metadata": {
        "id": "b384dd84",
        "colab": {
          "base_uri": "https://localhost:8080/"
        },
        "outputId": "e85ab2bd-8008-477a-e8fc-b090f2b69607"
      },
      "outputs": [
        {
          "output_type": "execute_result",
          "data": {
            "text/plain": [
              "RandomForestRegressor(max_features=2, n_estimators=184)"
            ]
          },
          "metadata": {},
          "execution_count": 116
        }
      ],
      "source": [
        "grid_search_forest.best_estimator_"
      ]
    },
    {
      "cell_type": "code",
      "execution_count": 117,
      "id": "9c28f7e3",
      "metadata": {
        "id": "9c28f7e3"
      },
      "outputs": [],
      "source": [
        "best_model_forest = grid_search_forest.best_estimator_"
      ]
    },
    {
      "cell_type": "code",
      "execution_count": 121,
      "id": "3b7d350e",
      "metadata": {
        "id": "3b7d350e",
        "colab": {
          "base_uri": "https://localhost:8080/"
        },
        "outputId": "849e451d-b6cc-46ef-96d2-68aef4377764"
      },
      "outputs": [
        {
          "output_type": "execute_result",
          "data": {
            "text/plain": [
              "RandomForestRegressor(max_features=2, n_estimators=184)"
            ]
          },
          "metadata": {},
          "execution_count": 121
        }
      ],
      "source": [
        "best_model_forest.fit(X_train, y_train)"
      ]
    },
    {
      "cell_type": "code",
      "execution_count": 122,
      "id": "f4547e10",
      "metadata": {
        "id": "f4547e10"
      },
      "outputs": [],
      "source": [
        "y_pred_train_best_model = best_model_forest.predict(X_train)"
      ]
    },
    {
      "cell_type": "code",
      "source": [
        "y_pred_test_best_model = best_model_forest.predict(X_test)"
      ],
      "metadata": {
        "id": "7aV4s3WKVHZG"
      },
      "id": "7aV4s3WKVHZG",
      "execution_count": 123,
      "outputs": []
    },
    {
      "cell_type": "code",
      "execution_count": 124,
      "id": "b8897576",
      "metadata": {
        "id": "b8897576",
        "colab": {
          "base_uri": "https://localhost:8080/"
        },
        "outputId": "e398fe8f-8d25-4c97-fa76-95585dd23c5f"
      },
      "outputs": [
        {
          "output_type": "stream",
          "name": "stdout",
          "text": [
            "MAE: 86545.71262637735\n",
            "MSE: 26363298342.4828\n",
            "RMSE: 162367.7872685429\n",
            "R2 score: 0.9189500475023324\n"
          ]
        }
      ],
      "source": [
        "#For train set\n",
        "mae = mean_absolute_error(y_train, y_pred_train_best_model)\n",
        "mse = mean_squared_error(y_train, y_pred_train_best_model)\n",
        "rmse = np.sqrt(mean_squared_error(y_train, y_pred_train_best_model))\n",
        "r2 = r2_score(y_train, y_pred_train_best_model)\n",
        "\n",
        "print(\"MAE:\", mae)\n",
        "print(\"MSE:\", mse)\n",
        "print(\"RMSE:\", rmse)\n",
        "print(\"R2 score:\", r2)"
      ]
    },
    {
      "cell_type": "code",
      "execution_count": 125,
      "id": "1875de16",
      "metadata": {
        "id": "1875de16",
        "colab": {
          "base_uri": "https://localhost:8080/"
        },
        "outputId": "0cc8e304-7716-4d49-ee25-4cdf3303a054"
      },
      "outputs": [
        {
          "output_type": "stream",
          "name": "stdout",
          "text": [
            "MAE: 155176.2738506882\n",
            "MSE: 88265450022.37682\n",
            "RMSE: 297095.0185081817\n",
            "R2 score: 0.7623127396038153\n"
          ]
        }
      ],
      "source": [
        "#For test set\n",
        "mae = mean_absolute_error(y_test, y_pred_test_best_model)\n",
        "mse = mean_squared_error(y_test, y_pred_test_best_model)\n",
        "rmse = np.sqrt(mean_squared_error(y_test, y_pred_test_best_model))\n",
        "r2 = r2_score(y_test, y_pred_test_best_model)\n",
        "\n",
        "print(\"MAE:\", mae)\n",
        "print(\"MSE:\", mse)\n",
        "print(\"RMSE:\", rmse)\n",
        "print(\"R2 score:\", r2)"
      ]
    },
    {
      "cell_type": "code",
      "source": [
        "sns.regplot(y_test, y_pred_test_best_model)"
      ],
      "metadata": {
        "id": "9flrfnY-WNOh",
        "colab": {
          "base_uri": "https://localhost:8080/",
          "height": 308
        },
        "outputId": "245f39ce-1638-492e-dd5b-18b4712cd170"
      },
      "id": "9flrfnY-WNOh",
      "execution_count": 126,
      "outputs": [
        {
          "output_type": "execute_result",
          "data": {
            "text/plain": [
              "<matplotlib.axes._subplots.AxesSubplot at 0x7fc7c7411dd0>"
            ]
          },
          "metadata": {},
          "execution_count": 126
        },
        {
          "output_type": "display_data",
          "data": {
            "text/plain": [
              "<Figure size 432x288 with 1 Axes>"
            ],
            "image/png": "[encoded data removed]"
          },
          "metadata": {
            "needs_background": "light"
          }
        }
      ]
    },
    {
      "cell_type": "markdown",
      "source": [
        "#As we can see that after Hyper parameter tuning the RMSE has been reduced for test set and R2 score has been increased fom 73.1% to 76.23%"
      ],
      "metadata": {
        "id": "uk84Dz4AWQTK"
      },
      "id": "uk84Dz4AWQTK"
    },
    {
      "cell_type": "code",
      "source": [
        "from sklearn.ensemble import RandomForestRegressor\n",
        "\n",
        "rf_random = RandomForestRegressor()"
      ],
      "metadata": {
        "id": "m8RQh7CzZjhw"
      },
      "id": "m8RQh7CzZjhw",
      "execution_count": 127,
      "outputs": []
    },
    {
      "cell_type": "code",
      "source": [
        "n_estimators = [int(x) for x in np.linspace(100, 1200, 12)]\n",
        "max_features = ['auto', 'sqrt']\n",
        "max_depth = [int(x) for x in np.linspace(5,30, 6)]\n",
        "min_samples_split = [2,5,10,15,100]\n",
        "min_samples_leaf = [1,2,5,10]"
      ],
      "metadata": {
        "id": "W0fmVpW5ZnXc"
      },
      "id": "W0fmVpW5ZnXc",
      "execution_count": 128,
      "outputs": []
    },
    {
      "cell_type": "code",
      "source": [
        "random_grid = {'n_estimators':n_estimators ,\n",
        "'max_features': max_features,\n",
        "'max_depth':max_depth ,\n",
        "'min_samples_split' :min_samples_split ,\n",
        "'min_samples_leaf' :min_samples_leaf }\n",
        "\n",
        "print(random_grid)"
      ],
      "metadata": {
        "id": "wU5TawneZnav",
        "colab": {
          "base_uri": "https://localhost:8080/"
        },
        "outputId": "9c65a165-58e7-4c0b-c6bb-7975a99b90a6"
      },
      "id": "wU5TawneZnav",
      "execution_count": 129,
      "outputs": [
        {
          "output_type": "stream",
          "name": "stdout",
          "text": [
            "{'n_estimators': [100, 200, 300, 400, 500, 600, 700, 800, 900, 1000, 1100, 1200], 'max_features': ['auto', 'sqrt'], 'max_depth': [5, 10, 15, 20, 25, 30], 'min_samples_split': [2, 5, 10, 15, 100], 'min_samples_leaf': [1, 2, 5, 10]}\n"
          ]
        }
      ]
    },
    {
      "cell_type": "code",
      "source": [
        "from sklearn.model_selection import RandomizedSearchCV\n",
        "rf = RandomizedSearchCV(rf_random, param_distributions=random_grid, scoring='neg_mean_squared_error', n_iter=10, cv=5, n_jobs=-1, verbose=2, random_state=42)"
      ],
      "metadata": {
        "id": "Jl2vMBnHZnen"
      },
      "id": "Jl2vMBnHZnen",
      "execution_count": 130,
      "outputs": []
    },
    {
      "cell_type": "code",
      "source": [
        "rf.fit(X_train, y_train)"
      ],
      "metadata": {
        "id": "EOyjX-3sZniI",
        "colab": {
          "base_uri": "https://localhost:8080/"
        },
        "outputId": "299bd526-cc1b-482f-bdc5-f81ba7cca1b6"
      },
      "id": "EOyjX-3sZniI",
      "execution_count": 131,
      "outputs": [
        {
          "output_type": "stream",
          "name": "stdout",
          "text": [
            "Fitting 5 folds for each of 10 candidates, totalling 50 fits\n"
          ]
        },
        {
          "output_type": "execute_result",
          "data": {
            "text/plain": [
              "RandomizedSearchCV(cv=5, estimator=RandomForestRegressor(), n_jobs=-1,\n",
              "                   param_distributions={'max_depth': [5, 10, 15, 20, 25, 30],\n",
              "                                        'max_features': ['auto', 'sqrt'],\n",
              "                                        'min_samples_leaf': [1, 2, 5, 10],\n",
              "                                        'min_samples_split': [2, 5, 10, 15,\n",
              "                                                              100],\n",
              "                                        'n_estimators': [100, 200, 300, 400,\n",
              "                                                         500, 600, 700, 800,\n",
              "                                                         900, 1000, 1100,\n",
              "                                                         1200]},\n",
              "                   random_state=42, scoring='neg_mean_squared_error',\n",
              "                   verbose=2)"
            ]
          },
          "metadata": {},
          "execution_count": 131
        }
      ]
    },
    {
      "cell_type": "code",
      "source": [
        "y_train_pred_rf = model.predict(X_train)"
      ],
      "metadata": {
        "id": "88VOGIA8bqTU"
      },
      "id": "88VOGIA8bqTU",
      "execution_count": 132,
      "outputs": []
    },
    {
      "cell_type": "code",
      "source": [
        "y_test_pred_rf = rf.predict(X_test)"
      ],
      "metadata": {
        "id": "o5hZkt7Xas_l"
      },
      "id": "o5hZkt7Xas_l",
      "execution_count": 133,
      "outputs": []
    },
    {
      "cell_type": "code",
      "source": [
        "#For train set\n",
        "mae = mean_absolute_error(y_train, y_train_pred_rf)\n",
        "mse = mean_squared_error(y_train, y_train_pred_rf)\n",
        "rmse = np.sqrt(mean_squared_error(y_train, y_train_pred_rf))\n",
        "r2 = r2_score(y_train, y_train_pred_rf)\n",
        "\n",
        "print(\"MAE:\", mae)\n",
        "print(\"MSE:\", mse)\n",
        "print(\"RMSE:\", rmse)\n",
        "print(\"R2 score:\", r2)"
      ],
      "metadata": {
        "id": "KAAoVa7fatI3",
        "colab": {
          "base_uri": "https://localhost:8080/"
        },
        "outputId": "4911e145-42de-4876-9e60-fcd6bc141cbe"
      },
      "id": "KAAoVa7fatI3",
      "execution_count": 134,
      "outputs": [
        {
          "output_type": "stream",
          "name": "stdout",
          "text": [
            "MAE: 167079.69361559142\n",
            "MSE: 125139985853.81067\n",
            "RMSE: 353751.30509131786\n",
            "R2 score: 0.6152761396829473\n"
          ]
        }
      ]
    },
    {
      "cell_type": "code",
      "source": [
        "#For test set\n",
        "mae = mean_absolute_error(y_test, y_test_pred_rf)\n",
        "mse = mean_squared_error(y_test, y_test_pred_rf)\n",
        "rmse = np.sqrt(mean_squared_error(y_test, y_test_pred_rf))\n",
        "r2 = r2_score(y_test, y_test_pred_rf)\n",
        "\n",
        "print(\"MAE:\", mae)\n",
        "print(\"MSE:\", mse)\n",
        "print(\"RMSE:\", rmse)\n",
        "print(\"R2 score:\", r2)"
      ],
      "metadata": {
        "id": "S6_lD7eWbfJX",
        "colab": {
          "base_uri": "https://localhost:8080/"
        },
        "outputId": "e375ef1a-7e81-4fc2-a431-e05efa94e0bb"
      },
      "id": "S6_lD7eWbfJX",
      "execution_count": 135,
      "outputs": [
        {
          "output_type": "stream",
          "name": "stdout",
          "text": [
            "MAE: 174253.5300078656\n",
            "MSE: 104596661181.95322\n",
            "RMSE: 323414.07078535284\n",
            "R2 score: 0.7183349335824647\n"
          ]
        }
      ]
    },
    {
      "cell_type": "code",
      "source": [
        "sns.regplot(y_test, y_test_pred_rf)"
      ],
      "metadata": {
        "id": "kZXOTwF9cqBg",
        "colab": {
          "base_uri": "https://localhost:8080/",
          "height": 308
        },
        "outputId": "e2ea757d-8bc8-49d3-8ff8-624d139d3927"
      },
      "id": "kZXOTwF9cqBg",
      "execution_count": 136,
      "outputs": [
        {
          "output_type": "execute_result",
          "data": {
            "text/plain": [
              "<matplotlib.axes._subplots.AxesSubplot at 0x7fc7c72b3b10>"
            ]
          },
          "metadata": {},
          "execution_count": 136
        },
        {
          "output_type": "display_data",
          "data": {
            "text/plain": [
              "<Figure size 432x288 with 1 Axes>"
            ],
            "image/png": "[encoded data removed]"
          },
          "metadata": {
            "needs_background": "light"
          }
        }
      ]
    }
  ],
  "metadata": {
    "kernelspec": {
      "display_name": "Python 3 (ipykernel)",
      "language": "python",
      "name": "python3"
    },
    "language_info": {
      "codemirror_mode": {
        "name": "ipython",
        "version": 3
      },
      "file_extension": ".py",
      "mimetype": "text/x-python",
      "name": "python",
      "nbconvert_exporter": "python",
      "pygments_lexer": "ipython3",
      "version": "3.9.7"
    },
    "colab": {
      "name": "NEW_ALGO.ipynb",
      "provenance": [],
      "collapsed_sections": [
        "9cc3912b",
        "dffc668a"
      ]
    }
  },
  "nbformat": 4,
  "nbformat_minor": 5
}