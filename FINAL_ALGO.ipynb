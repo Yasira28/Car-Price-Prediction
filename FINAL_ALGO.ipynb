{
  "cells": [
    {
      "cell_type": "markdown",
      "id": "817f7504",
      "metadata": {
        "id": "817f7504"
      },
      "source": [
        "# Predicting Sales Price of car (Regression)."
      ]
    },
    {
      "cell_type": "code",
      "execution_count": 1,
      "id": "7d6e834a",
      "metadata": {
        "id": "7d6e834a"
      },
      "outputs": [],
      "source": [
        "import pandas as pd"
      ]
    },
    {
      "cell_type": "code",
      "execution_count": 2,
      "id": "8e0e6a67",
      "metadata": {
        "id": "8e0e6a67"
      },
      "outputs": [],
      "source": [
        "df=pd.read_csv(\"cardekho.csv\")"
      ]
    },
    {
      "cell_type": "code",
      "execution_count": 123,
      "id": "b58e21e2",
      "metadata": {
        "colab": {
          "base_uri": "https://localhost:8080/",
          "height": 206
        },
        "id": "b58e21e2",
        "outputId": "94b2a5ba-988d-4be7-f069-fd233c83eec9"
      },
      "outputs": [
        {
          "output_type": "execute_result",
          "data": {
            "text/plain": [
              "                   Car_Name  Year  Selling_Price  Kms_Driven Fuel_Type  \\\n",
              "0             Maruti 800 AC  2007          60000       70000    Petrol   \n",
              "1  Maruti Wagon R LXI Minor  2007         135000       50000    Petrol   \n",
              "2      Hyundai Verna 1.6 SX  2012         600000      100000    Diesel   \n",
              "3    Datsun RediGO T Option  2017         250000       46000    Petrol   \n",
              "4     Honda Amaze VX i-DTEC  2014         450000      141000    Diesel   \n",
              "\n",
              "  Seller_Type Transmission         Owner  \n",
              "0  Individual       Manual   First Owner  \n",
              "1  Individual       Manual   First Owner  \n",
              "2  Individual       Manual   First Owner  \n",
              "3  Individual       Manual   First Owner  \n",
              "4  Individual       Manual  Second Owner  "
            ],
            "text/html": [
              "\n",
              "  <div id=\"df-edbb2266-8f2c-4bbb-8d12-d9cb2ee32cb2\">\n",
              "    <div class=\"colab-df-container\">\n",
              "      <div>\n",
              "<style scoped>\n",
              "    .dataframe tbody tr th:only-of-type {\n",
              "        vertical-align: middle;\n",
              "    }\n",
              "\n",
              "    .dataframe tbody tr th {\n",
              "        vertical-align: top;\n",
              "    }\n",
              "\n",
              "    .dataframe thead th {\n",
              "        text-align: right;\n",
              "    }\n",
              "</style>\n",
              "<table border=\"1\" class=\"dataframe\">\n",
              "  <thead>\n",
              "    <tr style=\"text-align: right;\">\n",
              "      <th></th>\n",
              "      <th>Car_Name</th>\n",
              "      <th>Year</th>\n",
              "      <th>Selling_Price</th>\n",
              "      <th>Kms_Driven</th>\n",
              "      <th>Fuel_Type</th>\n",
              "      <th>Seller_Type</th>\n",
              "      <th>Transmission</th>\n",
              "      <th>Owner</th>\n",
              "    </tr>\n",
              "  </thead>\n",
              "  <tbody>\n",
              "    <tr>\n",
              "      <th>0</th>\n",
              "      <td>Maruti 800 AC</td>\n",
              "      <td>2007</td>\n",
              "      <td>60000</td>\n",
              "      <td>70000</td>\n",
              "      <td>Petrol</td>\n",
              "      <td>Individual</td>\n",
              "      <td>Manual</td>\n",
              "      <td>First Owner</td>\n",
              "    </tr>\n",
              "    <tr>\n",
              "      <th>1</th>\n",
              "      <td>Maruti Wagon R LXI Minor</td>\n",
              "      <td>2007</td>\n",
              "      <td>135000</td>\n",
              "      <td>50000</td>\n",
              "      <td>Petrol</td>\n",
              "      <td>Individual</td>\n",
              "      <td>Manual</td>\n",
              "      <td>First Owner</td>\n",
              "    </tr>\n",
              "    <tr>\n",
              "      <th>2</th>\n",
              "      <td>Hyundai Verna 1.6 SX</td>\n",
              "      <td>2012</td>\n",
              "      <td>600000</td>\n",
              "      <td>100000</td>\n",
              "      <td>Diesel</td>\n",
              "      <td>Individual</td>\n",
              "      <td>Manual</td>\n",
              "      <td>First Owner</td>\n",
              "    </tr>\n",
              "    <tr>\n",
              "      <th>3</th>\n",
              "      <td>Datsun RediGO T Option</td>\n",
              "      <td>2017</td>\n",
              "      <td>250000</td>\n",
              "      <td>46000</td>\n",
              "      <td>Petrol</td>\n",
              "      <td>Individual</td>\n",
              "      <td>Manual</td>\n",
              "      <td>First Owner</td>\n",
              "    </tr>\n",
              "    <tr>\n",
              "      <th>4</th>\n",
              "      <td>Honda Amaze VX i-DTEC</td>\n",
              "      <td>2014</td>\n",
              "      <td>450000</td>\n",
              "      <td>141000</td>\n",
              "      <td>Diesel</td>\n",
              "      <td>Individual</td>\n",
              "      <td>Manual</td>\n",
              "      <td>Second Owner</td>\n",
              "    </tr>\n",
              "  </tbody>\n",
              "</table>\n",
              "</div>\n",
              "      <button class=\"colab-df-convert\" onclick=\"convertToInteractive('df-edbb2266-8f2c-4bbb-8d12-d9cb2ee32cb2')\"\n",
              "              title=\"Convert this dataframe to an interactive table.\"\n",
              "              style=\"display:none;\">\n",
              "        \n",
              "  <svg xmlns=\"http://www.w3.org/2000/svg\" height=\"24px\"viewBox=\"0 0 24 24\"\n",
              "       width=\"24px\">\n",
              "    <path d=\"M0 0h24v24H0V0z\" fill=\"none\"/>\n",
              "    <path d=\"M18.56 5.44l.94 2.06.94-2.06 2.06-.94-2.06-.94-.94-2.06-.94 2.06-2.06.94zm-11 1L8.5 8.5l.94-2.06 2.06-.94-2.06-.94L8.5 2.5l-.94 2.06-2.06.94zm10 10l.94 2.06.94-2.06 2.06-.94-2.06-.94-.94-2.06-.94 2.06-2.06.94z\"/><path d=\"M17.41 7.96l-1.37-1.37c-.4-.4-.92-.59-1.43-.59-.52 0-1.04.2-1.43.59L10.3 9.45l-7.72 7.72c-.78.78-.78 2.05 0 2.83L4 21.41c.39.39.9.59 1.41.59.51 0 1.02-.2 1.41-.59l7.78-7.78 2.81-2.81c.8-.78.8-2.07 0-2.86zM5.41 20L4 18.59l7.72-7.72 1.47 1.35L5.41 20z\"/>\n",
              "  </svg>\n",
              "      </button>\n",
              "      \n",
              "  <style>\n",
              "    .colab-df-container {\n",
              "      display:flex;\n",
              "      flex-wrap:wrap;\n",
              "      gap: 12px;\n",
              "    }\n",
              "\n",
              "    .colab-df-convert {\n",
              "      background-color: #E8F0FE;\n",
              "      border: none;\n",
              "      border-radius: 50%;\n",
              "      cursor: pointer;\n",
              "      display: none;\n",
              "      fill: #1967D2;\n",
              "      height: 32px;\n",
              "      padding: 0 0 0 0;\n",
              "      width: 32px;\n",
              "    }\n",
              "\n",
              "    .colab-df-convert:hover {\n",
              "      background-color: #E2EBFA;\n",
              "      box-shadow: 0px 1px 2px rgba(60, 64, 67, 0.3), 0px 1px 3px 1px rgba(60, 64, 67, 0.15);\n",
              "      fill: #174EA6;\n",
              "    }\n",
              "\n",
              "    [theme=dark] .colab-df-convert {\n",
              "      background-color: #3B4455;\n",
              "      fill: #D2E3FC;\n",
              "    }\n",
              "\n",
              "    [theme=dark] .colab-df-convert:hover {\n",
              "      background-color: #434B5C;\n",
              "      box-shadow: 0px 1px 3px 1px rgba(0, 0, 0, 0.15);\n",
              "      filter: drop-shadow(0px 1px 2px rgba(0, 0, 0, 0.3));\n",
              "      fill: #FFFFFF;\n",
              "    }\n",
              "  </style>\n",
              "\n",
              "      <script>\n",
              "        const buttonEl =\n",
              "          document.querySelector('#df-edbb2266-8f2c-4bbb-8d12-d9cb2ee32cb2 button.colab-df-convert');\n",
              "        buttonEl.style.display =\n",
              "          google.colab.kernel.accessAllowed ? 'block' : 'none';\n",
              "\n",
              "        async function convertToInteractive(key) {\n",
              "          const element = document.querySelector('#df-edbb2266-8f2c-4bbb-8d12-d9cb2ee32cb2');\n",
              "          const dataTable =\n",
              "            await google.colab.kernel.invokeFunction('convertToInteractive',\n",
              "                                                     [key], {});\n",
              "          if (!dataTable) return;\n",
              "\n",
              "          const docLinkHtml = 'Like what you see? Visit the ' +\n",
              "            '<a target=\"_blank\" href=https://colab.research.google.com/notebooks/data_table.ipynb>data table notebook</a>'\n",
              "            + ' to learn more about interactive tables.';\n",
              "          element.innerHTML = '';\n",
              "          dataTable['output_type'] = 'display_data';\n",
              "          await google.colab.output.renderOutput(dataTable, element);\n",
              "          const docLink = document.createElement('div');\n",
              "          docLink.innerHTML = docLinkHtml;\n",
              "          element.appendChild(docLink);\n",
              "        }\n",
              "      </script>\n",
              "    </div>\n",
              "  </div>\n",
              "  "
            ]
          },
          "metadata": {},
          "execution_count": 123
        }
      ],
      "source": [
        "df.head()"
      ]
    },
    {
      "cell_type": "code",
      "execution_count": 4,
      "id": "a4c66bb1",
      "metadata": {
        "colab": {
          "base_uri": "https://localhost:8080/"
        },
        "id": "a4c66bb1",
        "outputId": "bf48c238-e17d-499f-97dd-894ba56ff0fe"
      },
      "outputs": [
        {
          "output_type": "execute_result",
          "data": {
            "text/plain": [
              "(4340, 8)"
            ]
          },
          "metadata": {},
          "execution_count": 4
        }
      ],
      "source": [
        "df.shape"
      ]
    },
    {
      "cell_type": "code",
      "execution_count": 5,
      "id": "190be63b",
      "metadata": {
        "colab": {
          "base_uri": "https://localhost:8080/"
        },
        "id": "190be63b",
        "outputId": "f0dd7952-c341-4fe0-df0c-1cf444a126c8"
      },
      "outputs": [
        {
          "output_type": "stream",
          "name": "stdout",
          "text": [
            "['Petrol' 'Diesel' 'CNG' 'LPG' 'Electric']\n",
            "['Individual' 'Dealer' 'Trustmark Dealer']\n",
            "['Manual' 'Automatic']\n",
            "['First Owner' 'Second Owner' 'Fourth & Above Owner' 'Third Owner'\n",
            " 'Test Drive Car']\n"
          ]
        }
      ],
      "source": [
        "print(df['Fuel_Type'].unique())\n",
        "print(df['Seller_Type'].unique())\n",
        "print(df['Transmission'].unique())\n",
        "print(df['Owner'].unique())"
      ]
    },
    {
      "cell_type": "code",
      "execution_count": 6,
      "id": "72624e10",
      "metadata": {
        "colab": {
          "base_uri": "https://localhost:8080/"
        },
        "id": "72624e10",
        "outputId": "906ccd89-5df9-4220-de9f-f89f6466526e"
      },
      "outputs": [
        {
          "output_type": "execute_result",
          "data": {
            "text/plain": [
              "Car_Name         0\n",
              "Year             0\n",
              "Selling_Price    0\n",
              "Kms_Driven       0\n",
              "Fuel_Type        0\n",
              "Seller_Type      0\n",
              "Transmission     0\n",
              "Owner            0\n",
              "dtype: int64"
            ]
          },
          "metadata": {},
          "execution_count": 6
        }
      ],
      "source": [
        "#check missing and null values\n",
        "df.isnull().sum()"
      ]
    },
    {
      "cell_type": "markdown",
      "id": "61a22c44",
      "metadata": {
        "id": "61a22c44"
      },
      "source": [
        "No null values are there."
      ]
    },
    {
      "cell_type": "code",
      "execution_count": 7,
      "id": "be929566",
      "metadata": {
        "colab": {
          "base_uri": "https://localhost:8080/",
          "height": 300
        },
        "id": "be929566",
        "outputId": "ab80592b-08e1-4184-953e-dce2e008d3c8"
      },
      "outputs": [
        {
          "output_type": "execute_result",
          "data": {
            "text/plain": [
              "              Year  Selling_Price     Kms_Driven\n",
              "count  4340.000000   4.340000e+03    4340.000000\n",
              "mean   2013.096774   5.043381e+05   66195.040092\n",
              "std       4.215757   5.785445e+05   46649.084846\n",
              "min    1992.000000   2.000000e+04       1.000000\n",
              "25%    2011.000000   2.100000e+05   35000.000000\n",
              "50%    2014.000000   3.500000e+05   60000.000000\n",
              "75%    2016.000000   6.000000e+05   90000.000000\n",
              "max    2022.000000   8.900000e+06  806599.000000"
            ],
            "text/html": [
              "\n",
              "  <div id=\"df-1cda9bf5-0bd9-4e30-a715-fd6e69b76d23\">\n",
              "    <div class=\"colab-df-container\">\n",
              "      <div>\n",
              "<style scoped>\n",
              "    .dataframe tbody tr th:only-of-type {\n",
              "        vertical-align: middle;\n",
              "    }\n",
              "\n",
              "    .dataframe tbody tr th {\n",
              "        vertical-align: top;\n",
              "    }\n",
              "\n",
              "    .dataframe thead th {\n",
              "        text-align: right;\n",
              "    }\n",
              "</style>\n",
              "<table border=\"1\" class=\"dataframe\">\n",
              "  <thead>\n",
              "    <tr style=\"text-align: right;\">\n",
              "      <th></th>\n",
              "      <th>Year</th>\n",
              "      <th>Selling_Price</th>\n",
              "      <th>Kms_Driven</th>\n",
              "    </tr>\n",
              "  </thead>\n",
              "  <tbody>\n",
              "    <tr>\n",
              "      <th>count</th>\n",
              "      <td>4340.000000</td>\n",
              "      <td>4.340000e+03</td>\n",
              "      <td>4340.000000</td>\n",
              "    </tr>\n",
              "    <tr>\n",
              "      <th>mean</th>\n",
              "      <td>2013.096774</td>\n",
              "      <td>5.043381e+05</td>\n",
              "      <td>66195.040092</td>\n",
              "    </tr>\n",
              "    <tr>\n",
              "      <th>std</th>\n",
              "      <td>4.215757</td>\n",
              "      <td>5.785445e+05</td>\n",
              "      <td>46649.084846</td>\n",
              "    </tr>\n",
              "    <tr>\n",
              "      <th>min</th>\n",
              "      <td>1992.000000</td>\n",
              "      <td>2.000000e+04</td>\n",
              "      <td>1.000000</td>\n",
              "    </tr>\n",
              "    <tr>\n",
              "      <th>25%</th>\n",
              "      <td>2011.000000</td>\n",
              "      <td>2.100000e+05</td>\n",
              "      <td>35000.000000</td>\n",
              "    </tr>\n",
              "    <tr>\n",
              "      <th>50%</th>\n",
              "      <td>2014.000000</td>\n",
              "      <td>3.500000e+05</td>\n",
              "      <td>60000.000000</td>\n",
              "    </tr>\n",
              "    <tr>\n",
              "      <th>75%</th>\n",
              "      <td>2016.000000</td>\n",
              "      <td>6.000000e+05</td>\n",
              "      <td>90000.000000</td>\n",
              "    </tr>\n",
              "    <tr>\n",
              "      <th>max</th>\n",
              "      <td>2022.000000</td>\n",
              "      <td>8.900000e+06</td>\n",
              "      <td>806599.000000</td>\n",
              "    </tr>\n",
              "  </tbody>\n",
              "</table>\n",
              "</div>\n",
              "      <button class=\"colab-df-convert\" onclick=\"convertToInteractive('df-1cda9bf5-0bd9-4e30-a715-fd6e69b76d23')\"\n",
              "              title=\"Convert this dataframe to an interactive table.\"\n",
              "              style=\"display:none;\">\n",
              "        \n",
              "  <svg xmlns=\"http://www.w3.org/2000/svg\" height=\"24px\"viewBox=\"0 0 24 24\"\n",
              "       width=\"24px\">\n",
              "    <path d=\"M0 0h24v24H0V0z\" fill=\"none\"/>\n",
              "    <path d=\"M18.56 5.44l.94 2.06.94-2.06 2.06-.94-2.06-.94-.94-2.06-.94 2.06-2.06.94zm-11 1L8.5 8.5l.94-2.06 2.06-.94-2.06-.94L8.5 2.5l-.94 2.06-2.06.94zm10 10l.94 2.06.94-2.06 2.06-.94-2.06-.94-.94-2.06-.94 2.06-2.06.94z\"/><path d=\"M17.41 7.96l-1.37-1.37c-.4-.4-.92-.59-1.43-.59-.52 0-1.04.2-1.43.59L10.3 9.45l-7.72 7.72c-.78.78-.78 2.05 0 2.83L4 21.41c.39.39.9.59 1.41.59.51 0 1.02-.2 1.41-.59l7.78-7.78 2.81-2.81c.8-.78.8-2.07 0-2.86zM5.41 20L4 18.59l7.72-7.72 1.47 1.35L5.41 20z\"/>\n",
              "  </svg>\n",
              "      </button>\n",
              "      \n",
              "  <style>\n",
              "    .colab-df-container {\n",
              "      display:flex;\n",
              "      flex-wrap:wrap;\n",
              "      gap: 12px;\n",
              "    }\n",
              "\n",
              "    .colab-df-convert {\n",
              "      background-color: #E8F0FE;\n",
              "      border: none;\n",
              "      border-radius: 50%;\n",
              "      cursor: pointer;\n",
              "      display: none;\n",
              "      fill: #1967D2;\n",
              "      height: 32px;\n",
              "      padding: 0 0 0 0;\n",
              "      width: 32px;\n",
              "    }\n",
              "\n",
              "    .colab-df-convert:hover {\n",
              "      background-color: #E2EBFA;\n",
              "      box-shadow: 0px 1px 2px rgba(60, 64, 67, 0.3), 0px 1px 3px 1px rgba(60, 64, 67, 0.15);\n",
              "      fill: #174EA6;\n",
              "    }\n",
              "\n",
              "    [theme=dark] .colab-df-convert {\n",
              "      background-color: #3B4455;\n",
              "      fill: #D2E3FC;\n",
              "    }\n",
              "\n",
              "    [theme=dark] .colab-df-convert:hover {\n",
              "      background-color: #434B5C;\n",
              "      box-shadow: 0px 1px 3px 1px rgba(0, 0, 0, 0.15);\n",
              "      filter: drop-shadow(0px 1px 2px rgba(0, 0, 0, 0.3));\n",
              "      fill: #FFFFFF;\n",
              "    }\n",
              "  </style>\n",
              "\n",
              "      <script>\n",
              "        const buttonEl =\n",
              "          document.querySelector('#df-1cda9bf5-0bd9-4e30-a715-fd6e69b76d23 button.colab-df-convert');\n",
              "        buttonEl.style.display =\n",
              "          google.colab.kernel.accessAllowed ? 'block' : 'none';\n",
              "\n",
              "        async function convertToInteractive(key) {\n",
              "          const element = document.querySelector('#df-1cda9bf5-0bd9-4e30-a715-fd6e69b76d23');\n",
              "          const dataTable =\n",
              "            await google.colab.kernel.invokeFunction('convertToInteractive',\n",
              "                                                     [key], {});\n",
              "          if (!dataTable) return;\n",
              "\n",
              "          const docLinkHtml = 'Like what you see? Visit the ' +\n",
              "            '<a target=\"_blank\" href=https://colab.research.google.com/notebooks/data_table.ipynb>data table notebook</a>'\n",
              "            + ' to learn more about interactive tables.';\n",
              "          element.innerHTML = '';\n",
              "          dataTable['output_type'] = 'display_data';\n",
              "          await google.colab.output.renderOutput(dataTable, element);\n",
              "          const docLink = document.createElement('div');\n",
              "          docLink.innerHTML = docLinkHtml;\n",
              "          element.appendChild(docLink);\n",
              "        }\n",
              "      </script>\n",
              "    </div>\n",
              "  </div>\n",
              "  "
            ]
          },
          "metadata": {},
          "execution_count": 7
        }
      ],
      "source": [
        "df.describe()"
      ]
    },
    {
      "cell_type": "code",
      "execution_count": 8,
      "id": "76ac6796",
      "metadata": {
        "colab": {
          "base_uri": "https://localhost:8080/"
        },
        "id": "76ac6796",
        "outputId": "b52868c3-8bfb-4213-e74a-cb2f6c4d1c77"
      },
      "outputs": [
        {
          "output_type": "execute_result",
          "data": {
            "text/plain": [
              "Index(['Car_Name', 'Year', 'Selling_Price', 'Kms_Driven', 'Fuel_Type',\n",
              "       'Seller_Type', 'Transmission', 'Owner'],\n",
              "      dtype='object')"
            ]
          },
          "metadata": {},
          "execution_count": 8
        }
      ],
      "source": [
        "df.columns"
      ]
    },
    {
      "cell_type": "code",
      "execution_count": 9,
      "id": "9799df6f",
      "metadata": {
        "id": "9799df6f"
      },
      "outputs": [],
      "source": [
        "final_dataset=df[['Year', 'Selling_Price','Kms_Driven',\n",
        "       'Fuel_Type', 'Seller_Type', 'Transmission', 'Owner']]"
      ]
    },
    {
      "cell_type": "code",
      "execution_count": 10,
      "id": "9ad08840",
      "metadata": {
        "colab": {
          "base_uri": "https://localhost:8080/",
          "height": 206
        },
        "id": "9ad08840",
        "outputId": "24149cf7-ec3e-4b47-a454-1742dc682b25"
      },
      "outputs": [
        {
          "output_type": "execute_result",
          "data": {
            "text/plain": [
              "   Year  Selling_Price  Kms_Driven Fuel_Type Seller_Type Transmission  \\\n",
              "0  2007          60000       70000    Petrol  Individual       Manual   \n",
              "1  2007         135000       50000    Petrol  Individual       Manual   \n",
              "2  2012         600000      100000    Diesel  Individual       Manual   \n",
              "3  2017         250000       46000    Petrol  Individual       Manual   \n",
              "4  2014         450000      141000    Diesel  Individual       Manual   \n",
              "\n",
              "          Owner  \n",
              "0   First Owner  \n",
              "1   First Owner  \n",
              "2   First Owner  \n",
              "3   First Owner  \n",
              "4  Second Owner  "
            ],
            "text/html": [
              "\n",
              "  <div id=\"df-1aba0cf5-4851-4ec4-b350-4692d19ecdd1\">\n",
              "    <div class=\"colab-df-container\">\n",
              "      <div>\n",
              "<style scoped>\n",
              "    .dataframe tbody tr th:only-of-type {\n",
              "        vertical-align: middle;\n",
              "    }\n",
              "\n",
              "    .dataframe tbody tr th {\n",
              "        vertical-align: top;\n",
              "    }\n",
              "\n",
              "    .dataframe thead th {\n",
              "        text-align: right;\n",
              "    }\n",
              "</style>\n",
              "<table border=\"1\" class=\"dataframe\">\n",
              "  <thead>\n",
              "    <tr style=\"text-align: right;\">\n",
              "      <th></th>\n",
              "      <th>Year</th>\n",
              "      <th>Selling_Price</th>\n",
              "      <th>Kms_Driven</th>\n",
              "      <th>Fuel_Type</th>\n",
              "      <th>Seller_Type</th>\n",
              "      <th>Transmission</th>\n",
              "      <th>Owner</th>\n",
              "    </tr>\n",
              "  </thead>\n",
              "  <tbody>\n",
              "    <tr>\n",
              "      <th>0</th>\n",
              "      <td>2007</td>\n",
              "      <td>60000</td>\n",
              "      <td>70000</td>\n",
              "      <td>Petrol</td>\n",
              "      <td>Individual</td>\n",
              "      <td>Manual</td>\n",
              "      <td>First Owner</td>\n",
              "    </tr>\n",
              "    <tr>\n",
              "      <th>1</th>\n",
              "      <td>2007</td>\n",
              "      <td>135000</td>\n",
              "      <td>50000</td>\n",
              "      <td>Petrol</td>\n",
              "      <td>Individual</td>\n",
              "      <td>Manual</td>\n",
              "      <td>First Owner</td>\n",
              "    </tr>\n",
              "    <tr>\n",
              "      <th>2</th>\n",
              "      <td>2012</td>\n",
              "      <td>600000</td>\n",
              "      <td>100000</td>\n",
              "      <td>Diesel</td>\n",
              "      <td>Individual</td>\n",
              "      <td>Manual</td>\n",
              "      <td>First Owner</td>\n",
              "    </tr>\n",
              "    <tr>\n",
              "      <th>3</th>\n",
              "      <td>2017</td>\n",
              "      <td>250000</td>\n",
              "      <td>46000</td>\n",
              "      <td>Petrol</td>\n",
              "      <td>Individual</td>\n",
              "      <td>Manual</td>\n",
              "      <td>First Owner</td>\n",
              "    </tr>\n",
              "    <tr>\n",
              "      <th>4</th>\n",
              "      <td>2014</td>\n",
              "      <td>450000</td>\n",
              "      <td>141000</td>\n",
              "      <td>Diesel</td>\n",
              "      <td>Individual</td>\n",
              "      <td>Manual</td>\n",
              "      <td>Second Owner</td>\n",
              "    </tr>\n",
              "  </tbody>\n",
              "</table>\n",
              "</div>\n",
              "      <button class=\"colab-df-convert\" onclick=\"convertToInteractive('df-1aba0cf5-4851-4ec4-b350-4692d19ecdd1')\"\n",
              "              title=\"Convert this dataframe to an interactive table.\"\n",
              "              style=\"display:none;\">\n",
              "        \n",
              "  <svg xmlns=\"http://www.w3.org/2000/svg\" height=\"24px\"viewBox=\"0 0 24 24\"\n",
              "       width=\"24px\">\n",
              "    <path d=\"M0 0h24v24H0V0z\" fill=\"none\"/>\n",
              "    <path d=\"M18.56 5.44l.94 2.06.94-2.06 2.06-.94-2.06-.94-.94-2.06-.94 2.06-2.06.94zm-11 1L8.5 8.5l.94-2.06 2.06-.94-2.06-.94L8.5 2.5l-.94 2.06-2.06.94zm10 10l.94 2.06.94-2.06 2.06-.94-2.06-.94-.94-2.06-.94 2.06-2.06.94z\"/><path d=\"M17.41 7.96l-1.37-1.37c-.4-.4-.92-.59-1.43-.59-.52 0-1.04.2-1.43.59L10.3 9.45l-7.72 7.72c-.78.78-.78 2.05 0 2.83L4 21.41c.39.39.9.59 1.41.59.51 0 1.02-.2 1.41-.59l7.78-7.78 2.81-2.81c.8-.78.8-2.07 0-2.86zM5.41 20L4 18.59l7.72-7.72 1.47 1.35L5.41 20z\"/>\n",
              "  </svg>\n",
              "      </button>\n",
              "      \n",
              "  <style>\n",
              "    .colab-df-container {\n",
              "      display:flex;\n",
              "      flex-wrap:wrap;\n",
              "      gap: 12px;\n",
              "    }\n",
              "\n",
              "    .colab-df-convert {\n",
              "      background-color: #E8F0FE;\n",
              "      border: none;\n",
              "      border-radius: 50%;\n",
              "      cursor: pointer;\n",
              "      display: none;\n",
              "      fill: #1967D2;\n",
              "      height: 32px;\n",
              "      padding: 0 0 0 0;\n",
              "      width: 32px;\n",
              "    }\n",
              "\n",
              "    .colab-df-convert:hover {\n",
              "      background-color: #E2EBFA;\n",
              "      box-shadow: 0px 1px 2px rgba(60, 64, 67, 0.3), 0px 1px 3px 1px rgba(60, 64, 67, 0.15);\n",
              "      fill: #174EA6;\n",
              "    }\n",
              "\n",
              "    [theme=dark] .colab-df-convert {\n",
              "      background-color: #3B4455;\n",
              "      fill: #D2E3FC;\n",
              "    }\n",
              "\n",
              "    [theme=dark] .colab-df-convert:hover {\n",
              "      background-color: #434B5C;\n",
              "      box-shadow: 0px 1px 3px 1px rgba(0, 0, 0, 0.15);\n",
              "      filter: drop-shadow(0px 1px 2px rgba(0, 0, 0, 0.3));\n",
              "      fill: #FFFFFF;\n",
              "    }\n",
              "  </style>\n",
              "\n",
              "      <script>\n",
              "        const buttonEl =\n",
              "          document.querySelector('#df-1aba0cf5-4851-4ec4-b350-4692d19ecdd1 button.colab-df-convert');\n",
              "        buttonEl.style.display =\n",
              "          google.colab.kernel.accessAllowed ? 'block' : 'none';\n",
              "\n",
              "        async function convertToInteractive(key) {\n",
              "          const element = document.querySelector('#df-1aba0cf5-4851-4ec4-b350-4692d19ecdd1');\n",
              "          const dataTable =\n",
              "            await google.colab.kernel.invokeFunction('convertToInteractive',\n",
              "                                                     [key], {});\n",
              "          if (!dataTable) return;\n",
              "\n",
              "          const docLinkHtml = 'Like what you see? Visit the ' +\n",
              "            '<a target=\"_blank\" href=https://colab.research.google.com/notebooks/data_table.ipynb>data table notebook</a>'\n",
              "            + ' to learn more about interactive tables.';\n",
              "          element.innerHTML = '';\n",
              "          dataTable['output_type'] = 'display_data';\n",
              "          await google.colab.output.renderOutput(dataTable, element);\n",
              "          const docLink = document.createElement('div');\n",
              "          docLink.innerHTML = docLinkHtml;\n",
              "          element.appendChild(docLink);\n",
              "        }\n",
              "      </script>\n",
              "    </div>\n",
              "  </div>\n",
              "  "
            ]
          },
          "metadata": {},
          "execution_count": 10
        }
      ],
      "source": [
        "final_dataset.head()"
      ]
    },
    {
      "cell_type": "code",
      "execution_count": 11,
      "id": "f8b2607c",
      "metadata": {
        "id": "f8b2607c"
      },
      "outputs": [],
      "source": [
        "#Make a new feature 'Current_year'\n",
        "final_dataset['Current_Year']=2022"
      ]
    },
    {
      "cell_type": "code",
      "execution_count": 12,
      "id": "64e6c3fd",
      "metadata": {
        "colab": {
          "base_uri": "https://localhost:8080/",
          "height": 206
        },
        "id": "64e6c3fd",
        "outputId": "2de7d5cb-a767-4f69-a921-444b16bd93ec"
      },
      "outputs": [
        {
          "output_type": "execute_result",
          "data": {
            "text/plain": [
              "   Year  Selling_Price  Kms_Driven Fuel_Type Seller_Type Transmission  \\\n",
              "0  2007          60000       70000    Petrol  Individual       Manual   \n",
              "1  2007         135000       50000    Petrol  Individual       Manual   \n",
              "2  2012         600000      100000    Diesel  Individual       Manual   \n",
              "3  2017         250000       46000    Petrol  Individual       Manual   \n",
              "4  2014         450000      141000    Diesel  Individual       Manual   \n",
              "\n",
              "          Owner  Current_Year  \n",
              "0   First Owner          2022  \n",
              "1   First Owner          2022  \n",
              "2   First Owner          2022  \n",
              "3   First Owner          2022  \n",
              "4  Second Owner          2022  "
            ],
            "text/html": [
              "\n",
              "  <div id=\"df-0d188d9a-f6b7-40eb-b342-7177013e0d85\">\n",
              "    <div class=\"colab-df-container\">\n",
              "      <div>\n",
              "<style scoped>\n",
              "    .dataframe tbody tr th:only-of-type {\n",
              "        vertical-align: middle;\n",
              "    }\n",
              "\n",
              "    .dataframe tbody tr th {\n",
              "        vertical-align: top;\n",
              "    }\n",
              "\n",
              "    .dataframe thead th {\n",
              "        text-align: right;\n",
              "    }\n",
              "</style>\n",
              "<table border=\"1\" class=\"dataframe\">\n",
              "  <thead>\n",
              "    <tr style=\"text-align: right;\">\n",
              "      <th></th>\n",
              "      <th>Year</th>\n",
              "      <th>Selling_Price</th>\n",
              "      <th>Kms_Driven</th>\n",
              "      <th>Fuel_Type</th>\n",
              "      <th>Seller_Type</th>\n",
              "      <th>Transmission</th>\n",
              "      <th>Owner</th>\n",
              "      <th>Current_Year</th>\n",
              "    </tr>\n",
              "  </thead>\n",
              "  <tbody>\n",
              "    <tr>\n",
              "      <th>0</th>\n",
              "      <td>2007</td>\n",
              "      <td>60000</td>\n",
              "      <td>70000</td>\n",
              "      <td>Petrol</td>\n",
              "      <td>Individual</td>\n",
              "      <td>Manual</td>\n",
              "      <td>First Owner</td>\n",
              "      <td>2022</td>\n",
              "    </tr>\n",
              "    <tr>\n",
              "      <th>1</th>\n",
              "      <td>2007</td>\n",
              "      <td>135000</td>\n",
              "      <td>50000</td>\n",
              "      <td>Petrol</td>\n",
              "      <td>Individual</td>\n",
              "      <td>Manual</td>\n",
              "      <td>First Owner</td>\n",
              "      <td>2022</td>\n",
              "    </tr>\n",
              "    <tr>\n",
              "      <th>2</th>\n",
              "      <td>2012</td>\n",
              "      <td>600000</td>\n",
              "      <td>100000</td>\n",
              "      <td>Diesel</td>\n",
              "      <td>Individual</td>\n",
              "      <td>Manual</td>\n",
              "      <td>First Owner</td>\n",
              "      <td>2022</td>\n",
              "    </tr>\n",
              "    <tr>\n",
              "      <th>3</th>\n",
              "      <td>2017</td>\n",
              "      <td>250000</td>\n",
              "      <td>46000</td>\n",
              "      <td>Petrol</td>\n",
              "      <td>Individual</td>\n",
              "      <td>Manual</td>\n",
              "      <td>First Owner</td>\n",
              "      <td>2022</td>\n",
              "    </tr>\n",
              "    <tr>\n",
              "      <th>4</th>\n",
              "      <td>2014</td>\n",
              "      <td>450000</td>\n",
              "      <td>141000</td>\n",
              "      <td>Diesel</td>\n",
              "      <td>Individual</td>\n",
              "      <td>Manual</td>\n",
              "      <td>Second Owner</td>\n",
              "      <td>2022</td>\n",
              "    </tr>\n",
              "  </tbody>\n",
              "</table>\n",
              "</div>\n",
              "      <button class=\"colab-df-convert\" onclick=\"convertToInteractive('df-0d188d9a-f6b7-40eb-b342-7177013e0d85')\"\n",
              "              title=\"Convert this dataframe to an interactive table.\"\n",
              "              style=\"display:none;\">\n",
              "        \n",
              "  <svg xmlns=\"http://www.w3.org/2000/svg\" height=\"24px\"viewBox=\"0 0 24 24\"\n",
              "       width=\"24px\">\n",
              "    <path d=\"M0 0h24v24H0V0z\" fill=\"none\"/>\n",
              "    <path d=\"M18.56 5.44l.94 2.06.94-2.06 2.06-.94-2.06-.94-.94-2.06-.94 2.06-2.06.94zm-11 1L8.5 8.5l.94-2.06 2.06-.94-2.06-.94L8.5 2.5l-.94 2.06-2.06.94zm10 10l.94 2.06.94-2.06 2.06-.94-2.06-.94-.94-2.06-.94 2.06-2.06.94z\"/><path d=\"M17.41 7.96l-1.37-1.37c-.4-.4-.92-.59-1.43-.59-.52 0-1.04.2-1.43.59L10.3 9.45l-7.72 7.72c-.78.78-.78 2.05 0 2.83L4 21.41c.39.39.9.59 1.41.59.51 0 1.02-.2 1.41-.59l7.78-7.78 2.81-2.81c.8-.78.8-2.07 0-2.86zM5.41 20L4 18.59l7.72-7.72 1.47 1.35L5.41 20z\"/>\n",
              "  </svg>\n",
              "      </button>\n",
              "      \n",
              "  <style>\n",
              "    .colab-df-container {\n",
              "      display:flex;\n",
              "      flex-wrap:wrap;\n",
              "      gap: 12px;\n",
              "    }\n",
              "\n",
              "    .colab-df-convert {\n",
              "      background-color: #E8F0FE;\n",
              "      border: none;\n",
              "      border-radius: 50%;\n",
              "      cursor: pointer;\n",
              "      display: none;\n",
              "      fill: #1967D2;\n",
              "      height: 32px;\n",
              "      padding: 0 0 0 0;\n",
              "      width: 32px;\n",
              "    }\n",
              "\n",
              "    .colab-df-convert:hover {\n",
              "      background-color: #E2EBFA;\n",
              "      box-shadow: 0px 1px 2px rgba(60, 64, 67, 0.3), 0px 1px 3px 1px rgba(60, 64, 67, 0.15);\n",
              "      fill: #174EA6;\n",
              "    }\n",
              "\n",
              "    [theme=dark] .colab-df-convert {\n",
              "      background-color: #3B4455;\n",
              "      fill: #D2E3FC;\n",
              "    }\n",
              "\n",
              "    [theme=dark] .colab-df-convert:hover {\n",
              "      background-color: #434B5C;\n",
              "      box-shadow: 0px 1px 3px 1px rgba(0, 0, 0, 0.15);\n",
              "      filter: drop-shadow(0px 1px 2px rgba(0, 0, 0, 0.3));\n",
              "      fill: #FFFFFF;\n",
              "    }\n",
              "  </style>\n",
              "\n",
              "      <script>\n",
              "        const buttonEl =\n",
              "          document.querySelector('#df-0d188d9a-f6b7-40eb-b342-7177013e0d85 button.colab-df-convert');\n",
              "        buttonEl.style.display =\n",
              "          google.colab.kernel.accessAllowed ? 'block' : 'none';\n",
              "\n",
              "        async function convertToInteractive(key) {\n",
              "          const element = document.querySelector('#df-0d188d9a-f6b7-40eb-b342-7177013e0d85');\n",
              "          const dataTable =\n",
              "            await google.colab.kernel.invokeFunction('convertToInteractive',\n",
              "                                                     [key], {});\n",
              "          if (!dataTable) return;\n",
              "\n",
              "          const docLinkHtml = 'Like what you see? Visit the ' +\n",
              "            '<a target=\"_blank\" href=https://colab.research.google.com/notebooks/data_table.ipynb>data table notebook</a>'\n",
              "            + ' to learn more about interactive tables.';\n",
              "          element.innerHTML = '';\n",
              "          dataTable['output_type'] = 'display_data';\n",
              "          await google.colab.output.renderOutput(dataTable, element);\n",
              "          const docLink = document.createElement('div');\n",
              "          docLink.innerHTML = docLinkHtml;\n",
              "          element.appendChild(docLink);\n",
              "        }\n",
              "      </script>\n",
              "    </div>\n",
              "  </div>\n",
              "  "
            ]
          },
          "metadata": {},
          "execution_count": 12
        }
      ],
      "source": [
        "final_dataset.head()"
      ]
    },
    {
      "cell_type": "code",
      "execution_count": 13,
      "id": "a06de018",
      "metadata": {
        "id": "a06de018"
      },
      "outputs": [],
      "source": [
        "#For calculating age of car\n",
        "final_dataset['No_Year']=final_dataset['Current_Year']-final_dataset['Year']"
      ]
    },
    {
      "cell_type": "code",
      "execution_count": 14,
      "id": "9847e6dd",
      "metadata": {
        "colab": {
          "base_uri": "https://localhost:8080/",
          "height": 206
        },
        "id": "9847e6dd",
        "outputId": "56a3fa68-a738-48af-98b3-fca7ad669eb4"
      },
      "outputs": [
        {
          "output_type": "execute_result",
          "data": {
            "text/plain": [
              "   Year  Selling_Price  Kms_Driven Fuel_Type Seller_Type Transmission  \\\n",
              "0  2007          60000       70000    Petrol  Individual       Manual   \n",
              "1  2007         135000       50000    Petrol  Individual       Manual   \n",
              "2  2012         600000      100000    Diesel  Individual       Manual   \n",
              "3  2017         250000       46000    Petrol  Individual       Manual   \n",
              "4  2014         450000      141000    Diesel  Individual       Manual   \n",
              "\n",
              "          Owner  Current_Year  No_Year  \n",
              "0   First Owner          2022       15  \n",
              "1   First Owner          2022       15  \n",
              "2   First Owner          2022       10  \n",
              "3   First Owner          2022        5  \n",
              "4  Second Owner          2022        8  "
            ],
            "text/html": [
              "\n",
              "  <div id=\"df-ce5e1b5b-50ec-4323-99d2-23e27e52ac0d\">\n",
              "    <div class=\"colab-df-container\">\n",
              "      <div>\n",
              "<style scoped>\n",
              "    .dataframe tbody tr th:only-of-type {\n",
              "        vertical-align: middle;\n",
              "    }\n",
              "\n",
              "    .dataframe tbody tr th {\n",
              "        vertical-align: top;\n",
              "    }\n",
              "\n",
              "    .dataframe thead th {\n",
              "        text-align: right;\n",
              "    }\n",
              "</style>\n",
              "<table border=\"1\" class=\"dataframe\">\n",
              "  <thead>\n",
              "    <tr style=\"text-align: right;\">\n",
              "      <th></th>\n",
              "      <th>Year</th>\n",
              "      <th>Selling_Price</th>\n",
              "      <th>Kms_Driven</th>\n",
              "      <th>Fuel_Type</th>\n",
              "      <th>Seller_Type</th>\n",
              "      <th>Transmission</th>\n",
              "      <th>Owner</th>\n",
              "      <th>Current_Year</th>\n",
              "      <th>No_Year</th>\n",
              "    </tr>\n",
              "  </thead>\n",
              "  <tbody>\n",
              "    <tr>\n",
              "      <th>0</th>\n",
              "      <td>2007</td>\n",
              "      <td>60000</td>\n",
              "      <td>70000</td>\n",
              "      <td>Petrol</td>\n",
              "      <td>Individual</td>\n",
              "      <td>Manual</td>\n",
              "      <td>First Owner</td>\n",
              "      <td>2022</td>\n",
              "      <td>15</td>\n",
              "    </tr>\n",
              "    <tr>\n",
              "      <th>1</th>\n",
              "      <td>2007</td>\n",
              "      <td>135000</td>\n",
              "      <td>50000</td>\n",
              "      <td>Petrol</td>\n",
              "      <td>Individual</td>\n",
              "      <td>Manual</td>\n",
              "      <td>First Owner</td>\n",
              "      <td>2022</td>\n",
              "      <td>15</td>\n",
              "    </tr>\n",
              "    <tr>\n",
              "      <th>2</th>\n",
              "      <td>2012</td>\n",
              "      <td>600000</td>\n",
              "      <td>100000</td>\n",
              "      <td>Diesel</td>\n",
              "      <td>Individual</td>\n",
              "      <td>Manual</td>\n",
              "      <td>First Owner</td>\n",
              "      <td>2022</td>\n",
              "      <td>10</td>\n",
              "    </tr>\n",
              "    <tr>\n",
              "      <th>3</th>\n",
              "      <td>2017</td>\n",
              "      <td>250000</td>\n",
              "      <td>46000</td>\n",
              "      <td>Petrol</td>\n",
              "      <td>Individual</td>\n",
              "      <td>Manual</td>\n",
              "      <td>First Owner</td>\n",
              "      <td>2022</td>\n",
              "      <td>5</td>\n",
              "    </tr>\n",
              "    <tr>\n",
              "      <th>4</th>\n",
              "      <td>2014</td>\n",
              "      <td>450000</td>\n",
              "      <td>141000</td>\n",
              "      <td>Diesel</td>\n",
              "      <td>Individual</td>\n",
              "      <td>Manual</td>\n",
              "      <td>Second Owner</td>\n",
              "      <td>2022</td>\n",
              "      <td>8</td>\n",
              "    </tr>\n",
              "  </tbody>\n",
              "</table>\n",
              "</div>\n",
              "      <button class=\"colab-df-convert\" onclick=\"convertToInteractive('df-ce5e1b5b-50ec-4323-99d2-23e27e52ac0d')\"\n",
              "              title=\"Convert this dataframe to an interactive table.\"\n",
              "              style=\"display:none;\">\n",
              "        \n",
              "  <svg xmlns=\"http://www.w3.org/2000/svg\" height=\"24px\"viewBox=\"0 0 24 24\"\n",
              "       width=\"24px\">\n",
              "    <path d=\"M0 0h24v24H0V0z\" fill=\"none\"/>\n",
              "    <path d=\"M18.56 5.44l.94 2.06.94-2.06 2.06-.94-2.06-.94-.94-2.06-.94 2.06-2.06.94zm-11 1L8.5 8.5l.94-2.06 2.06-.94-2.06-.94L8.5 2.5l-.94 2.06-2.06.94zm10 10l.94 2.06.94-2.06 2.06-.94-2.06-.94-.94-2.06-.94 2.06-2.06.94z\"/><path d=\"M17.41 7.96l-1.37-1.37c-.4-.4-.92-.59-1.43-.59-.52 0-1.04.2-1.43.59L10.3 9.45l-7.72 7.72c-.78.78-.78 2.05 0 2.83L4 21.41c.39.39.9.59 1.41.59.51 0 1.02-.2 1.41-.59l7.78-7.78 2.81-2.81c.8-.78.8-2.07 0-2.86zM5.41 20L4 18.59l7.72-7.72 1.47 1.35L5.41 20z\"/>\n",
              "  </svg>\n",
              "      </button>\n",
              "      \n",
              "  <style>\n",
              "    .colab-df-container {\n",
              "      display:flex;\n",
              "      flex-wrap:wrap;\n",
              "      gap: 12px;\n",
              "    }\n",
              "\n",
              "    .colab-df-convert {\n",
              "      background-color: #E8F0FE;\n",
              "      border: none;\n",
              "      border-radius: 50%;\n",
              "      cursor: pointer;\n",
              "      display: none;\n",
              "      fill: #1967D2;\n",
              "      height: 32px;\n",
              "      padding: 0 0 0 0;\n",
              "      width: 32px;\n",
              "    }\n",
              "\n",
              "    .colab-df-convert:hover {\n",
              "      background-color: #E2EBFA;\n",
              "      box-shadow: 0px 1px 2px rgba(60, 64, 67, 0.3), 0px 1px 3px 1px rgba(60, 64, 67, 0.15);\n",
              "      fill: #174EA6;\n",
              "    }\n",
              "\n",
              "    [theme=dark] .colab-df-convert {\n",
              "      background-color: #3B4455;\n",
              "      fill: #D2E3FC;\n",
              "    }\n",
              "\n",
              "    [theme=dark] .colab-df-convert:hover {\n",
              "      background-color: #434B5C;\n",
              "      box-shadow: 0px 1px 3px 1px rgba(0, 0, 0, 0.15);\n",
              "      filter: drop-shadow(0px 1px 2px rgba(0, 0, 0, 0.3));\n",
              "      fill: #FFFFFF;\n",
              "    }\n",
              "  </style>\n",
              "\n",
              "      <script>\n",
              "        const buttonEl =\n",
              "          document.querySelector('#df-ce5e1b5b-50ec-4323-99d2-23e27e52ac0d button.colab-df-convert');\n",
              "        buttonEl.style.display =\n",
              "          google.colab.kernel.accessAllowed ? 'block' : 'none';\n",
              "\n",
              "        async function convertToInteractive(key) {\n",
              "          const element = document.querySelector('#df-ce5e1b5b-50ec-4323-99d2-23e27e52ac0d');\n",
              "          const dataTable =\n",
              "            await google.colab.kernel.invokeFunction('convertToInteractive',\n",
              "                                                     [key], {});\n",
              "          if (!dataTable) return;\n",
              "\n",
              "          const docLinkHtml = 'Like what you see? Visit the ' +\n",
              "            '<a target=\"_blank\" href=https://colab.research.google.com/notebooks/data_table.ipynb>data table notebook</a>'\n",
              "            + ' to learn more about interactive tables.';\n",
              "          element.innerHTML = '';\n",
              "          dataTable['output_type'] = 'display_data';\n",
              "          await google.colab.output.renderOutput(dataTable, element);\n",
              "          const docLink = document.createElement('div');\n",
              "          docLink.innerHTML = docLinkHtml;\n",
              "          element.appendChild(docLink);\n",
              "        }\n",
              "      </script>\n",
              "    </div>\n",
              "  </div>\n",
              "  "
            ]
          },
          "metadata": {},
          "execution_count": 14
        }
      ],
      "source": [
        "final_dataset.head()"
      ]
    },
    {
      "cell_type": "code",
      "execution_count": 15,
      "id": "e5bfa913",
      "metadata": {
        "id": "e5bfa913"
      },
      "outputs": [],
      "source": [
        "#delete Year Column\n",
        "final_dataset.drop(['Year'],axis=1,inplace=True)"
      ]
    },
    {
      "cell_type": "code",
      "execution_count": 16,
      "id": "811c8c66",
      "metadata": {
        "id": "811c8c66"
      },
      "outputs": [],
      "source": [
        "#delete Current_Year Column\n",
        "final_dataset.drop(['Current_Year'],axis=1,inplace=True)"
      ]
    },
    {
      "cell_type": "code",
      "execution_count": 17,
      "id": "8562dba7",
      "metadata": {
        "colab": {
          "base_uri": "https://localhost:8080/",
          "height": 206
        },
        "id": "8562dba7",
        "outputId": "d394b929-e2c3-44ce-dc15-33a4469cb9cc"
      },
      "outputs": [
        {
          "output_type": "execute_result",
          "data": {
            "text/plain": [
              "   Selling_Price  Kms_Driven Fuel_Type Seller_Type Transmission         Owner  \\\n",
              "0          60000       70000    Petrol  Individual       Manual   First Owner   \n",
              "1         135000       50000    Petrol  Individual       Manual   First Owner   \n",
              "2         600000      100000    Diesel  Individual       Manual   First Owner   \n",
              "3         250000       46000    Petrol  Individual       Manual   First Owner   \n",
              "4         450000      141000    Diesel  Individual       Manual  Second Owner   \n",
              "\n",
              "   No_Year  \n",
              "0       15  \n",
              "1       15  \n",
              "2       10  \n",
              "3        5  \n",
              "4        8  "
            ],
            "text/html": [
              "\n",
              "  <div id=\"df-ed9d1549-70b7-4f95-9e47-ba65a1ac34bb\">\n",
              "    <div class=\"colab-df-container\">\n",
              "      <div>\n",
              "<style scoped>\n",
              "    .dataframe tbody tr th:only-of-type {\n",
              "        vertical-align: middle;\n",
              "    }\n",
              "\n",
              "    .dataframe tbody tr th {\n",
              "        vertical-align: top;\n",
              "    }\n",
              "\n",
              "    .dataframe thead th {\n",
              "        text-align: right;\n",
              "    }\n",
              "</style>\n",
              "<table border=\"1\" class=\"dataframe\">\n",
              "  <thead>\n",
              "    <tr style=\"text-align: right;\">\n",
              "      <th></th>\n",
              "      <th>Selling_Price</th>\n",
              "      <th>Kms_Driven</th>\n",
              "      <th>Fuel_Type</th>\n",
              "      <th>Seller_Type</th>\n",
              "      <th>Transmission</th>\n",
              "      <th>Owner</th>\n",
              "      <th>No_Year</th>\n",
              "    </tr>\n",
              "  </thead>\n",
              "  <tbody>\n",
              "    <tr>\n",
              "      <th>0</th>\n",
              "      <td>60000</td>\n",
              "      <td>70000</td>\n",
              "      <td>Petrol</td>\n",
              "      <td>Individual</td>\n",
              "      <td>Manual</td>\n",
              "      <td>First Owner</td>\n",
              "      <td>15</td>\n",
              "    </tr>\n",
              "    <tr>\n",
              "      <th>1</th>\n",
              "      <td>135000</td>\n",
              "      <td>50000</td>\n",
              "      <td>Petrol</td>\n",
              "      <td>Individual</td>\n",
              "      <td>Manual</td>\n",
              "      <td>First Owner</td>\n",
              "      <td>15</td>\n",
              "    </tr>\n",
              "    <tr>\n",
              "      <th>2</th>\n",
              "      <td>600000</td>\n",
              "      <td>100000</td>\n",
              "      <td>Diesel</td>\n",
              "      <td>Individual</td>\n",
              "      <td>Manual</td>\n",
              "      <td>First Owner</td>\n",
              "      <td>10</td>\n",
              "    </tr>\n",
              "    <tr>\n",
              "      <th>3</th>\n",
              "      <td>250000</td>\n",
              "      <td>46000</td>\n",
              "      <td>Petrol</td>\n",
              "      <td>Individual</td>\n",
              "      <td>Manual</td>\n",
              "      <td>First Owner</td>\n",
              "      <td>5</td>\n",
              "    </tr>\n",
              "    <tr>\n",
              "      <th>4</th>\n",
              "      <td>450000</td>\n",
              "      <td>141000</td>\n",
              "      <td>Diesel</td>\n",
              "      <td>Individual</td>\n",
              "      <td>Manual</td>\n",
              "      <td>Second Owner</td>\n",
              "      <td>8</td>\n",
              "    </tr>\n",
              "  </tbody>\n",
              "</table>\n",
              "</div>\n",
              "      <button class=\"colab-df-convert\" onclick=\"convertToInteractive('df-ed9d1549-70b7-4f95-9e47-ba65a1ac34bb')\"\n",
              "              title=\"Convert this dataframe to an interactive table.\"\n",
              "              style=\"display:none;\">\n",
              "        \n",
              "  <svg xmlns=\"http://www.w3.org/2000/svg\" height=\"24px\"viewBox=\"0 0 24 24\"\n",
              "       width=\"24px\">\n",
              "    <path d=\"M0 0h24v24H0V0z\" fill=\"none\"/>\n",
              "    <path d=\"M18.56 5.44l.94 2.06.94-2.06 2.06-.94-2.06-.94-.94-2.06-.94 2.06-2.06.94zm-11 1L8.5 8.5l.94-2.06 2.06-.94-2.06-.94L8.5 2.5l-.94 2.06-2.06.94zm10 10l.94 2.06.94-2.06 2.06-.94-2.06-.94-.94-2.06-.94 2.06-2.06.94z\"/><path d=\"M17.41 7.96l-1.37-1.37c-.4-.4-.92-.59-1.43-.59-.52 0-1.04.2-1.43.59L10.3 9.45l-7.72 7.72c-.78.78-.78 2.05 0 2.83L4 21.41c.39.39.9.59 1.41.59.51 0 1.02-.2 1.41-.59l7.78-7.78 2.81-2.81c.8-.78.8-2.07 0-2.86zM5.41 20L4 18.59l7.72-7.72 1.47 1.35L5.41 20z\"/>\n",
              "  </svg>\n",
              "      </button>\n",
              "      \n",
              "  <style>\n",
              "    .colab-df-container {\n",
              "      display:flex;\n",
              "      flex-wrap:wrap;\n",
              "      gap: 12px;\n",
              "    }\n",
              "\n",
              "    .colab-df-convert {\n",
              "      background-color: #E8F0FE;\n",
              "      border: none;\n",
              "      border-radius: 50%;\n",
              "      cursor: pointer;\n",
              "      display: none;\n",
              "      fill: #1967D2;\n",
              "      height: 32px;\n",
              "      padding: 0 0 0 0;\n",
              "      width: 32px;\n",
              "    }\n",
              "\n",
              "    .colab-df-convert:hover {\n",
              "      background-color: #E2EBFA;\n",
              "      box-shadow: 0px 1px 2px rgba(60, 64, 67, 0.3), 0px 1px 3px 1px rgba(60, 64, 67, 0.15);\n",
              "      fill: #174EA6;\n",
              "    }\n",
              "\n",
              "    [theme=dark] .colab-df-convert {\n",
              "      background-color: #3B4455;\n",
              "      fill: #D2E3FC;\n",
              "    }\n",
              "\n",
              "    [theme=dark] .colab-df-convert:hover {\n",
              "      background-color: #434B5C;\n",
              "      box-shadow: 0px 1px 3px 1px rgba(0, 0, 0, 0.15);\n",
              "      filter: drop-shadow(0px 1px 2px rgba(0, 0, 0, 0.3));\n",
              "      fill: #FFFFFF;\n",
              "    }\n",
              "  </style>\n",
              "\n",
              "      <script>\n",
              "        const buttonEl =\n",
              "          document.querySelector('#df-ed9d1549-70b7-4f95-9e47-ba65a1ac34bb button.colab-df-convert');\n",
              "        buttonEl.style.display =\n",
              "          google.colab.kernel.accessAllowed ? 'block' : 'none';\n",
              "\n",
              "        async function convertToInteractive(key) {\n",
              "          const element = document.querySelector('#df-ed9d1549-70b7-4f95-9e47-ba65a1ac34bb');\n",
              "          const dataTable =\n",
              "            await google.colab.kernel.invokeFunction('convertToInteractive',\n",
              "                                                     [key], {});\n",
              "          if (!dataTable) return;\n",
              "\n",
              "          const docLinkHtml = 'Like what you see? Visit the ' +\n",
              "            '<a target=\"_blank\" href=https://colab.research.google.com/notebooks/data_table.ipynb>data table notebook</a>'\n",
              "            + ' to learn more about interactive tables.';\n",
              "          element.innerHTML = '';\n",
              "          dataTable['output_type'] = 'display_data';\n",
              "          await google.colab.output.renderOutput(dataTable, element);\n",
              "          const docLink = document.createElement('div');\n",
              "          docLink.innerHTML = docLinkHtml;\n",
              "          element.appendChild(docLink);\n",
              "        }\n",
              "      </script>\n",
              "    </div>\n",
              "  </div>\n",
              "  "
            ]
          },
          "metadata": {},
          "execution_count": 17
        }
      ],
      "source": [
        "final_dataset.head()"
      ]
    },
    {
      "cell_type": "code",
      "execution_count": 18,
      "id": "d52951fc",
      "metadata": {
        "id": "d52951fc"
      },
      "outputs": [],
      "source": [
        "corr=final_dataset.corr()"
      ]
    },
    {
      "cell_type": "code",
      "execution_count": 19,
      "id": "b5b6238f",
      "metadata": {
        "colab": {
          "base_uri": "https://localhost:8080/",
          "height": 143
        },
        "id": "b5b6238f",
        "outputId": "9d337a34-f329-4ba0-97ee-297413666eb7"
      },
      "outputs": [
        {
          "output_type": "execute_result",
          "data": {
            "text/plain": [
              "               Selling_Price  Kms_Driven   No_Year\n",
              "Selling_Price       1.000000   -0.192348 -0.413963\n",
              "Kms_Driven         -0.192348    1.000000  0.419624\n",
              "No_Year            -0.413963    0.419624  1.000000"
            ],
            "text/html": [
              "\n",
              "  <div id=\"df-20bad269-a458-4bdb-be5d-dda578b8cac4\">\n",
              "    <div class=\"colab-df-container\">\n",
              "      <div>\n",
              "<style scoped>\n",
              "    .dataframe tbody tr th:only-of-type {\n",
              "        vertical-align: middle;\n",
              "    }\n",
              "\n",
              "    .dataframe tbody tr th {\n",
              "        vertical-align: top;\n",
              "    }\n",
              "\n",
              "    .dataframe thead th {\n",
              "        text-align: right;\n",
              "    }\n",
              "</style>\n",
              "<table border=\"1\" class=\"dataframe\">\n",
              "  <thead>\n",
              "    <tr style=\"text-align: right;\">\n",
              "      <th></th>\n",
              "      <th>Selling_Price</th>\n",
              "      <th>Kms_Driven</th>\n",
              "      <th>No_Year</th>\n",
              "    </tr>\n",
              "  </thead>\n",
              "  <tbody>\n",
              "    <tr>\n",
              "      <th>Selling_Price</th>\n",
              "      <td>1.000000</td>\n",
              "      <td>-0.192348</td>\n",
              "      <td>-0.413963</td>\n",
              "    </tr>\n",
              "    <tr>\n",
              "      <th>Kms_Driven</th>\n",
              "      <td>-0.192348</td>\n",
              "      <td>1.000000</td>\n",
              "      <td>0.419624</td>\n",
              "    </tr>\n",
              "    <tr>\n",
              "      <th>No_Year</th>\n",
              "      <td>-0.413963</td>\n",
              "      <td>0.419624</td>\n",
              "      <td>1.000000</td>\n",
              "    </tr>\n",
              "  </tbody>\n",
              "</table>\n",
              "</div>\n",
              "      <button class=\"colab-df-convert\" onclick=\"convertToInteractive('df-20bad269-a458-4bdb-be5d-dda578b8cac4')\"\n",
              "              title=\"Convert this dataframe to an interactive table.\"\n",
              "              style=\"display:none;\">\n",
              "        \n",
              "  <svg xmlns=\"http://www.w3.org/2000/svg\" height=\"24px\"viewBox=\"0 0 24 24\"\n",
              "       width=\"24px\">\n",
              "    <path d=\"M0 0h24v24H0V0z\" fill=\"none\"/>\n",
              "    <path d=\"M18.56 5.44l.94 2.06.94-2.06 2.06-.94-2.06-.94-.94-2.06-.94 2.06-2.06.94zm-11 1L8.5 8.5l.94-2.06 2.06-.94-2.06-.94L8.5 2.5l-.94 2.06-2.06.94zm10 10l.94 2.06.94-2.06 2.06-.94-2.06-.94-.94-2.06-.94 2.06-2.06.94z\"/><path d=\"M17.41 7.96l-1.37-1.37c-.4-.4-.92-.59-1.43-.59-.52 0-1.04.2-1.43.59L10.3 9.45l-7.72 7.72c-.78.78-.78 2.05 0 2.83L4 21.41c.39.39.9.59 1.41.59.51 0 1.02-.2 1.41-.59l7.78-7.78 2.81-2.81c.8-.78.8-2.07 0-2.86zM5.41 20L4 18.59l7.72-7.72 1.47 1.35L5.41 20z\"/>\n",
              "  </svg>\n",
              "      </button>\n",
              "      \n",
              "  <style>\n",
              "    .colab-df-container {\n",
              "      display:flex;\n",
              "      flex-wrap:wrap;\n",
              "      gap: 12px;\n",
              "    }\n",
              "\n",
              "    .colab-df-convert {\n",
              "      background-color: #E8F0FE;\n",
              "      border: none;\n",
              "      border-radius: 50%;\n",
              "      cursor: pointer;\n",
              "      display: none;\n",
              "      fill: #1967D2;\n",
              "      height: 32px;\n",
              "      padding: 0 0 0 0;\n",
              "      width: 32px;\n",
              "    }\n",
              "\n",
              "    .colab-df-convert:hover {\n",
              "      background-color: #E2EBFA;\n",
              "      box-shadow: 0px 1px 2px rgba(60, 64, 67, 0.3), 0px 1px 3px 1px rgba(60, 64, 67, 0.15);\n",
              "      fill: #174EA6;\n",
              "    }\n",
              "\n",
              "    [theme=dark] .colab-df-convert {\n",
              "      background-color: #3B4455;\n",
              "      fill: #D2E3FC;\n",
              "    }\n",
              "\n",
              "    [theme=dark] .colab-df-convert:hover {\n",
              "      background-color: #434B5C;\n",
              "      box-shadow: 0px 1px 3px 1px rgba(0, 0, 0, 0.15);\n",
              "      filter: drop-shadow(0px 1px 2px rgba(0, 0, 0, 0.3));\n",
              "      fill: #FFFFFF;\n",
              "    }\n",
              "  </style>\n",
              "\n",
              "      <script>\n",
              "        const buttonEl =\n",
              "          document.querySelector('#df-20bad269-a458-4bdb-be5d-dda578b8cac4 button.colab-df-convert');\n",
              "        buttonEl.style.display =\n",
              "          google.colab.kernel.accessAllowed ? 'block' : 'none';\n",
              "\n",
              "        async function convertToInteractive(key) {\n",
              "          const element = document.querySelector('#df-20bad269-a458-4bdb-be5d-dda578b8cac4');\n",
              "          const dataTable =\n",
              "            await google.colab.kernel.invokeFunction('convertToInteractive',\n",
              "                                                     [key], {});\n",
              "          if (!dataTable) return;\n",
              "\n",
              "          const docLinkHtml = 'Like what you see? Visit the ' +\n",
              "            '<a target=\"_blank\" href=https://colab.research.google.com/notebooks/data_table.ipynb>data table notebook</a>'\n",
              "            + ' to learn more about interactive tables.';\n",
              "          element.innerHTML = '';\n",
              "          dataTable['output_type'] = 'display_data';\n",
              "          await google.colab.output.renderOutput(dataTable, element);\n",
              "          const docLink = document.createElement('div');\n",
              "          docLink.innerHTML = docLinkHtml;\n",
              "          element.appendChild(docLink);\n",
              "        }\n",
              "      </script>\n",
              "    </div>\n",
              "  </div>\n",
              "  "
            ]
          },
          "metadata": {},
          "execution_count": 19
        }
      ],
      "source": [
        "corr"
      ]
    },
    {
      "cell_type": "code",
      "execution_count": 20,
      "id": "0cbfeb30",
      "metadata": {
        "colab": {
          "base_uri": "https://localhost:8080/",
          "height": 287
        },
        "id": "0cbfeb30",
        "outputId": "b8fb5e26-23f6-45e5-d7db-3549cbe83cd8"
      },
      "outputs": [
        {
          "output_type": "execute_result",
          "data": {
            "text/plain": [
              "<matplotlib.axes._subplots.AxesSubplot at 0x7f412beb9c50>"
            ]
          },
          "metadata": {},
          "execution_count": 20
        },
        {
          "output_type": "display_data",
          "data": {
            "text/plain": [
              "<Figure size 432x288 with 2 Axes>"
            ],
            "image/png": "[encoded data removed]"
          },
          "metadata": {
            "needs_background": "light"
          }
        }
      ],
      "source": [
        "import seaborn as sns\n",
        "sns.heatmap(final_dataset.corr(),annot=True)"
      ]
    },
    {
      "cell_type": "markdown",
      "id": "7758baf3",
      "metadata": {
        "id": "7758baf3"
      },
      "source": [
        "# Making Box Plot of the numeric attributes to check if there is any outliers"
      ]
    },
    {
      "cell_type": "code",
      "execution_count": 21,
      "id": "d4974e12",
      "metadata": {
        "colab": {
          "base_uri": "https://localhost:8080/",
          "height": 269
        },
        "id": "d4974e12",
        "outputId": "495079c4-571b-4fe7-b738-d4847c85b4bf"
      },
      "outputs": [
        {
          "output_type": "execute_result",
          "data": {
            "text/plain": [
              "<matplotlib.axes._subplots.AxesSubplot at 0x7f412957aa10>"
            ]
          },
          "metadata": {},
          "execution_count": 21
        },
        {
          "output_type": "display_data",
          "data": {
            "text/plain": [
              "<Figure size 432x288 with 1 Axes>"
            ],
            "image/png": "[encoded data removed]"
          },
          "metadata": {
            "needs_background": "light"
          }
        }
      ],
      "source": [
        "sns.boxplot(y='Kms_Driven', data=final_dataset)"
      ]
    },
    {
      "cell_type": "code",
      "execution_count": 22,
      "id": "88e2de68",
      "metadata": {
        "colab": {
          "base_uri": "https://localhost:8080/",
          "height": 269
        },
        "id": "88e2de68",
        "outputId": "cc4dfd8b-0d21-4074-f43d-e2aa940d6253"
      },
      "outputs": [
        {
          "output_type": "execute_result",
          "data": {
            "text/plain": [
              "<matplotlib.axes._subplots.AxesSubplot at 0x7f4129046d10>"
            ]
          },
          "metadata": {},
          "execution_count": 22
        },
        {
          "output_type": "display_data",
          "data": {
            "text/plain": [
              "<Figure size 432x288 with 1 Axes>"
            ],
            "image/png": "[encoded data removed]"
          },
          "metadata": {
            "needs_background": "light"
          }
        }
      ],
      "source": [
        "sns.boxplot(y='No_Year', data=final_dataset)"
      ]
    },
    {
      "cell_type": "markdown",
      "id": "87b68516",
      "metadata": {
        "id": "87b68516"
      },
      "source": [
        "# EDA"
      ]
    },
    {
      "cell_type": "code",
      "execution_count": 23,
      "id": "8df4d406",
      "metadata": {
        "colab": {
          "base_uri": "https://localhost:8080/",
          "height": 297
        },
        "id": "8df4d406",
        "outputId": "b86535a3-f42c-4b93-beca-e19e924db51e"
      },
      "outputs": [
        {
          "output_type": "execute_result",
          "data": {
            "text/plain": [
              "<matplotlib.axes._subplots.AxesSubplot at 0x7f4129025fd0>"
            ]
          },
          "metadata": {},
          "execution_count": 23
        },
        {
          "output_type": "display_data",
          "data": {
            "text/plain": [
              "<Figure size 432x288 with 1 Axes>"
            ],
            "image/png": "[encoded data removed]"
          },
          "metadata": {
            "needs_background": "light"
          }
        }
      ],
      "source": [
        "sns.countplot(x='Fuel_Type', data=final_dataset)"
      ]
    },
    {
      "cell_type": "code",
      "execution_count": 24,
      "id": "d1f3c753",
      "metadata": {
        "colab": {
          "base_uri": "https://localhost:8080/",
          "height": 335
        },
        "id": "d1f3c753",
        "outputId": "04cfbfb0-f4a6-4d4d-8763-f5ad21cf0cd1"
      },
      "outputs": [
        {
          "output_type": "execute_result",
          "data": {
            "text/plain": [
              "<matplotlib.axes._subplots.AxesSubplot at 0x7f4128fa0090>"
            ]
          },
          "metadata": {},
          "execution_count": 24
        },
        {
          "output_type": "display_data",
          "data": {
            "text/plain": [
              "<Figure size 432x288 with 1 Axes>"
            ],
            "image/png": "[encoded data removed]"
          },
          "metadata": {
            "needs_background": "light"
          }
        }
      ],
      "source": [
        "import matplotlib.pyplot as plt\n",
        "plt.figure()\n",
        "final_dataset.groupby('Fuel_Type')['Selling_Price'].mean().plot(kind='bar')"
      ]
    },
    {
      "cell_type": "code",
      "execution_count": 25,
      "id": "841ce9c7",
      "metadata": {
        "colab": {
          "base_uri": "https://localhost:8080/",
          "height": 296
        },
        "id": "841ce9c7",
        "outputId": "99784269-73b3-47ff-8397-b916201c9ac4"
      },
      "outputs": [
        {
          "output_type": "execute_result",
          "data": {
            "text/plain": [
              "<matplotlib.axes._subplots.AxesSubplot at 0x7f4128ece650>"
            ]
          },
          "metadata": {},
          "execution_count": 25
        },
        {
          "output_type": "display_data",
          "data": {
            "text/plain": [
              "<Figure size 432x288 with 1 Axes>"
            ],
            "image/png": "[encoded data removed]"
          },
          "metadata": {
            "needs_background": "light"
          }
        }
      ],
      "source": [
        "sns.countplot(x='Transmission', data=final_dataset)"
      ]
    },
    {
      "cell_type": "code",
      "execution_count": 26,
      "id": "cce025d8",
      "metadata": {
        "colab": {
          "base_uri": "https://localhost:8080/",
          "height": 348
        },
        "id": "cce025d8",
        "outputId": "77ff4695-379b-4dc3-a9ad-43fe7fdeacf7"
      },
      "outputs": [
        {
          "output_type": "execute_result",
          "data": {
            "text/plain": [
              "<matplotlib.axes._subplots.AxesSubplot at 0x7f4128e5d110>"
            ]
          },
          "metadata": {},
          "execution_count": 26
        },
        {
          "output_type": "display_data",
          "data": {
            "text/plain": [
              "<Figure size 432x288 with 1 Axes>"
            ],
            "image/png": "[encoded data removed]"
          },
          "metadata": {
            "needs_background": "light"
          }
        }
      ],
      "source": [
        "plt.figure()\n",
        "final_dataset.groupby('Transmission')['Selling_Price'].mean().plot(kind='bar')"
      ]
    },
    {
      "cell_type": "markdown",
      "source": [
        "#Histogram"
      ],
      "metadata": {
        "id": "gBCXSOcwfkaw"
      },
      "id": "gBCXSOcwfkaw"
    },
    {
      "cell_type": "code",
      "source": [
        "sns.histplot(x='Selling_Price',data=final_dataset,bins=10,kde=True)"
      ],
      "metadata": {
        "colab": {
          "base_uri": "https://localhost:8080/",
          "height": 300
        },
        "id": "XnWaZh_IfjHg",
        "outputId": "d7ec7847-dd09-4692-c072-c9ce11d8a234"
      },
      "id": "XnWaZh_IfjHg",
      "execution_count": 27,
      "outputs": [
        {
          "output_type": "execute_result",
          "data": {
            "text/plain": [
              "<matplotlib.axes._subplots.AxesSubplot at 0x7f4128dd4fd0>"
            ]
          },
          "metadata": {},
          "execution_count": 27
        },
        {
          "output_type": "display_data",
          "data": {
            "text/plain": [
              "<Figure size 432x288 with 1 Axes>"
            ],
            "image/png": "[encoded data removed]"
          },
          "metadata": {
            "needs_background": "light"
          }
        }
      ]
    },
    {
      "cell_type": "code",
      "source": [
        "sns.histplot(x='Kms_Driven',data=final_dataset,bins=10,kde=True)"
      ],
      "metadata": {
        "colab": {
          "base_uri": "https://localhost:8080/",
          "height": 297
        },
        "id": "pJfpT1KPf2yu",
        "outputId": "10416064-40a4-4885-8da6-ccda5c4869ac"
      },
      "id": "pJfpT1KPf2yu",
      "execution_count": 28,
      "outputs": [
        {
          "output_type": "execute_result",
          "data": {
            "text/plain": [
              "<matplotlib.axes._subplots.AxesSubplot at 0x7f4128e356d0>"
            ]
          },
          "metadata": {},
          "execution_count": 28
        },
        {
          "output_type": "display_data",
          "data": {
            "text/plain": [
              "<Figure size 432x288 with 1 Axes>"
            ],
            "image/png": "[encoded data removed]"
          },
          "metadata": {
            "needs_background": "light"
          }
        }
      ]
    },
    {
      "cell_type": "code",
      "source": [
        "sns.histplot(x='No_Year',data=final_dataset,bins=10,kde=True)"
      ],
      "metadata": {
        "colab": {
          "base_uri": "https://localhost:8080/",
          "height": 297
        },
        "id": "O8UbXi6Nf3EK",
        "outputId": "31b6aa69-2902-4b4a-ecc3-e42d3550ecc7"
      },
      "id": "O8UbXi6Nf3EK",
      "execution_count": 29,
      "outputs": [
        {
          "output_type": "execute_result",
          "data": {
            "text/plain": [
              "<matplotlib.axes._subplots.AxesSubplot at 0x7f4126ce0690>"
            ]
          },
          "metadata": {},
          "execution_count": 29
        },
        {
          "output_type": "display_data",
          "data": {
            "text/plain": [
              "<Figure size 432x288 with 1 Axes>"
            ],
            "image/png": "[encoded data removed]"
          },
          "metadata": {
            "needs_background": "light"
          }
        }
      ]
    },
    {
      "cell_type": "code",
      "execution_count": 30,
      "id": "4918de19",
      "metadata": {
        "colab": {
          "base_uri": "https://localhost:8080/",
          "height": 296
        },
        "id": "4918de19",
        "outputId": "5db94b44-e555-4213-c819-c405ee69f192"
      },
      "outputs": [
        {
          "output_type": "execute_result",
          "data": {
            "text/plain": [
              "<matplotlib.axes._subplots.AxesSubplot at 0x7f4126ce0250>"
            ]
          },
          "metadata": {},
          "execution_count": 30
        },
        {
          "output_type": "display_data",
          "data": {
            "text/plain": [
              "<Figure size 648x288 with 1 Axes>"
            ],
            "image/png": "[encoded data removed]"
          },
          "metadata": {
            "needs_background": "light"
          }
        }
      ],
      "source": [
        "plt.figure(figsize=(9,4))\n",
        "sns.countplot(x='Owner', data=final_dataset)"
      ]
    },
    {
      "cell_type": "code",
      "execution_count": 31,
      "id": "dc5a42da",
      "metadata": {
        "colab": {
          "base_uri": "https://localhost:8080/",
          "height": 410
        },
        "id": "dc5a42da",
        "outputId": "be9f70ff-e3a2-42a5-acbd-88c3b4a87c4c"
      },
      "outputs": [
        {
          "output_type": "execute_result",
          "data": {
            "text/plain": [
              "<matplotlib.axes._subplots.AxesSubplot at 0x7f4126b94cd0>"
            ]
          },
          "metadata": {},
          "execution_count": 31
        },
        {
          "output_type": "display_data",
          "data": {
            "text/plain": [
              "<Figure size 648x288 with 1 Axes>"
            ],
            "image/png": "[encoded data removed]"
          },
          "metadata": {
            "needs_background": "light"
          }
        }
      ],
      "source": [
        "import matplotlib.pyplot as plt\n",
        "%matplotlib inline\n",
        "plt.figure(figsize=(9,4))\n",
        "final_dataset.groupby('Owner')['Selling_Price'].mean().plot(kind='bar')"
      ]
    },
    {
      "cell_type": "code",
      "execution_count": 32,
      "id": "1d6fe737",
      "metadata": {
        "colab": {
          "base_uri": "https://localhost:8080/",
          "height": 297
        },
        "id": "1d6fe737",
        "outputId": "1743a54b-d96d-4660-89a9-c73ea953cb8d"
      },
      "outputs": [
        {
          "output_type": "execute_result",
          "data": {
            "text/plain": [
              "<matplotlib.axes._subplots.AxesSubplot at 0x7f4126b6f7d0>"
            ]
          },
          "metadata": {},
          "execution_count": 32
        },
        {
          "output_type": "display_data",
          "data": {
            "text/plain": [
              "<Figure size 432x288 with 1 Axes>"
            ],
            "image/png": "[encoded data removed]"
          },
          "metadata": {
            "needs_background": "light"
          }
        }
      ],
      "source": [
        "sns.countplot(x='Seller_Type', data=final_dataset)"
      ]
    },
    {
      "cell_type": "code",
      "execution_count": 33,
      "id": "970f9c53",
      "metadata": {
        "colab": {
          "base_uri": "https://localhost:8080/",
          "height": 297
        },
        "id": "970f9c53",
        "outputId": "8cf61480-e706-4169-a29f-cd67de51d26f"
      },
      "outputs": [
        {
          "output_type": "execute_result",
          "data": {
            "text/plain": [
              "<matplotlib.axes._subplots.AxesSubplot at 0x7f4126af6510>"
            ]
          },
          "metadata": {},
          "execution_count": 33
        },
        {
          "output_type": "display_data",
          "data": {
            "text/plain": [
              "<Figure size 936x288 with 1 Axes>"
            ],
            "image/png": "[encoded data removed]"
          },
          "metadata": {
            "needs_background": "light"
          }
        }
      ],
      "source": [
        "plt.figure(figsize=(13,4))\n",
        "sns.countplot(x='No_Year', data=final_dataset)"
      ]
    },
    {
      "cell_type": "code",
      "execution_count": 34,
      "id": "cb11c10b",
      "metadata": {
        "colab": {
          "base_uri": "https://localhost:8080/",
          "height": 311
        },
        "id": "cb11c10b",
        "outputId": "f56b7c55-f48e-4747-905a-2b7b269e0889"
      },
      "outputs": [
        {
          "output_type": "execute_result",
          "data": {
            "text/plain": [
              "<matplotlib.axes._subplots.AxesSubplot at 0x7f4126a40250>"
            ]
          },
          "metadata": {},
          "execution_count": 34
        },
        {
          "output_type": "display_data",
          "data": {
            "text/plain": [
              "<Figure size 936x288 with 1 Axes>"
            ],
            "image/png": "[encoded data removed]"
          },
          "metadata": {
            "needs_background": "light"
          }
        }
      ],
      "source": [
        "plt.figure(figsize=(13,4))\n",
        "final_dataset.groupby('No_Year')['Selling_Price'].mean().plot(kind='bar')"
      ]
    },
    {
      "cell_type": "markdown",
      "id": "e6e19b9b",
      "metadata": {
        "id": "e6e19b9b"
      },
      "source": [
        "# Outlier Treatment"
      ]
    },
    {
      "cell_type": "code",
      "execution_count": 35,
      "id": "e5b39f73",
      "metadata": {
        "id": "e5b39f73"
      },
      "outputs": [],
      "source": [
        "car1=final_dataset.copy()"
      ]
    },
    {
      "cell_type": "code",
      "execution_count": 36,
      "id": "9edaf388",
      "metadata": {
        "id": "9edaf388"
      },
      "outputs": [],
      "source": [
        "outliers = []\n",
        "upper_lim = 0\n",
        "lower_lim = 0\n",
        "def outlier_detection(x):\n",
        "    global outliers\n",
        "    x_dict = dict(final_dataset[x].describe())\n",
        "    print(x_dict)\n",
        "    Q1 = x_dict['25%']\n",
        "    print(\"Q1 :\", Q1)\n",
        "    Q3 = x_dict['75%']\n",
        "    print(\"Q3 :\", Q3)\n",
        "    IQR = Q3 - Q1\n",
        "    print(\"Inter quartile range is \", IQR)\n",
        "    global lower_lim\n",
        "    global upper_lim\n",
        "    lower_lim = Q1 - 1.5 * IQR\n",
        "    upper_lim = Q3 + 1.5 * IQR\n",
        "    return (lower_lim,upper_lim)"
      ]
    },
    {
      "cell_type": "code",
      "execution_count": 37,
      "id": "c8dbb3d5",
      "metadata": {
        "colab": {
          "base_uri": "https://localhost:8080/"
        },
        "id": "c8dbb3d5",
        "outputId": "feb174d0-e0c7-4354-e5ad-63594a76c9c5"
      },
      "outputs": [
        {
          "output_type": "stream",
          "name": "stdout",
          "text": [
            "{'count': 4340.0, 'mean': 66195.0400921659, 'std': 46649.08484645749, 'min': 1.0, '25%': 35000.0, '50%': 60000.0, '75%': 90000.0, 'max': 806599.0}\n",
            "Q1 : 35000.0\n",
            "Q3 : 90000.0\n",
            "Inter quartile range is  55000.0\n"
          ]
        },
        {
          "output_type": "execute_result",
          "data": {
            "text/plain": [
              "(-47500.0, 172500.0)"
            ]
          },
          "metadata": {},
          "execution_count": 37
        }
      ],
      "source": [
        "outlier_detection('Kms_Driven')"
      ]
    },
    {
      "cell_type": "code",
      "execution_count": 38,
      "id": "972a2031",
      "metadata": {
        "id": "972a2031"
      },
      "outputs": [],
      "source": [
        "car1.loc[((car1['Kms_Driven']>= 172500) & (car1['Kms_Driven']<=806599.0)), 'Kms_Driven' ]=round(upper_lim)"
      ]
    },
    {
      "cell_type": "code",
      "execution_count": 39,
      "id": "95e56ba3",
      "metadata": {
        "id": "95e56ba3",
        "colab": {
          "base_uri": "https://localhost:8080/",
          "height": 406
        },
        "outputId": "b92778fe-03e1-4013-824a-5da4d54584f7"
      },
      "outputs": [
        {
          "output_type": "execute_result",
          "data": {
            "text/plain": [
              "Text(0.5, 0, 'Histogram of Kms_Driven before outlier treatment')"
            ]
          },
          "metadata": {},
          "execution_count": 39
        },
        {
          "output_type": "display_data",
          "data": {
            "text/plain": [
              "<Figure size 1080x432 with 4 Axes>"
            ],
            "image/png": "[encoded data removed]"
          },
          "metadata": {
            "needs_background": "light"
          }
        }
      ],
      "source": [
        "fig,axes = plt.subplots(nrows=2, ncols=2, figsize=(15,6))\n",
        "sns.boxplot(x='Kms_Driven',data=car1,ax=axes[0,0])\n",
        "axes[0,0].set_xlabel('Boxplot of Kms_Driven after outlier treatment')\n",
        "sns.boxplot(x='Kms_Driven',data=final_dataset,ax=axes[0,1])\n",
        "axes[0,1].set_xlabel('Boxplot of Kms_Driven before outlier treatment')\n",
        "sns.histplot(x='Kms_Driven',data=car1,kde=True,ax=axes[1,0])\n",
        "axes[1,0].set_xlabel('Histogram of Kms_Driven after outlier treatment')\n",
        "sns.histplot(x='Kms_Driven',data=final_dataset,kde=True,ax=axes[1,1])\n",
        "axes[1,1].set_xlabel('Histogram of Kms_Driven before outlier treatment')"
      ]
    },
    {
      "cell_type": "code",
      "execution_count": 40,
      "id": "7ad2c3a2",
      "metadata": {
        "id": "7ad2c3a2",
        "colab": {
          "base_uri": "https://localhost:8080/"
        },
        "outputId": "67d833c0-fb6b-4b57-be1f-8ec51af1d65e"
      },
      "outputs": [
        {
          "output_type": "stream",
          "name": "stdout",
          "text": [
            "{'count': 4340.0, 'mean': 8.903225806451612, 'std': 4.215757347289572, 'min': 0.0, '25%': 6.0, '50%': 8.0, '75%': 11.0, 'max': 30.0}\n",
            "Q1 : 6.0\n",
            "Q3 : 11.0\n",
            "Inter quartile range is  5.0\n"
          ]
        },
        {
          "output_type": "execute_result",
          "data": {
            "text/plain": [
              "(-1.5, 18.5)"
            ]
          },
          "metadata": {},
          "execution_count": 40
        }
      ],
      "source": [
        "outliers.clear()\n",
        "outlier_detection('No_Year')"
      ]
    },
    {
      "cell_type": "code",
      "execution_count": 41,
      "id": "855b159d",
      "metadata": {
        "id": "855b159d"
      },
      "outputs": [],
      "source": [
        "car1.loc[((car1['No_Year']>= 18) & (car1['No_Year']<=30.0)), 'No_Year' ]=round(upper_lim)"
      ]
    },
    {
      "cell_type": "code",
      "execution_count": 42,
      "id": "1cf22a0b",
      "metadata": {
        "id": "1cf22a0b",
        "colab": {
          "base_uri": "https://localhost:8080/",
          "height": 406
        },
        "outputId": "714f2cf9-c154-4379-9ae1-9c6f5e65fcea"
      },
      "outputs": [
        {
          "output_type": "execute_result",
          "data": {
            "text/plain": [
              "Text(0.5, 0, 'Histogram of No_Year before outlier treatment')"
            ]
          },
          "metadata": {},
          "execution_count": 42
        },
        {
          "output_type": "display_data",
          "data": {
            "text/plain": [
              "<Figure size 1080x432 with 4 Axes>"
            ],
            "image/png": "[encoded data removed]"
          },
          "metadata": {
            "needs_background": "light"
          }
        }
      ],
      "source": [
        "fig,axes = plt.subplots(nrows=2, ncols=2, figsize=(15,6))\n",
        "sns.boxplot(x='No_Year',data=car1,ax=axes[0,0])\n",
        "axes[0,0].set_xlabel('Boxplot of No_Year after outlier treatment')\n",
        "sns.boxplot(x='No_Year',data=final_dataset,ax=axes[0,1])\n",
        "axes[0,1].set_xlabel('Boxplot of No_Year before outlier treatment')\n",
        "sns.histplot(x='No_Year',data=car1,kde=True,ax=axes[1,0])\n",
        "axes[1,0].set_xlabel('Histogram of  No_Year after outlier treatment')\n",
        "sns.histplot(x='No_Year',data=final_dataset,kde=True,ax=axes[1,1])\n",
        "axes[1,1].set_xlabel('Histogram of No_Year before outlier treatment')"
      ]
    },
    {
      "cell_type": "code",
      "execution_count": 43,
      "id": "67a45b88",
      "metadata": {
        "id": "67a45b88",
        "colab": {
          "base_uri": "https://localhost:8080/",
          "height": 206
        },
        "outputId": "0c8f0814-54e9-4892-beb7-7ce903627bed"
      },
      "outputs": [
        {
          "output_type": "execute_result",
          "data": {
            "text/plain": [
              "   Selling_Price  Kms_Driven Fuel_Type Seller_Type Transmission         Owner  \\\n",
              "0          60000       70000    Petrol  Individual       Manual   First Owner   \n",
              "1         135000       50000    Petrol  Individual       Manual   First Owner   \n",
              "2         600000      100000    Diesel  Individual       Manual   First Owner   \n",
              "3         250000       46000    Petrol  Individual       Manual   First Owner   \n",
              "4         450000      141000    Diesel  Individual       Manual  Second Owner   \n",
              "\n",
              "   No_Year  \n",
              "0       15  \n",
              "1       15  \n",
              "2       10  \n",
              "3        5  \n",
              "4        8  "
            ],
            "text/html": [
              "\n",
              "  <div id=\"df-8c347579-9a91-48df-b467-fd8731387c27\">\n",
              "    <div class=\"colab-df-container\">\n",
              "      <div>\n",
              "<style scoped>\n",
              "    .dataframe tbody tr th:only-of-type {\n",
              "        vertical-align: middle;\n",
              "    }\n",
              "\n",
              "    .dataframe tbody tr th {\n",
              "        vertical-align: top;\n",
              "    }\n",
              "\n",
              "    .dataframe thead th {\n",
              "        text-align: right;\n",
              "    }\n",
              "</style>\n",
              "<table border=\"1\" class=\"dataframe\">\n",
              "  <thead>\n",
              "    <tr style=\"text-align: right;\">\n",
              "      <th></th>\n",
              "      <th>Selling_Price</th>\n",
              "      <th>Kms_Driven</th>\n",
              "      <th>Fuel_Type</th>\n",
              "      <th>Seller_Type</th>\n",
              "      <th>Transmission</th>\n",
              "      <th>Owner</th>\n",
              "      <th>No_Year</th>\n",
              "    </tr>\n",
              "  </thead>\n",
              "  <tbody>\n",
              "    <tr>\n",
              "      <th>0</th>\n",
              "      <td>60000</td>\n",
              "      <td>70000</td>\n",
              "      <td>Petrol</td>\n",
              "      <td>Individual</td>\n",
              "      <td>Manual</td>\n",
              "      <td>First Owner</td>\n",
              "      <td>15</td>\n",
              "    </tr>\n",
              "    <tr>\n",
              "      <th>1</th>\n",
              "      <td>135000</td>\n",
              "      <td>50000</td>\n",
              "      <td>Petrol</td>\n",
              "      <td>Individual</td>\n",
              "      <td>Manual</td>\n",
              "      <td>First Owner</td>\n",
              "      <td>15</td>\n",
              "    </tr>\n",
              "    <tr>\n",
              "      <th>2</th>\n",
              "      <td>600000</td>\n",
              "      <td>100000</td>\n",
              "      <td>Diesel</td>\n",
              "      <td>Individual</td>\n",
              "      <td>Manual</td>\n",
              "      <td>First Owner</td>\n",
              "      <td>10</td>\n",
              "    </tr>\n",
              "    <tr>\n",
              "      <th>3</th>\n",
              "      <td>250000</td>\n",
              "      <td>46000</td>\n",
              "      <td>Petrol</td>\n",
              "      <td>Individual</td>\n",
              "      <td>Manual</td>\n",
              "      <td>First Owner</td>\n",
              "      <td>5</td>\n",
              "    </tr>\n",
              "    <tr>\n",
              "      <th>4</th>\n",
              "      <td>450000</td>\n",
              "      <td>141000</td>\n",
              "      <td>Diesel</td>\n",
              "      <td>Individual</td>\n",
              "      <td>Manual</td>\n",
              "      <td>Second Owner</td>\n",
              "      <td>8</td>\n",
              "    </tr>\n",
              "  </tbody>\n",
              "</table>\n",
              "</div>\n",
              "      <button class=\"colab-df-convert\" onclick=\"convertToInteractive('df-8c347579-9a91-48df-b467-fd8731387c27')\"\n",
              "              title=\"Convert this dataframe to an interactive table.\"\n",
              "              style=\"display:none;\">\n",
              "        \n",
              "  <svg xmlns=\"http://www.w3.org/2000/svg\" height=\"24px\"viewBox=\"0 0 24 24\"\n",
              "       width=\"24px\">\n",
              "    <path d=\"M0 0h24v24H0V0z\" fill=\"none\"/>\n",
              "    <path d=\"M18.56 5.44l.94 2.06.94-2.06 2.06-.94-2.06-.94-.94-2.06-.94 2.06-2.06.94zm-11 1L8.5 8.5l.94-2.06 2.06-.94-2.06-.94L8.5 2.5l-.94 2.06-2.06.94zm10 10l.94 2.06.94-2.06 2.06-.94-2.06-.94-.94-2.06-.94 2.06-2.06.94z\"/><path d=\"M17.41 7.96l-1.37-1.37c-.4-.4-.92-.59-1.43-.59-.52 0-1.04.2-1.43.59L10.3 9.45l-7.72 7.72c-.78.78-.78 2.05 0 2.83L4 21.41c.39.39.9.59 1.41.59.51 0 1.02-.2 1.41-.59l7.78-7.78 2.81-2.81c.8-.78.8-2.07 0-2.86zM5.41 20L4 18.59l7.72-7.72 1.47 1.35L5.41 20z\"/>\n",
              "  </svg>\n",
              "      </button>\n",
              "      \n",
              "  <style>\n",
              "    .colab-df-container {\n",
              "      display:flex;\n",
              "      flex-wrap:wrap;\n",
              "      gap: 12px;\n",
              "    }\n",
              "\n",
              "    .colab-df-convert {\n",
              "      background-color: #E8F0FE;\n",
              "      border: none;\n",
              "      border-radius: 50%;\n",
              "      cursor: pointer;\n",
              "      display: none;\n",
              "      fill: #1967D2;\n",
              "      height: 32px;\n",
              "      padding: 0 0 0 0;\n",
              "      width: 32px;\n",
              "    }\n",
              "\n",
              "    .colab-df-convert:hover {\n",
              "      background-color: #E2EBFA;\n",
              "      box-shadow: 0px 1px 2px rgba(60, 64, 67, 0.3), 0px 1px 3px 1px rgba(60, 64, 67, 0.15);\n",
              "      fill: #174EA6;\n",
              "    }\n",
              "\n",
              "    [theme=dark] .colab-df-convert {\n",
              "      background-color: #3B4455;\n",
              "      fill: #D2E3FC;\n",
              "    }\n",
              "\n",
              "    [theme=dark] .colab-df-convert:hover {\n",
              "      background-color: #434B5C;\n",
              "      box-shadow: 0px 1px 3px 1px rgba(0, 0, 0, 0.15);\n",
              "      filter: drop-shadow(0px 1px 2px rgba(0, 0, 0, 0.3));\n",
              "      fill: #FFFFFF;\n",
              "    }\n",
              "  </style>\n",
              "\n",
              "      <script>\n",
              "        const buttonEl =\n",
              "          document.querySelector('#df-8c347579-9a91-48df-b467-fd8731387c27 button.colab-df-convert');\n",
              "        buttonEl.style.display =\n",
              "          google.colab.kernel.accessAllowed ? 'block' : 'none';\n",
              "\n",
              "        async function convertToInteractive(key) {\n",
              "          const element = document.querySelector('#df-8c347579-9a91-48df-b467-fd8731387c27');\n",
              "          const dataTable =\n",
              "            await google.colab.kernel.invokeFunction('convertToInteractive',\n",
              "                                                     [key], {});\n",
              "          if (!dataTable) return;\n",
              "\n",
              "          const docLinkHtml = 'Like what you see? Visit the ' +\n",
              "            '<a target=\"_blank\" href=https://colab.research.google.com/notebooks/data_table.ipynb>data table notebook</a>'\n",
              "            + ' to learn more about interactive tables.';\n",
              "          element.innerHTML = '';\n",
              "          dataTable['output_type'] = 'display_data';\n",
              "          await google.colab.output.renderOutput(dataTable, element);\n",
              "          const docLink = document.createElement('div');\n",
              "          docLink.innerHTML = docLinkHtml;\n",
              "          element.appendChild(docLink);\n",
              "        }\n",
              "      </script>\n",
              "    </div>\n",
              "  </div>\n",
              "  "
            ]
          },
          "metadata": {},
          "execution_count": 43
        }
      ],
      "source": [
        "car1.head()"
      ]
    },
    {
      "cell_type": "markdown",
      "id": "7dfdb28a",
      "metadata": {
        "id": "7dfdb28a"
      },
      "source": [
        "# Separating Predictor and Target attribute"
      ]
    },
    {
      "cell_type": "code",
      "execution_count": 44,
      "id": "1cc8c475",
      "metadata": {
        "id": "1cc8c475"
      },
      "outputs": [],
      "source": [
        "#independent and dependent features\n",
        "X = car1.drop('Selling_Price', axis = 1)\n",
        "y = car1['Selling_Price']"
      ]
    },
    {
      "cell_type": "code",
      "execution_count": 45,
      "id": "181855c2",
      "metadata": {
        "id": "181855c2",
        "colab": {
          "base_uri": "https://localhost:8080/"
        },
        "outputId": "2e348f92-8988-48bd-a461-9a521a359b59"
      },
      "outputs": [
        {
          "output_type": "execute_result",
          "data": {
            "text/plain": [
              "(4340, 6)"
            ]
          },
          "metadata": {},
          "execution_count": 45
        }
      ],
      "source": [
        "X.shape"
      ]
    },
    {
      "cell_type": "code",
      "execution_count": 46,
      "id": "ed4f19fd",
      "metadata": {
        "id": "ed4f19fd",
        "colab": {
          "base_uri": "https://localhost:8080/"
        },
        "outputId": "a7f90ce7-2261-41a5-b222-0e67d42be524"
      },
      "outputs": [
        {
          "output_type": "execute_result",
          "data": {
            "text/plain": [
              "(4340,)"
            ]
          },
          "metadata": {},
          "execution_count": 46
        }
      ],
      "source": [
        "y.shape"
      ]
    },
    {
      "cell_type": "markdown",
      "source": [
        "#Separating Categorical and Numeric Variables"
      ],
      "metadata": {
        "id": "F8ZSqU8vEqT7"
      },
      "id": "F8ZSqU8vEqT7"
    },
    {
      "cell_type": "code",
      "source": [
        "X_num = X.drop(['Fuel_Type','Seller_Type','Transmission','Owner'],axis = 1)\n",
        "X_cat = X[['Fuel_Type','Seller_Type','Transmission','Owner']]"
      ],
      "metadata": {
        "id": "qZA_fz9rEqwT"
      },
      "id": "qZA_fz9rEqwT",
      "execution_count": 47,
      "outputs": []
    },
    {
      "cell_type": "code",
      "source": [
        "X_num.shape"
      ],
      "metadata": {
        "colab": {
          "base_uri": "https://localhost:8080/"
        },
        "id": "R-6UHnjeEqz3",
        "outputId": "5eb58ba7-1fef-41d0-d090-7a578f7b2bc6"
      },
      "id": "R-6UHnjeEqz3",
      "execution_count": 48,
      "outputs": [
        {
          "output_type": "execute_result",
          "data": {
            "text/plain": [
              "(4340, 2)"
            ]
          },
          "metadata": {},
          "execution_count": 48
        }
      ]
    },
    {
      "cell_type": "code",
      "source": [
        "X_cat.shape"
      ],
      "metadata": {
        "colab": {
          "base_uri": "https://localhost:8080/"
        },
        "id": "gp88W7K6Eq3Z",
        "outputId": "7a7b04a3-2a23-45df-c761-ba2e975f8bd6"
      },
      "id": "gp88W7K6Eq3Z",
      "execution_count": 49,
      "outputs": [
        {
          "output_type": "execute_result",
          "data": {
            "text/plain": [
              "(4340, 4)"
            ]
          },
          "metadata": {},
          "execution_count": 49
        }
      ]
    },
    {
      "cell_type": "markdown",
      "source": [
        "#Preprocessing on Numerical Data"
      ],
      "metadata": {
        "id": "riWZaehnFUlp"
      },
      "id": "riWZaehnFUlp"
    },
    {
      "cell_type": "code",
      "source": [
        "from sklearn.preprocessing import StandardScaler\n",
        "scaler = StandardScaler()"
      ],
      "metadata": {
        "id": "kgtbNEMdEq7k"
      },
      "id": "kgtbNEMdEq7k",
      "execution_count": 50,
      "outputs": []
    },
    {
      "cell_type": "code",
      "source": [
        "X_num_scaled = scaler.fit_transform(X_num)"
      ],
      "metadata": {
        "id": "ITutrYm7Eq_W"
      },
      "id": "ITutrYm7Eq_W",
      "execution_count": 51,
      "outputs": []
    },
    {
      "cell_type": "code",
      "source": [
        "X_num_scaled_df = pd.DataFrame(X_num_scaled, columns=X_num.columns)"
      ],
      "metadata": {
        "id": "L7Z8hJz2ErCv"
      },
      "id": "L7Z8hJz2ErCv",
      "execution_count": 52,
      "outputs": []
    },
    {
      "cell_type": "markdown",
      "source": [
        "#Preprocessing on Categorical Data"
      ],
      "metadata": {
        "id": "7L12bdZvF84K"
      },
      "id": "7L12bdZvF84K"
    },
    {
      "cell_type": "code",
      "source": [
        "#dummy encoding on X set\n",
        "X_cat_dummy=pd.get_dummies(X_cat,drop_first=True)"
      ],
      "metadata": {
        "id": "yDdj6NPQErHT"
      },
      "id": "yDdj6NPQErHT",
      "execution_count": 53,
      "outputs": []
    },
    {
      "cell_type": "code",
      "source": [
        "X_final = pd.concat([X_num_scaled_df, X_cat_dummy],axis=1,sort=False)"
      ],
      "metadata": {
        "id": "R2XUxlEMErMO"
      },
      "id": "R2XUxlEMErMO",
      "execution_count": 54,
      "outputs": []
    },
    {
      "cell_type": "code",
      "source": [
        "X_final.shape"
      ],
      "metadata": {
        "colab": {
          "base_uri": "https://localhost:8080/"
        },
        "id": "5MqqTEZiErQL",
        "outputId": "6bdc2d5e-923b-4125-8e48-fdad1411745a"
      },
      "id": "5MqqTEZiErQL",
      "execution_count": 55,
      "outputs": [
        {
          "output_type": "execute_result",
          "data": {
            "text/plain": [
              "(4340, 13)"
            ]
          },
          "metadata": {},
          "execution_count": 55
        }
      ]
    },
    {
      "cell_type": "code",
      "source": [
        "y.shape"
      ],
      "metadata": {
        "colab": {
          "base_uri": "https://localhost:8080/"
        },
        "id": "vj7djL5BErTy",
        "outputId": "410b3804-16f1-4ba9-947b-0cf698903143"
      },
      "id": "vj7djL5BErTy",
      "execution_count": 56,
      "outputs": [
        {
          "output_type": "execute_result",
          "data": {
            "text/plain": [
              "(4340,)"
            ]
          },
          "metadata": {},
          "execution_count": 56
        }
      ]
    },
    {
      "cell_type": "markdown",
      "source": [
        "#Train-test Split"
      ],
      "metadata": {
        "id": "woYSu3OQGVqo"
      },
      "id": "woYSu3OQGVqo"
    },
    {
      "cell_type": "code",
      "source": [
        "from sklearn.model_selection import train_test_split"
      ],
      "metadata": {
        "id": "rgntKk_ZErWV"
      },
      "id": "rgntKk_ZErWV",
      "execution_count": 57,
      "outputs": []
    },
    {
      "cell_type": "code",
      "source": [
        "X_train, X_test, y_train, y_test = train_test_split(X_final,y, test_size = 0.20,random_state=0)"
      ],
      "metadata": {
        "id": "GI9jNP4BErYv"
      },
      "id": "GI9jNP4BErYv",
      "execution_count": 58,
      "outputs": []
    },
    {
      "cell_type": "code",
      "source": [
        "X_train.shape, X_test.shape, y_train.shape, y_test.shape"
      ],
      "metadata": {
        "colab": {
          "base_uri": "https://localhost:8080/"
        },
        "id": "rNOni2NCGkAx",
        "outputId": "587221e4-b912-42e8-c4ab-229bb86677d9"
      },
      "id": "rNOni2NCGkAx",
      "execution_count": 59,
      "outputs": [
        {
          "output_type": "execute_result",
          "data": {
            "text/plain": [
              "((3472, 13), (868, 13), (3472,), (868,))"
            ]
          },
          "metadata": {},
          "execution_count": 59
        }
      ]
    },
    {
      "cell_type": "markdown",
      "id": "5b952c24",
      "metadata": {
        "id": "5b952c24"
      },
      "source": [
        "# Model-OLS"
      ]
    },
    {
      "cell_type": "code",
      "execution_count": 60,
      "id": "700616db",
      "metadata": {
        "id": "700616db"
      },
      "outputs": [],
      "source": [
        "import warnings\n",
        "warnings.filterwarnings(\"ignore\")\n",
        "import statsmodels.api as sm"
      ]
    },
    {
      "cell_type": "code",
      "execution_count": 61,
      "id": "a20c263a",
      "metadata": {
        "id": "a20c263a"
      },
      "outputs": [],
      "source": [
        "X_train_const = sm.add_constant(X_train)"
      ]
    },
    {
      "cell_type": "code",
      "execution_count": 62,
      "id": "f66d8aa5",
      "metadata": {
        "id": "f66d8aa5"
      },
      "outputs": [],
      "source": [
        "ols_model = sm.OLS( y_train, X_train_const)"
      ]
    },
    {
      "cell_type": "code",
      "execution_count": 63,
      "id": "94faf96d",
      "metadata": {
        "id": "94faf96d"
      },
      "outputs": [],
      "source": [
        "results = ols_model.fit()"
      ]
    },
    {
      "cell_type": "code",
      "execution_count": 64,
      "id": "06c88211",
      "metadata": {
        "id": "06c88211",
        "colab": {
          "base_uri": "https://localhost:8080/"
        },
        "outputId": "4e262e86-42ca-47ae-d8ed-61501fb3d653"
      },
      "outputs": [
        {
          "output_type": "stream",
          "name": "stdout",
          "text": [
            "                            OLS Regression Results                            \n",
            "==============================================================================\n",
            "Dep. Variable:          Selling_Price   R-squared:                       0.451\n",
            "Model:                            OLS   Adj. R-squared:                  0.449\n",
            "Method:                 Least Squares   F-statistic:                     218.5\n",
            "Date:                Sun, 26 Jun 2022   Prob (F-statistic):               0.00\n",
            "Time:                        22:55:01   Log-Likelihood:                -49903.\n",
            "No. Observations:                3472   AIC:                         9.983e+04\n",
            "Df Residuals:                    3458   BIC:                         9.992e+04\n",
            "Df Model:                          13                                         \n",
            "Covariance Type:            nonrobust                                         \n",
            "================================================================================================\n",
            "                                   coef    std err          t      P>|t|      [0.025      0.975]\n",
            "------------------------------------------------------------------------------------------------\n",
            "const                         1.169e+06   8.06e+04     14.495      0.000    1.01e+06    1.33e+06\n",
            "Kms_Driven                   -4.591e+04   9265.504     -4.954      0.000   -6.41e+04   -2.77e+04\n",
            "No_Year                      -1.488e+05   9315.444    -15.971      0.000   -1.67e+05   -1.31e+05\n",
            "Fuel_Type_Diesel              2.892e+05   7.69e+04      3.760      0.000    1.38e+05     4.4e+05\n",
            "Fuel_Type_Electric             2.11e+04   2.25e+05      0.094      0.925    -4.2e+05    4.63e+05\n",
            "Fuel_Type_LPG                 6.007e+04    1.2e+05      0.501      0.616   -1.75e+05    2.95e+05\n",
            "Fuel_Type_Petrol             -6406.1020    7.7e+04     -0.083      0.934   -1.57e+05    1.44e+05\n",
            "Seller_Type_Individual       -6.571e+04   1.84e+04     -3.562      0.000   -1.02e+05   -2.95e+04\n",
            "Seller_Type_Trustmark Dealer  1.577e+05   4.91e+04      3.215      0.001    6.16e+04    2.54e+05\n",
            "Transmission_Manual          -8.389e+05   2.45e+04    -34.217      0.000   -8.87e+05   -7.91e+05\n",
            "Owner_Fourth & Above Owner   -1.194e+04   5.55e+04     -0.215      0.830   -1.21e+05    9.68e+04\n",
            "Owner_Second Owner           -3.366e+04   1.85e+04     -1.820      0.069   -6.99e+04    2609.128\n",
            "Owner_Test Drive Car          1.622e+05   1.24e+05      1.308      0.191   -8.09e+04    4.05e+05\n",
            "Owner_Third Owner             -4.12e+04   3.09e+04     -1.335      0.182   -1.02e+05    1.93e+04\n",
            "==============================================================================\n",
            "Omnibus:                     3797.523   Durbin-Watson:                   1.925\n",
            "Prob(Omnibus):                  0.000   Jarque-Bera (JB):           584442.248\n",
            "Skew:                           5.263   Prob(JB):                         0.00\n",
            "Kurtosis:                      65.683   Cond. No.                         56.9\n",
            "==============================================================================\n",
            "\n",
            "Warnings:\n",
            "[1] Standard Errors assume that the covariance matrix of the errors is correctly specified.\n"
          ]
        }
      ],
      "source": [
        "print(results.summary())"
      ]
    },
    {
      "cell_type": "code",
      "execution_count": 65,
      "id": "7582672f",
      "metadata": {
        "id": "7582672f",
        "colab": {
          "base_uri": "https://localhost:8080/"
        },
        "outputId": "d7e4145b-dbcb-4a9a-9220-22a3d61a9ef1"
      },
      "outputs": [
        {
          "output_type": "execute_result",
          "data": {
            "text/plain": [
              "Index(['const', 'Kms_Driven', 'No_Year', 'Fuel_Type_Diesel',\n",
              "       'Fuel_Type_Electric', 'Fuel_Type_LPG', 'Fuel_Type_Petrol',\n",
              "       'Seller_Type_Individual', 'Seller_Type_Trustmark Dealer',\n",
              "       'Transmission_Manual', 'Owner_Fourth & Above Owner',\n",
              "       'Owner_Second Owner', 'Owner_Test Drive Car', 'Owner_Third Owner'],\n",
              "      dtype='object')"
            ]
          },
          "metadata": {},
          "execution_count": 65
        }
      ],
      "source": [
        "X_train_const.columns"
      ]
    },
    {
      "cell_type": "code",
      "execution_count": 66,
      "id": "747a5ee7",
      "metadata": {
        "id": "747a5ee7"
      },
      "outputs": [],
      "source": [
        "X_train_const = X_train_const.drop(['Fuel_Type_Electric', 'Fuel_Type_LPG', 'Fuel_Type_Petrol','Owner_Fourth & Above Owner',\n",
        "       'Owner_Second Owner', 'Owner_Test Drive Car', 'Owner_Third Owner'], axis=1)"
      ]
    },
    {
      "cell_type": "code",
      "execution_count": 67,
      "id": "d8ccc753",
      "metadata": {
        "id": "d8ccc753"
      },
      "outputs": [],
      "source": [
        "ols_model1 = sm.OLS(y_train, X_train_const).fit()"
      ]
    },
    {
      "cell_type": "code",
      "execution_count": 68,
      "id": "44bdd1c1",
      "metadata": {
        "id": "44bdd1c1",
        "colab": {
          "base_uri": "https://localhost:8080/"
        },
        "outputId": "b3ff53f4-2e85-4086-ee57-4c36a00f401f"
      },
      "outputs": [
        {
          "output_type": "stream",
          "name": "stdout",
          "text": [
            "                            OLS Regression Results                            \n",
            "==============================================================================\n",
            "Dep. Variable:          Selling_Price   R-squared:                       0.450\n",
            "Model:                            OLS   Adj. R-squared:                  0.449\n",
            "Method:                 Least Squares   F-statistic:                     472.6\n",
            "Date:                Sun, 26 Jun 2022   Prob (F-statistic):               0.00\n",
            "Time:                        22:55:01   Log-Likelihood:                -49906.\n",
            "No. Observations:                3472   AIC:                         9.983e+04\n",
            "Df Residuals:                    3465   BIC:                         9.987e+04\n",
            "Df Model:                           6                                         \n",
            "Covariance Type:            nonrobust                                         \n",
            "================================================================================================\n",
            "                                   coef    std err          t      P>|t|      [0.025      0.975]\n",
            "------------------------------------------------------------------------------------------------\n",
            "const                         1.156e+06   2.66e+04     43.468      0.000     1.1e+06    1.21e+06\n",
            "Kms_Driven                   -4.801e+04   9162.975     -5.240      0.000    -6.6e+04      -3e+04\n",
            "No_Year                      -1.555e+05   8664.709    -17.941      0.000   -1.72e+05   -1.38e+05\n",
            "Fuel_Type_Diesel               2.94e+05   1.61e+04     18.309      0.000    2.62e+05    3.25e+05\n",
            "Seller_Type_Individual       -7.434e+04    1.8e+04     -4.123      0.000    -1.1e+05    -3.9e+04\n",
            "Seller_Type_Trustmark Dealer  1.552e+05    4.9e+04      3.169      0.002    5.92e+04    2.51e+05\n",
            "Transmission_Manual          -8.361e+05   2.45e+04    -34.191      0.000   -8.84e+05   -7.88e+05\n",
            "==============================================================================\n",
            "Omnibus:                     3789.664   Durbin-Watson:                   1.926\n",
            "Prob(Omnibus):                  0.000   Jarque-Bera (JB):           579036.335\n",
            "Skew:                           5.246   Prob(JB):                         0.00\n",
            "Kurtosis:                      65.390   Cond. No.                         11.4\n",
            "==============================================================================\n",
            "\n",
            "Warnings:\n",
            "[1] Standard Errors assume that the covariance matrix of the errors is correctly specified.\n"
          ]
        }
      ],
      "source": [
        "print(ols_model1.summary())"
      ]
    },
    {
      "cell_type": "markdown",
      "id": "9cc3912b",
      "metadata": {
        "id": "9cc3912b"
      },
      "source": [
        "# Predictive Analysis"
      ]
    },
    {
      "cell_type": "markdown",
      "id": "f8f0c098",
      "metadata": {
        "id": "f8f0c098"
      },
      "source": [
        "# K-nn"
      ]
    },
    {
      "cell_type": "code",
      "execution_count": 69,
      "id": "7ff94eca",
      "metadata": {
        "id": "7ff94eca"
      },
      "outputs": [],
      "source": [
        "from sklearn.neighbors import KNeighborsRegressor as KNR"
      ]
    },
    {
      "cell_type": "code",
      "execution_count": 124,
      "id": "87c32fce",
      "metadata": {
        "id": "87c32fce"
      },
      "outputs": [],
      "source": [
        "model = KNR(n_neighbors = 5)    # Initially assigning the k value as 5 i.e. it will check for 5 nearest neighbours"
      ]
    },
    {
      "cell_type": "code",
      "execution_count": 125,
      "id": "a2e49460",
      "metadata": {
        "id": "a2e49460",
        "colab": {
          "base_uri": "https://localhost:8080/"
        },
        "outputId": "72cbec41-bc66-4bc3-da53-3187ee8eb218"
      },
      "outputs": [
        {
          "output_type": "execute_result",
          "data": {
            "text/plain": [
              "KNeighborsRegressor()"
            ]
          },
          "metadata": {},
          "execution_count": 125
        }
      ],
      "source": [
        "model.fit(X_train, y_train)"
      ]
    },
    {
      "cell_type": "code",
      "execution_count": 126,
      "id": "e1578fe3",
      "metadata": {
        "id": "e1578fe3"
      },
      "outputs": [],
      "source": [
        "y_train_pred_KNR = model.predict(X_train)"
      ]
    },
    {
      "cell_type": "code",
      "execution_count": 127,
      "id": "83a83fc0",
      "metadata": {
        "id": "83a83fc0"
      },
      "outputs": [],
      "source": [
        "y_test_pred_KNR = model.predict(X_test)"
      ]
    },
    {
      "cell_type": "code",
      "execution_count": 128,
      "id": "164eff25",
      "metadata": {
        "id": "164eff25"
      },
      "outputs": [],
      "source": [
        "import numpy as np\n",
        "from sklearn.metrics import mean_squared_log_error, mean_squared_error, mean_absolute_error\n",
        "from sklearn.metrics import r2_score"
      ]
    },
    {
      "cell_type": "code",
      "execution_count": 129,
      "id": "e499eee4",
      "metadata": {
        "id": "e499eee4",
        "colab": {
          "base_uri": "https://localhost:8080/"
        },
        "outputId": "74fb2a16-8317-4981-c274-d62fdb7360ee"
      },
      "outputs": [
        {
          "output_type": "stream",
          "name": "stdout",
          "text": [
            "MAE: 142550.2551843318\n",
            "MSE: 85992239346.32675\n",
            "RMSE: 293244.3338690907\n",
            "R2 score: 0.7356299343259087\n"
          ]
        }
      ],
      "source": [
        "#For train set\n",
        "mae = mean_absolute_error(y_train, y_train_pred_KNR)\n",
        "mse = mean_squared_error(y_train, y_train_pred_KNR)\n",
        "rmse = np.sqrt(mean_squared_error(y_train, y_train_pred_KNR))\n",
        "r2 = r2_score(y_train, y_train_pred_KNR)\n",
        "\n",
        "print(\"MAE:\", mae)\n",
        "print(\"MSE:\", mse)\n",
        "print(\"RMSE:\", rmse)\n",
        "print(\"R2 score:\", r2)\n"
      ]
    },
    {
      "cell_type": "code",
      "execution_count": 131,
      "id": "9b2df9b4",
      "metadata": {
        "id": "9b2df9b4",
        "colab": {
          "base_uri": "https://localhost:8080/"
        },
        "outputId": "e525c79d-8424-4bcf-fe0c-ebb8ea5d9b8a"
      },
      "outputs": [
        {
          "output_type": "stream",
          "name": "stdout",
          "text": [
            "MAE: 171327.665437788\n",
            "MSE: 105056643655.59538\n",
            "RMSE: 324124.4261940087\n",
            "R2 score: 0.717096261214482\n"
          ]
        }
      ],
      "source": [
        "#For test set\n",
        "mae = mean_absolute_error(y_test, y_test_pred_KNR)\n",
        "mse = mean_squared_error(y_test, y_test_pred_KNR)\n",
        "rmse = np.sqrt(mean_squared_error(y_test, y_test_pred_KNR))\n",
        "r2 = r2_score(y_test, y_test_pred_KNR)\n",
        "\n",
        "print(\"MAE:\", mae)\n",
        "print(\"MSE:\", mse)\n",
        "print(\"RMSE:\", rmse)\n",
        "print(\"R2 score:\", r2)"
      ]
    },
    {
      "cell_type": "code",
      "execution_count": 77,
      "id": "2ec09b14",
      "metadata": {
        "id": "2ec09b14",
        "colab": {
          "base_uri": "https://localhost:8080/",
          "height": 308
        },
        "outputId": "7e4f9f8a-5fc5-490d-9ad2-60ab0e14af87"
      },
      "outputs": [
        {
          "output_type": "execute_result",
          "data": {
            "text/plain": [
              "<matplotlib.axes._subplots.AxesSubplot at 0x7f4115b22bd0>"
            ]
          },
          "metadata": {},
          "execution_count": 77
        },
        {
          "output_type": "display_data",
          "data": {
            "text/plain": [
              "<Figure size 432x288 with 1 Axes>"
            ],
            "image/png": "[encoded data removed]"
          },
          "metadata": {
            "needs_background": "light"
          }
        }
      ],
      "source": [
        "sns.regplot(y_test, y_test_pred_KNR)"
      ]
    },
    {
      "cell_type": "markdown",
      "id": "dffc668a",
      "metadata": {
        "id": "dffc668a"
      },
      "source": [
        "The KNN model can explain 71.7% variability of the dependent variable for test set and for train set it can explain 78.75% variability of the dependent variable"
      ]
    },
    {
      "cell_type": "markdown",
      "id": "9cff2dc2",
      "metadata": {
        "id": "9cff2dc2"
      },
      "source": [
        "# Hyper parameter tuning and Grid Search"
      ]
    },
    {
      "cell_type": "code",
      "execution_count": 79,
      "id": "5c780ffd",
      "metadata": {
        "id": "5c780ffd"
      },
      "outputs": [],
      "source": [
        "from sklearn.model_selection import GridSearchCV\n",
        "from sklearn.model_selection import cross_val_score\n",
        "\n",
        "params = {'n_neighbors': np.arange(3,50,2),'weights':['uniform', 'distance'],'p':[1,2]}# p=1--> manhattan distance,\n",
        "                                                                                         # p=2--> euclidean distance\n",
        "                                                                                         # Weight=uniform --> all points are\n",
        "                                                                                         #        weighted equally\n",
        "                                                                                         # Weight=distance --> Weight points by\n",
        "                                                                                         #   the inverse of their distance"
      ]
    },
    {
      "cell_type": "code",
      "execution_count": 80,
      "id": "4cc076ad",
      "metadata": {
        "id": "4cc076ad",
        "colab": {
          "base_uri": "https://localhost:8080/"
        },
        "outputId": "8a18868a-5279-4435-bfff-ca3c5e454824"
      },
      "outputs": [
        {
          "output_type": "execute_result",
          "data": {
            "text/plain": [
              "GridSearchCV(cv=5, estimator=KNeighborsRegressor(n_neighbors=30),\n",
              "             param_grid={'n_neighbors': array([ 3,  5,  7,  9, 11, 13, 15, 17, 19, 21, 23, 25, 27, 29, 31, 33, 35,\n",
              "       37, 39, 41, 43, 45, 47, 49]),\n",
              "                         'p': [1, 2], 'weights': ['uniform', 'distance']})"
            ]
          },
          "metadata": {},
          "execution_count": 80
        }
      ],
      "source": [
        "gserach = GridSearchCV(estimator=model,param_grid=params,cv=5)\n",
        "\n",
        "gserach.fit(X_train,y_train)"
      ]
    },
    {
      "cell_type": "code",
      "execution_count": 81,
      "id": "6edc87f4",
      "metadata": {
        "id": "6edc87f4",
        "colab": {
          "base_uri": "https://localhost:8080/"
        },
        "outputId": "dec57511-a42a-425b-8eb4-7f3d1eddddda"
      },
      "outputs": [
        {
          "output_type": "execute_result",
          "data": {
            "text/plain": [
              "{'n_neighbors': 37, 'p': 1, 'weights': 'distance'}"
            ]
          },
          "metadata": {},
          "execution_count": 81
        }
      ],
      "source": [
        "gserach.best_params_"
      ]
    },
    {
      "cell_type": "code",
      "execution_count": 82,
      "id": "0829bfb6",
      "metadata": {
        "id": "0829bfb6"
      },
      "outputs": [],
      "source": [
        "model_best = KNR(n_neighbors = 37, p=1,weights='distance')"
      ]
    },
    {
      "cell_type": "code",
      "execution_count": 83,
      "id": "63936980",
      "metadata": {
        "id": "63936980",
        "colab": {
          "base_uri": "https://localhost:8080/"
        },
        "outputId": "e12435bc-5241-47cf-a946-adfbd7764298"
      },
      "outputs": [
        {
          "output_type": "execute_result",
          "data": {
            "text/plain": [
              "KNeighborsRegressor(n_neighbors=37, p=1, weights='distance')"
            ]
          },
          "metadata": {},
          "execution_count": 83
        }
      ],
      "source": [
        "model_best.fit(X_train, y_train)"
      ]
    },
    {
      "cell_type": "code",
      "execution_count": 84,
      "id": "797d2ecc",
      "metadata": {
        "id": "797d2ecc"
      },
      "outputs": [],
      "source": [
        "y_train_pred_KNR = model_best.predict(X_train)"
      ]
    },
    {
      "cell_type": "code",
      "execution_count": 85,
      "id": "68dd29e8",
      "metadata": {
        "id": "68dd29e8"
      },
      "outputs": [],
      "source": [
        "y_test_pred_KNR = model_best.predict(X_test)"
      ]
    },
    {
      "cell_type": "code",
      "execution_count": 86,
      "id": "19945253",
      "metadata": {
        "id": "19945253",
        "colab": {
          "base_uri": "https://localhost:8080/"
        },
        "outputId": "37867976-77ca-4945-f03f-69cf04d44f68"
      },
      "outputs": [
        {
          "output_type": "stream",
          "name": "stdout",
          "text": [
            "MAE: 50504.666871794674\n",
            "MSE: 12589347703.57145\n",
            "RMSE: 112202.26247082297\n",
            "R2 score: 0.9612959645604423\n"
          ]
        }
      ],
      "source": [
        "#For train set\n",
        "mae = mean_absolute_error(y_train, y_train_pred_KNR)\n",
        "mse = mean_squared_error(y_train, y_train_pred_KNR)\n",
        "rmse = np.sqrt(mean_squared_error(y_train, y_train_pred_KNR))\n",
        "r2 = r2_score(y_train, y_train_pred_KNR)\n",
        "\n",
        "print(\"MAE:\", mae)\n",
        "print(\"MSE:\", mse)\n",
        "print(\"RMSE:\", rmse)\n",
        "print(\"R2 score:\", r2)"
      ]
    },
    {
      "cell_type": "code",
      "execution_count": 87,
      "id": "5211f407",
      "metadata": {
        "id": "5211f407",
        "colab": {
          "base_uri": "https://localhost:8080/"
        },
        "outputId": "bd52be1c-b9a7-4fc4-a6fc-758252e732dd"
      },
      "outputs": [
        {
          "output_type": "stream",
          "name": "stdout",
          "text": [
            "MAE: 141829.96707466958\n",
            "MSE: 77965788571.28197\n",
            "RMSE: 279223.5458754902\n",
            "R2 score: 0.7900483746988417\n"
          ]
        }
      ],
      "source": [
        "#For test set\n",
        "#For train set\n",
        "mae = mean_absolute_error(y_test, y_test_pred_KNR)\n",
        "mse = mean_squared_error(y_test, y_test_pred_KNR)\n",
        "rmse = np.sqrt(mean_squared_error(y_test, y_test_pred_KNR))\n",
        "r2 = r2_score(y_test, y_test_pred_KNR)\n",
        "\n",
        "print(\"MAE:\", mae)\n",
        "print(\"MSE:\", mse)\n",
        "print(\"RMSE:\", rmse)\n",
        "print(\"R2 score:\", r2)"
      ]
    },
    {
      "cell_type": "code",
      "execution_count": 88,
      "id": "658769ee",
      "metadata": {
        "id": "658769ee",
        "colab": {
          "base_uri": "https://localhost:8080/",
          "height": 308
        },
        "outputId": "2cc41bd4-7d4a-480b-e5b4-d593144a3fea"
      },
      "outputs": [
        {
          "output_type": "execute_result",
          "data": {
            "text/plain": [
              "<matplotlib.axes._subplots.AxesSubplot at 0x7f41159e7f90>"
            ]
          },
          "metadata": {},
          "execution_count": 88
        },
        {
          "output_type": "display_data",
          "data": {
            "text/plain": [
              "<Figure size 432x288 with 1 Axes>"
            ],
            "image/png": "[encoded data removed]"
          },
          "metadata": {
            "needs_background": "light"
          }
        }
      ],
      "source": [
        "sns.regplot(y_test, y_test_pred_KNR)"
      ]
    },
    {
      "cell_type": "markdown",
      "id": "1ea10ad6",
      "metadata": {
        "id": "1ea10ad6"
      },
      "source": [
        "After Grid Search we got the k value as 37 as the best parameter applying which for the test set R2 score increase from 71.7% to 79%."
      ]
    },
    {
      "cell_type": "markdown",
      "id": "986b5e1c",
      "metadata": {
        "id": "986b5e1c"
      },
      "source": [
        "# Decision Tree Regression"
      ]
    },
    {
      "cell_type": "code",
      "execution_count": 89,
      "id": "910301fd",
      "metadata": {
        "id": "910301fd"
      },
      "outputs": [],
      "source": [
        "from sklearn.tree import DecisionTreeRegressor\n",
        "tree_reg = DecisionTreeRegressor()"
      ]
    },
    {
      "cell_type": "code",
      "execution_count": 90,
      "id": "1b3140f2",
      "metadata": {
        "id": "1b3140f2",
        "colab": {
          "base_uri": "https://localhost:8080/"
        },
        "outputId": "cbd15b67-d018-48aa-b281-d2b2644a3973"
      },
      "outputs": [
        {
          "output_type": "execute_result",
          "data": {
            "text/plain": [
              "DecisionTreeRegressor()"
            ]
          },
          "metadata": {},
          "execution_count": 90
        }
      ],
      "source": [
        "tree_reg.fit(X_train, y_train)"
      ]
    },
    {
      "cell_type": "code",
      "execution_count": 91,
      "id": "f36ee398",
      "metadata": {
        "id": "f36ee398"
      },
      "outputs": [],
      "source": [
        "y_pred_train_tree = tree_reg.predict(X_train)"
      ]
    },
    {
      "cell_type": "code",
      "execution_count": 92,
      "id": "aa020895",
      "metadata": {
        "id": "aa020895"
      },
      "outputs": [],
      "source": [
        "y_pred_test_tree = tree_reg.predict(X_test)"
      ]
    },
    {
      "cell_type": "code",
      "execution_count": 93,
      "id": "36d0701d",
      "metadata": {
        "id": "36d0701d",
        "colab": {
          "base_uri": "https://localhost:8080/"
        },
        "outputId": "deb09dd6-dbda-46f3-fb9e-a0af35d0c4c1"
      },
      "outputs": [
        {
          "output_type": "stream",
          "name": "stdout",
          "text": [
            "MAE: 50504.666871794674\n",
            "MSE: 12589347703.57145\n",
            "RMSE: 112202.26247082297\n",
            "R2 score: 0.9612959645604423\n"
          ]
        }
      ],
      "source": [
        "#For train set\n",
        "mae = mean_absolute_error(y_train, y_pred_train_tree)\n",
        "mse = mean_squared_error(y_train, y_pred_train_tree)\n",
        "rmse = np.sqrt(mean_squared_error(y_train, y_pred_train_tree))\n",
        "r2 = r2_score(y_train, y_pred_train_tree)\n",
        "\n",
        "print(\"MAE:\", mae)\n",
        "print(\"MSE:\", mse)\n",
        "print(\"RMSE:\", rmse)\n",
        "print(\"R2 score:\", r2)"
      ]
    },
    {
      "cell_type": "code",
      "execution_count": 94,
      "id": "c4f6c26d",
      "metadata": {
        "id": "c4f6c26d",
        "colab": {
          "base_uri": "https://localhost:8080/"
        },
        "outputId": "5ddf8e71-1ae1-46f4-c416-8d486e96f613"
      },
      "outputs": [
        {
          "output_type": "stream",
          "name": "stdout",
          "text": [
            "MAE: 184914.66227119337\n",
            "MSE: 250113399029.27176\n",
            "RMSE: 500113.3861728476\n",
            "R2 score: 0.32647747687714657\n"
          ]
        }
      ],
      "source": [
        "#For test set\n",
        "mae = mean_absolute_error(y_test, y_pred_test_tree)\n",
        "mse = mean_squared_error(y_test, y_pred_test_tree)\n",
        "rmse = np.sqrt(mean_squared_error(y_test, y_pred_test_tree))\n",
        "r2 = r2_score(y_test, y_pred_test_tree)\n",
        "\n",
        "print(\"MAE:\", mae)\n",
        "print(\"MSE:\", mse)\n",
        "print(\"RMSE:\", rmse)\n",
        "print(\"R2 score:\", r2)"
      ]
    },
    {
      "cell_type": "markdown",
      "id": "11e10ba0",
      "metadata": {
        "id": "11e10ba0"
      },
      "source": [
        "# Random Forest Regression"
      ]
    },
    {
      "cell_type": "code",
      "execution_count": 95,
      "id": "38d1a5ea",
      "metadata": {
        "id": "38d1a5ea"
      },
      "outputs": [],
      "source": [
        "from sklearn.ensemble import RandomForestRegressor\n",
        "forest_reg = RandomForestRegressor()"
      ]
    },
    {
      "cell_type": "code",
      "execution_count": 96,
      "id": "06d2d6c6",
      "metadata": {
        "id": "06d2d6c6",
        "colab": {
          "base_uri": "https://localhost:8080/"
        },
        "outputId": "8b18817c-b826-4468-844f-68c6599656b8"
      },
      "outputs": [
        {
          "output_type": "execute_result",
          "data": {
            "text/plain": [
              "RandomForestRegressor()"
            ]
          },
          "metadata": {},
          "execution_count": 96
        }
      ],
      "source": [
        "forest_reg.fit(X_train, y_train)"
      ]
    },
    {
      "cell_type": "code",
      "execution_count": 97,
      "id": "a5bcfd07",
      "metadata": {
        "id": "a5bcfd07"
      },
      "outputs": [],
      "source": [
        "y_pred_train_forest = forest_reg.predict(X_train)"
      ]
    },
    {
      "cell_type": "code",
      "execution_count": 98,
      "id": "7c5151d6",
      "metadata": {
        "id": "7c5151d6"
      },
      "outputs": [],
      "source": [
        "y_pred_test_forest = forest_reg.predict(X_test)"
      ]
    },
    {
      "cell_type": "code",
      "execution_count": 99,
      "id": "e818ab1b",
      "metadata": {
        "id": "e818ab1b",
        "colab": {
          "base_uri": "https://localhost:8080/"
        },
        "outputId": "40525247-3d89-4962-d2c0-11235413396a"
      },
      "outputs": [
        {
          "output_type": "stream",
          "name": "stdout",
          "text": [
            "MAE: 89370.50953213798\n",
            "MSE: 28805636289.21457\n",
            "RMSE: 169722.23274873145\n",
            "R2 score: 0.9114414508163527\n"
          ]
        }
      ],
      "source": [
        "#For train set\n",
        "mae = mean_absolute_error(y_train, y_pred_train_forest)\n",
        "mse = mean_squared_error(y_train, y_pred_train_forest)\n",
        "rmse = np.sqrt(mean_squared_error(y_train, y_pred_train_forest))\n",
        "r2 = r2_score(y_train, y_pred_train_forest)\n",
        "\n",
        "print(\"MAE:\", mae)\n",
        "print(\"MSE:\", mse)\n",
        "print(\"RMSE:\", rmse)\n",
        "print(\"R2 score:\", r2)"
      ]
    },
    {
      "cell_type": "code",
      "execution_count": 100,
      "id": "8ce51924",
      "metadata": {
        "id": "8ce51924",
        "colab": {
          "base_uri": "https://localhost:8080/"
        },
        "outputId": "f865fff5-1e54-4ec2-f48b-a292df27e3df"
      },
      "outputs": [
        {
          "output_type": "stream",
          "name": "stdout",
          "text": [
            "MAE: 162319.77219599587\n",
            "MSE: 106618108184.14992\n",
            "RMSE: 326524.2842181113\n",
            "R2 score: 0.7128914423878193\n"
          ]
        }
      ],
      "source": [
        "#For test set\n",
        "mae = mean_absolute_error(y_test, y_pred_test_forest)\n",
        "mse = mean_squared_error(y_test, y_pred_test_forest)\n",
        "rmse = np.sqrt(mean_squared_error(y_test, y_pred_test_forest))\n",
        "r2 = r2_score(y_test, y_pred_test_forest)\n",
        "\n",
        "print(\"MAE:\", mae)\n",
        "print(\"MSE:\", mse)\n",
        "print(\"RMSE:\", rmse)\n",
        "print(\"R2 score:\", r2)"
      ]
    },
    {
      "cell_type": "code",
      "execution_count": 101,
      "id": "041b57db",
      "metadata": {
        "id": "041b57db",
        "colab": {
          "base_uri": "https://localhost:8080/",
          "height": 308
        },
        "outputId": "65ec5cce-250b-4d95-9aa8-c6fad1f9c418"
      },
      "outputs": [
        {
          "output_type": "execute_result",
          "data": {
            "text/plain": [
              "<matplotlib.axes._subplots.AxesSubplot at 0x7f4114fd6550>"
            ]
          },
          "metadata": {},
          "execution_count": 101
        },
        {
          "output_type": "display_data",
          "data": {
            "text/plain": [
              "<Figure size 432x288 with 1 Axes>"
            ],
            "image/png": "[encoded data removed]"
          },
          "metadata": {
            "needs_background": "light"
          }
        }
      ],
      "source": [
        "sns.regplot(y_test, y_pred_test_forest)"
      ]
    },
    {
      "cell_type": "markdown",
      "id": "eb1f7ef6",
      "metadata": {
        "id": "eb1f7ef6"
      },
      "source": [
        "Random Forest also seems to be overfitting\n",
        " Will go for Hyperparameter tuning for this model to see the performance using the best parameter value for this model."
      ]
    },
    {
      "cell_type": "markdown",
      "id": "3c31bfa3",
      "metadata": {
        "id": "3c31bfa3"
      },
      "source": [
        "# Hyperparameter Tuning"
      ]
    },
    {
      "cell_type": "code",
      "execution_count": 102,
      "id": "a7ed676d",
      "metadata": {
        "id": "a7ed676d",
        "colab": {
          "base_uri": "https://localhost:8080/"
        },
        "outputId": "2407ac1e-de83-457b-9463-49b9ef48ce61"
      },
      "outputs": [
        {
          "output_type": "stream",
          "name": "stdout",
          "text": [
            "Parameters currently in use:\n",
            "\n",
            "{'bootstrap': True,\n",
            " 'ccp_alpha': 0.0,\n",
            " 'criterion': 'squared_error',\n",
            " 'max_depth': None,\n",
            " 'max_features': 'auto',\n",
            " 'max_leaf_nodes': None,\n",
            " 'max_samples': None,\n",
            " 'min_impurity_decrease': 0.0,\n",
            " 'min_samples_leaf': 1,\n",
            " 'min_samples_split': 2,\n",
            " 'min_weight_fraction_leaf': 0.0,\n",
            " 'n_estimators': 100,\n",
            " 'n_jobs': None,\n",
            " 'oob_score': False,\n",
            " 'random_state': None,\n",
            " 'verbose': 0,\n",
            " 'warm_start': False}\n"
          ]
        }
      ],
      "source": [
        "from pprint import pprint\n",
        "print('Parameters currently in use:\\n')\n",
        "pprint(forest_reg.get_params())"
      ]
    },
    {
      "cell_type": "code",
      "execution_count": 103,
      "id": "652c31b3",
      "metadata": {
        "id": "652c31b3"
      },
      "outputs": [],
      "source": [
        "param_grid = [{'n_estimators':[int(x) for x in np.linspace(start = 80, stop = 300, num = 20)], \n",
        "               'max_features':[2, 4, 6, 8, 10], \n",
        "               'bootstrap': [True, False]}]\n",
        "\n",
        "forest_reg = RandomForestRegressor()\n",
        "grid_search_forest = GridSearchCV(forest_reg, param_grid, cv=5, scoring = 'neg_mean_squared_error')"
      ]
    },
    {
      "cell_type": "code",
      "execution_count": 104,
      "id": "8535d67d",
      "metadata": {
        "id": "8535d67d",
        "colab": {
          "base_uri": "https://localhost:8080/"
        },
        "outputId": "4479b7f2-d788-4a41-8449-2ab5cb1904df"
      },
      "outputs": [
        {
          "output_type": "execute_result",
          "data": {
            "text/plain": [
              "GridSearchCV(cv=5, estimator=RandomForestRegressor(),\n",
              "             param_grid=[{'bootstrap': [True, False],\n",
              "                          'max_features': [2, 4, 6, 8, 10],\n",
              "                          'n_estimators': [80, 91, 103, 114, 126, 137, 149, 161,\n",
              "                                           172, 184, 195, 207, 218, 230, 242,\n",
              "                                           253, 265, 276, 288, 300]}],\n",
              "             scoring='neg_mean_squared_error')"
            ]
          },
          "metadata": {},
          "execution_count": 104
        }
      ],
      "source": [
        "grid_search_forest.fit(X_train, y_train)"
      ]
    },
    {
      "cell_type": "code",
      "execution_count": 105,
      "id": "b384dd84",
      "metadata": {
        "id": "b384dd84",
        "colab": {
          "base_uri": "https://localhost:8080/"
        },
        "outputId": "99ad4b07-ab26-4c0a-9b02-ad988f6429e3"
      },
      "outputs": [
        {
          "output_type": "execute_result",
          "data": {
            "text/plain": [
              "RandomForestRegressor(max_features=2, n_estimators=161)"
            ]
          },
          "metadata": {},
          "execution_count": 105
        }
      ],
      "source": [
        "grid_search_forest.best_estimator_"
      ]
    },
    {
      "cell_type": "code",
      "execution_count": 106,
      "id": "9c28f7e3",
      "metadata": {
        "id": "9c28f7e3"
      },
      "outputs": [],
      "source": [
        "best_model_forest = grid_search_forest.best_estimator_"
      ]
    },
    {
      "cell_type": "code",
      "execution_count": 107,
      "id": "3b7d350e",
      "metadata": {
        "id": "3b7d350e",
        "colab": {
          "base_uri": "https://localhost:8080/"
        },
        "outputId": "641fefaa-8a4c-4eef-ef39-b41ab31e9871"
      },
      "outputs": [
        {
          "output_type": "execute_result",
          "data": {
            "text/plain": [
              "RandomForestRegressor(max_features=2, n_estimators=161)"
            ]
          },
          "metadata": {},
          "execution_count": 107
        }
      ],
      "source": [
        "best_model_forest.fit(X_train, y_train)"
      ]
    },
    {
      "cell_type": "code",
      "execution_count": 108,
      "id": "f4547e10",
      "metadata": {
        "id": "f4547e10"
      },
      "outputs": [],
      "source": [
        "y_pred_train_best_model = best_model_forest.predict(X_train)"
      ]
    },
    {
      "cell_type": "code",
      "source": [
        "y_pred_test_best_model = best_model_forest.predict(X_test)"
      ],
      "metadata": {
        "id": "7aV4s3WKVHZG"
      },
      "id": "7aV4s3WKVHZG",
      "execution_count": 109,
      "outputs": []
    },
    {
      "cell_type": "code",
      "execution_count": 110,
      "id": "b8897576",
      "metadata": {
        "id": "b8897576",
        "colab": {
          "base_uri": "https://localhost:8080/"
        },
        "outputId": "dbbe0f8c-9609-4432-e455-88b1434a6365"
      },
      "outputs": [
        {
          "output_type": "stream",
          "name": "stdout",
          "text": [
            "MAE: 87174.14227656071\n",
            "MSE: 26916852101.398598\n",
            "RMSE: 164063.56116273534\n",
            "R2 score: 0.9172482306324481\n"
          ]
        }
      ],
      "source": [
        "#For train set\n",
        "mae = mean_absolute_error(y_train, y_pred_train_best_model)\n",
        "mse = mean_squared_error(y_train, y_pred_train_best_model)\n",
        "rmse = np.sqrt(mean_squared_error(y_train, y_pred_train_best_model))\n",
        "r2 = r2_score(y_train, y_pred_train_best_model)\n",
        "\n",
        "print(\"MAE:\", mae)\n",
        "print(\"MSE:\", mse)\n",
        "print(\"RMSE:\", rmse)\n",
        "print(\"R2 score:\", r2)"
      ]
    },
    {
      "cell_type": "code",
      "execution_count": 111,
      "id": "1875de16",
      "metadata": {
        "id": "1875de16",
        "colab": {
          "base_uri": "https://localhost:8080/"
        },
        "outputId": "73967500-d3cb-4566-b2fb-922394c96bbd"
      },
      "outputs": [
        {
          "output_type": "stream",
          "name": "stdout",
          "text": [
            "MAE: 155334.59560660514\n",
            "MSE: 90080815204.20447\n",
            "RMSE: 300134.66178401397\n",
            "R2 score: 0.757424199675929\n"
          ]
        }
      ],
      "source": [
        "#For test set\n",
        "mae = mean_absolute_error(y_test, y_pred_test_best_model)\n",
        "mse = mean_squared_error(y_test, y_pred_test_best_model)\n",
        "rmse = np.sqrt(mean_squared_error(y_test, y_pred_test_best_model))\n",
        "r2 = r2_score(y_test, y_pred_test_best_model)\n",
        "\n",
        "print(\"MAE:\", mae)\n",
        "print(\"MSE:\", mse)\n",
        "print(\"RMSE:\", rmse)\n",
        "print(\"R2 score:\", r2)"
      ]
    },
    {
      "cell_type": "code",
      "source": [
        "sns.regplot(y_test, y_pred_test_best_model)"
      ],
      "metadata": {
        "id": "9flrfnY-WNOh",
        "colab": {
          "base_uri": "https://localhost:8080/",
          "height": 308
        },
        "outputId": "b6a51ba9-2d12-41e7-e935-0981684d1ec5"
      },
      "id": "9flrfnY-WNOh",
      "execution_count": 112,
      "outputs": [
        {
          "output_type": "execute_result",
          "data": {
            "text/plain": [
              "<matplotlib.axes._subplots.AxesSubplot at 0x7f4114f2aa10>"
            ]
          },
          "metadata": {},
          "execution_count": 112
        },
        {
          "output_type": "display_data",
          "data": {
            "text/plain": [
              "<Figure size 432x288 with 1 Axes>"
            ],
            "image/png": "[encoded data removed]"
          },
          "metadata": {
            "needs_background": "light"
          }
        }
      ]
    },
    {
      "cell_type": "markdown",
      "source": [
        "After Hyper parameter tuning the RMSE has been reduced for test set and R2 score has been increased fom 73.1% to 76.23%"
      ],
      "metadata": {
        "id": "uk84Dz4AWQTK"
      },
      "id": "uk84Dz4AWQTK"
    },
    {
      "cell_type": "code",
      "source": [
        "from sklearn.ensemble import RandomForestRegressor\n",
        "\n",
        "rf_random = RandomForestRegressor()"
      ],
      "metadata": {
        "id": "m8RQh7CzZjhw"
      },
      "id": "m8RQh7CzZjhw",
      "execution_count": 113,
      "outputs": []
    },
    {
      "cell_type": "code",
      "source": [
        "n_estimators = [int(x) for x in np.linspace(100, 1200, 12)]\n",
        "max_features = ['auto', 'sqrt']\n",
        "max_depth = [int(x) for x in np.linspace(5,30, 6)]\n",
        "min_samples_split = [2,5,10,15,100]\n",
        "min_samples_leaf = [1,2,5,10]"
      ],
      "metadata": {
        "id": "W0fmVpW5ZnXc"
      },
      "id": "W0fmVpW5ZnXc",
      "execution_count": 114,
      "outputs": []
    },
    {
      "cell_type": "code",
      "source": [
        "random_grid = {'n_estimators':n_estimators ,\n",
        "'max_features': max_features,\n",
        "'max_depth':max_depth ,\n",
        "'min_samples_split' :min_samples_split ,\n",
        "'min_samples_leaf' :min_samples_leaf }\n",
        "\n",
        "print(random_grid)"
      ],
      "metadata": {
        "id": "wU5TawneZnav",
        "colab": {
          "base_uri": "https://localhost:8080/"
        },
        "outputId": "7145d478-cf52-4663-86d8-1cab07696f5b"
      },
      "id": "wU5TawneZnav",
      "execution_count": 115,
      "outputs": [
        {
          "output_type": "stream",
          "name": "stdout",
          "text": [
            "{'n_estimators': [100, 200, 300, 400, 500, 600, 700, 800, 900, 1000, 1100, 1200], 'max_features': ['auto', 'sqrt'], 'max_depth': [5, 10, 15, 20, 25, 30], 'min_samples_split': [2, 5, 10, 15, 100], 'min_samples_leaf': [1, 2, 5, 10]}\n"
          ]
        }
      ]
    },
    {
      "cell_type": "code",
      "source": [
        "from sklearn.model_selection import RandomizedSearchCV\n",
        "rf = RandomizedSearchCV(rf_random, param_distributions=random_grid, scoring='neg_mean_squared_error', n_iter=10, cv=5, n_jobs=-1, verbose=2, random_state=42)"
      ],
      "metadata": {
        "id": "Jl2vMBnHZnen"
      },
      "id": "Jl2vMBnHZnen",
      "execution_count": 116,
      "outputs": []
    },
    {
      "cell_type": "code",
      "source": [
        "rf.fit(X_train, y_train)"
      ],
      "metadata": {
        "id": "EOyjX-3sZniI",
        "colab": {
          "base_uri": "https://localhost:8080/"
        },
        "outputId": "7352ddac-6f0e-43fe-bb85-4fbadd73877d"
      },
      "id": "EOyjX-3sZniI",
      "execution_count": 117,
      "outputs": [
        {
          "output_type": "stream",
          "name": "stdout",
          "text": [
            "Fitting 5 folds for each of 10 candidates, totalling 50 fits\n"
          ]
        },
        {
          "output_type": "execute_result",
          "data": {
            "text/plain": [
              "RandomizedSearchCV(cv=5, estimator=RandomForestRegressor(), n_jobs=-1,\n",
              "                   param_distributions={'max_depth': [5, 10, 15, 20, 25, 30],\n",
              "                                        'max_features': ['auto', 'sqrt'],\n",
              "                                        'min_samples_leaf': [1, 2, 5, 10],\n",
              "                                        'min_samples_split': [2, 5, 10, 15,\n",
              "                                                              100],\n",
              "                                        'n_estimators': [100, 200, 300, 400,\n",
              "                                                         500, 600, 700, 800,\n",
              "                                                         900, 1000, 1100,\n",
              "                                                         1200]},\n",
              "                   random_state=42, scoring='neg_mean_squared_error',\n",
              "                   verbose=2)"
            ]
          },
          "metadata": {},
          "execution_count": 117
        }
      ]
    },
    {
      "cell_type": "code",
      "source": [
        "y_train_pred_rf = model.predict(X_train)"
      ],
      "metadata": {
        "id": "88VOGIA8bqTU"
      },
      "id": "88VOGIA8bqTU",
      "execution_count": 118,
      "outputs": []
    },
    {
      "cell_type": "code",
      "source": [
        "y_test_pred_rf = rf.predict(X_test)"
      ],
      "metadata": {
        "id": "o5hZkt7Xas_l"
      },
      "id": "o5hZkt7Xas_l",
      "execution_count": 119,
      "outputs": []
    },
    {
      "cell_type": "code",
      "source": [
        "#For train set\n",
        "mae = mean_absolute_error(y_train, y_train_pred_rf)\n",
        "mse = mean_squared_error(y_train, y_train_pred_rf)\n",
        "rmse = np.sqrt(mean_squared_error(y_train, y_train_pred_rf))\n",
        "r2 = r2_score(y_train, y_train_pred_rf)\n",
        "\n",
        "print(\"MAE:\", mae)\n",
        "print(\"MSE:\", mse)\n",
        "print(\"RMSE:\", rmse)\n",
        "print(\"R2 score:\", r2)"
      ],
      "metadata": {
        "id": "KAAoVa7fatI3",
        "colab": {
          "base_uri": "https://localhost:8080/"
        },
        "outputId": "b981c286-eb92-42eb-e79d-5531958254f4"
      },
      "id": "KAAoVa7fatI3",
      "execution_count": 120,
      "outputs": [
        {
          "output_type": "stream",
          "name": "stdout",
          "text": [
            "MAE: 167079.69361559142\n",
            "MSE: 125139985853.81067\n",
            "RMSE: 353751.30509131786\n",
            "R2 score: 0.6152761396829473\n"
          ]
        }
      ]
    },
    {
      "cell_type": "code",
      "source": [
        "#For test set\n",
        "mae = mean_absolute_error(y_test, y_test_pred_rf)\n",
        "mse = mean_squared_error(y_test, y_test_pred_rf)\n",
        "rmse = np.sqrt(mean_squared_error(y_test, y_test_pred_rf))\n",
        "r2 = r2_score(y_test, y_test_pred_rf)\n",
        "\n",
        "print(\"MAE:\", mae)\n",
        "print(\"MSE:\", mse)\n",
        "print(\"RMSE:\", rmse)\n",
        "print(\"R2 score:\", r2)"
      ],
      "metadata": {
        "id": "S6_lD7eWbfJX",
        "colab": {
          "base_uri": "https://localhost:8080/"
        },
        "outputId": "2fef33dd-ddf3-4345-98f5-49e95ea5be8e"
      },
      "id": "S6_lD7eWbfJX",
      "execution_count": 121,
      "outputs": [
        {
          "output_type": "stream",
          "name": "stdout",
          "text": [
            "MAE: 173898.21705054652\n",
            "MSE: 99251832684.6019\n",
            "RMSE: 315042.5886838189\n",
            "R2 score: 0.7327278545101982\n"
          ]
        }
      ]
    },
    {
      "cell_type": "code",
      "source": [
        "sns.regplot(y_test, y_test_pred_rf)"
      ],
      "metadata": {
        "id": "kZXOTwF9cqBg",
        "colab": {
          "base_uri": "https://localhost:8080/",
          "height": 308
        },
        "outputId": "41eaa6ff-8a97-4df8-e7fb-11112803c564"
      },
      "id": "kZXOTwF9cqBg",
      "execution_count": 122,
      "outputs": [
        {
          "output_type": "execute_result",
          "data": {
            "text/plain": [
              "<matplotlib.axes._subplots.AxesSubplot at 0x7f412659bb90>"
            ]
          },
          "metadata": {},
          "execution_count": 122
        },
        {
          "output_type": "display_data",
          "data": {
            "text/plain": [
              "<Figure size 432x288 with 1 Axes>"
            ],
            "image/png": "[encoded data removed]"
          },
          "metadata": {
            "needs_background": "light"
          }
        }
      ]
    }
  ],
  "metadata": {
    "kernelspec": {
      "display_name": "Python 3 (ipykernel)",
      "language": "python",
      "name": "python3"
    },
    "language_info": {
      "codemirror_mode": {
        "name": "ipython",
        "version": 3
      },
      "file_extension": ".py",
      "mimetype": "text/x-python",
      "name": "python",
      "nbconvert_exporter": "python",
      "pygments_lexer": "ipython3",
      "version": "3.9.7"
    },
    "colab": {
      "name": "FINAL_ALGO.ipynb",
      "provenance": [],
      "collapsed_sections": [
        "9cc3912b",
        "dffc668a"
      ]
    }
  },
  "nbformat": 4,
  "nbformat_minor": 5
}